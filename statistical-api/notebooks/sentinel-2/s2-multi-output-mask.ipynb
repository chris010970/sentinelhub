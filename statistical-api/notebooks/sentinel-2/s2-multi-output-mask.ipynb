{
 "cells": [
  {
   "cell_type": "markdown",
   "id": "100b31ab",
   "metadata": {},
   "source": [
    "# Statistical API Multiple Output and Data Mask Demonstrator"
   ]
  },
  {
   "cell_type": "code",
   "execution_count": 1,
   "id": "7c6555ff",
   "metadata": {},
   "outputs": [],
   "source": [
    "import os\n",
    "import yaml\n",
    "from munch import munchify"
   ]
  },
  {
   "cell_type": "markdown",
   "id": "928f3390",
   "metadata": {},
   "source": [
    "### _Setup configuration and environment_"
   ]
  },
  {
   "cell_type": "code",
   "execution_count": 2,
   "id": "854b8940",
   "metadata": {},
   "outputs": [],
   "source": [
    "# define repo name and get root working directory\n",
    "repo = 'statistical-api'\n",
    "root_path = os.getcwd()[ 0 : os.getcwd().find( repo ) + len ( repo )]\n",
    "\n",
    "# get path to configuration files\n",
    "cfg_path = os.path.join( root_path, 'cfg' )\n",
    "cfg_path = os.path.join( cfg_path, 'sentinel-2' )"
   ]
  },
  {
   "cell_type": "code",
   "execution_count": 3,
   "id": "31a14acb",
   "metadata": {},
   "outputs": [
    {
     "data": {
      "text/plain": [
       "'C:\\\\Users\\\\crwil\\\\Documents\\\\GitHub\\\\sentinelhub\\\\statistical-api\\\\cfg\\\\sentinel-2'"
      ]
     },
     "execution_count": 3,
     "metadata": {},
     "output_type": "execute_result"
    }
   ],
   "source": [
    "# get path to configuration files\n",
    "cfg_path = os.path.join( root_path, 'cfg' )\n",
    "cfg_path = os.path.join( cfg_path, 'sentinel-2' )\n",
    "cfg_path"
   ]
  },
  {
   "cell_type": "code",
   "execution_count": 4,
   "id": "5543aa9f",
   "metadata": {},
   "outputs": [],
   "source": [
    "# get pathname to configuration file\n",
    "cfg_file = os.path.join( cfg_path, 's2-multi-output-mask.yml' )"
   ]
  },
  {
   "cell_type": "code",
   "execution_count": 5,
   "id": "fb957a9f",
   "metadata": {},
   "outputs": [
    {
     "name": "stdout",
     "output_type": "stream",
     "text": [
      "request:\n",
      "    evalscript: |       \n",
      "                //VERSION=3\n",
      "                function setup() {\n",
      "                    return {\n",
      "                        input: [{\n",
      "                            bands: [\n",
      "                                \"B04\",\n",
      "                                \"B08\",\n",
      "                                \"SCL\",\n",
      "                                \"dataMask\"\n",
      "                            ]\n",
      "                        }],\n",
      "                        output: [\n",
      "                        {\n",
      "                            id: \"output_my_bands\",\n",
      "                            bands: [\"only_band_B04\", \"only_band_B08\"],\n",
      "                            sampleType: \"FLOAT32\"\n",
      "                        },\n",
      "                        {\n",
      "                            id: \"output_my_indices\",\n",
      "                            bands: 1,\n",
      "                            sampleType: \"FLOAT32\"\n",
      "                        },\n",
      "                        {\n",
      "                            id: \"output_scl\",\n",
      "                            bands: 1,\n",
      "                            sampleType: \"UINT8\"\n",
      "                        },\n",
      "                        {\n",
      "                            id: \"dataMask\",\n",
      "                            bands: [\"output_my_bands\", \"output_my_indices\"]\n",
      "                        }]\n",
      "                    }\n",
      "                }\n",
      "                function evaluatePixel(samples) {\n",
      "                    let ndvi = (samples.B08 - samples.B04)/(samples.B08 + samples.B04)\n",
      "                    var validNDVIMask = 1\n",
      "                    if (samples.B08 + samples.B04 == 0 ){\n",
      "                        validNDVIMask = 0\n",
      "                    }\n",
      "                    var noWaterMask = 1\n",
      "                    if (samples.SCL == 6 ){\n",
      "                        noWaterMask = 0\n",
      "                    }\n",
      "                    return {\n",
      "                        output_my_bands: [samples.B04, samples.B08],\n",
      "                        output_my_indices: [ndvi],\n",
      "                        output_scl: [samples.SCL],\n",
      "                        dataMask: [samples.dataMask, samples.dataMask * noWaterMask * validNDVIMask]\n",
      "                    }\n",
      "                }\n",
      "    inputs:\n",
      "        - collection: SENTINEL2_L2A    \n",
      "          mosaic:\n",
      "            order: leastRecent\n",
      "responses:\n",
      "    output_my_bands:\n",
      "        histograms:\n",
      "            only_band_B08:\n",
      "                nBins: 3\n",
      "                lowEdge: 0.0\n",
      "                highEdge: 0.3\n",
      "        statistics:\n",
      "            only_band_B04:\n",
      "                percentiles:\n",
      "                    k: [33, 66,100]\n",
      "    output_scl:\n",
      "        histograms:\n",
      "            default:\n",
      "                bins: [0,1,2,3,4,5,6,7,8,9,10,11]\n",
      "    default:\n",
      "        histograms:\n",
      "            default:\n",
      "                binWidth: 0.05\n",
      "                lowEdge: 0.0\n",
      "\n"
     ]
    }
   ],
   "source": [
    "# print contents of configuration file\n",
    "with open( cfg_file ) as f:\n",
    "    print ( f.read() )"
   ]
  },
  {
   "cell_type": "code",
   "execution_count": 6,
   "id": "cedfa8ac",
   "metadata": {},
   "outputs": [
    {
     "data": {
      "text/plain": [
       "Munch({'request': Munch({'evalscript': '//VERSION=3\\nfunction setup() {\\n    return {\\n        input: [{\\n            bands: [\\n                \"B04\",\\n                \"B08\",\\n                \"SCL\",\\n                \"dataMask\"\\n            ]\\n        }],\\n        output: [\\n        {\\n            id: \"output_my_bands\",\\n            bands: [\"only_band_B04\", \"only_band_B08\"],\\n            sampleType: \"FLOAT32\"\\n        },\\n        {\\n            id: \"output_my_indices\",\\n            bands: 1,\\n            sampleType: \"FLOAT32\"\\n        },\\n        {\\n            id: \"output_scl\",\\n            bands: 1,\\n            sampleType: \"UINT8\"\\n        },\\n        {\\n            id: \"dataMask\",\\n            bands: [\"output_my_bands\", \"output_my_indices\"]\\n        }]\\n    }\\n}\\nfunction evaluatePixel(samples) {\\n    let ndvi = (samples.B08 - samples.B04)/(samples.B08 + samples.B04)\\n    var validNDVIMask = 1\\n    if (samples.B08 + samples.B04 == 0 ){\\n        validNDVIMask = 0\\n    }\\n    var noWaterMask = 1\\n    if (samples.SCL == 6 ){\\n        noWaterMask = 0\\n    }\\n    return {\\n        output_my_bands: [samples.B04, samples.B08],\\n        output_my_indices: [ndvi],\\n        output_scl: [samples.SCL],\\n        dataMask: [samples.dataMask, samples.dataMask * noWaterMask * validNDVIMask]\\n    }\\n}\\n', 'inputs': [Munch({'collection': 'SENTINEL2_L2A', 'mosaic': Munch({'order': 'leastRecent'})})]}), 'responses': Munch({'output_my_bands': Munch({'histograms': Munch({'only_band_B08': Munch({'nBins': 3, 'lowEdge': 0.0, 'highEdge': 0.3})}), 'statistics': Munch({'only_band_B04': Munch({'percentiles': Munch({'k': [33, 66, 100]})})})}), 'output_scl': Munch({'histograms': Munch({'default': Munch({'bins': [0, 1, 2, 3, 4, 5, 6, 7, 8, 9, 10, 11]})})}), 'default': Munch({'histograms': Munch({'default': Munch({'binWidth': 0.05, 'lowEdge': 0.0})})})})})"
      ]
     },
     "execution_count": 6,
     "metadata": {},
     "output_type": "execute_result"
    }
   ],
   "source": [
    "# load cfg file using yaml parser\n",
    "with open( cfg_file, 'r' ) as f:\n",
    "    config = munchify( yaml.safe_load( f ) )\n",
    "config"
   ]
  },
  {
   "cell_type": "markdown",
   "id": "5fcf8145",
   "metadata": {},
   "source": [
    "### _Replicate use case results taken from Sentinel-Hub documentation_"
   ]
  },
  {
   "cell_type": "code",
   "execution_count": 7,
   "id": "d053cd7b",
   "metadata": {},
   "outputs": [],
   "source": [
    "# define aggregation timeframe\n",
    "from datetime import datetime\n",
    "timeframe = { 'start' : datetime.strptime('2020-07-01', '%Y-%m-%d'), \n",
    "              'end' : datetime.strptime('2020-07-15', '%Y-%m-%d') }"
   ]
  },
  {
   "cell_type": "code",
   "execution_count": 8,
   "id": "2ce7ee98",
   "metadata": {},
   "outputs": [],
   "source": [
    "# create instance of shclient class\n",
    "from statisticalapi import Client\n",
    "client = Client( config )"
   ]
  },
  {
   "cell_type": "code",
   "execution_count": 9,
   "id": "88323199",
   "metadata": {},
   "outputs": [],
   "source": [
    "from sentinelhub import CRS\n",
    "\n",
    "# define min and max latlons\n",
    "coords = 414315, 4958219, 414859, 4958819\n",
    "crs = CRS( 32633 )\n",
    "bbox = client.getBoundingBox( coords, src_crs=crs )"
   ]
  },
  {
   "cell_type": "code",
   "execution_count": 10,
   "id": "b7a7d5e0",
   "metadata": {},
   "outputs": [],
   "source": [
    "# submit request\n",
    "response = client.getStatistics( [ timeframe ], resolution=20, bbox=bbox, interval='P5D' )"
   ]
  },
  {
   "cell_type": "code",
   "execution_count": 11,
   "id": "6149548b",
   "metadata": {},
   "outputs": [
    {
     "data": {
      "text/html": [
       "<div>\n",
       "<style scoped>\n",
       "    .dataframe tbody tr th:only-of-type {\n",
       "        vertical-align: middle;\n",
       "    }\n",
       "\n",
       "    .dataframe tbody tr th {\n",
       "        vertical-align: top;\n",
       "    }\n",
       "\n",
       "    .dataframe thead th {\n",
       "        text-align: right;\n",
       "    }\n",
       "</style>\n",
       "<table border=\"1\" class=\"dataframe\">\n",
       "  <thead>\n",
       "    <tr style=\"text-align: right;\">\n",
       "      <th></th>\n",
       "      <th>interval_from</th>\n",
       "      <th>interval_to</th>\n",
       "      <th>output_my_bands_only_band_B04_min</th>\n",
       "      <th>output_my_bands_only_band_B04_max</th>\n",
       "      <th>output_my_bands_only_band_B04_mean</th>\n",
       "      <th>output_my_bands_only_band_B04_stDev</th>\n",
       "      <th>output_my_bands_only_band_B04_sampleCount</th>\n",
       "      <th>output_my_bands_only_band_B04_noDataCount</th>\n",
       "      <th>output_my_bands_only_band_B04_percentiles_33.0</th>\n",
       "      <th>output_my_bands_only_band_B04_percentiles_66.0</th>\n",
       "      <th>...</th>\n",
       "      <th>output_scl_B0_sampleCount</th>\n",
       "      <th>output_scl_B0_noDataCount</th>\n",
       "      <th>output_scl_B0_histogram</th>\n",
       "      <th>output_my_indices_B0_min</th>\n",
       "      <th>output_my_indices_B0_max</th>\n",
       "      <th>output_my_indices_B0_mean</th>\n",
       "      <th>output_my_indices_B0_stDev</th>\n",
       "      <th>output_my_indices_B0_sampleCount</th>\n",
       "      <th>output_my_indices_B0_noDataCount</th>\n",
       "      <th>output_my_indices_B0_histogram</th>\n",
       "    </tr>\n",
       "  </thead>\n",
       "  <tbody>\n",
       "    <tr>\n",
       "      <th>0</th>\n",
       "      <td>2020-07-01</td>\n",
       "      <td>2020-07-06</td>\n",
       "      <td>0.0804</td>\n",
       "      <td>0.2940</td>\n",
       "      <td>0.114511</td>\n",
       "      <td>0.032770</td>\n",
       "      <td>810</td>\n",
       "      <td>0</td>\n",
       "      <td>0.0972</td>\n",
       "      <td>0.1117</td>\n",
       "      <td>...</td>\n",
       "      <td>810</td>\n",
       "      <td>0</td>\n",
       "      <td>{'bins': [{'lowEdge': 0, 'highEdge': 1, 'count...</td>\n",
       "      <td>-0.040501</td>\n",
       "      <td>0.533831</td>\n",
       "      <td>0.145994</td>\n",
       "      <td>0.156712</td>\n",
       "      <td>810</td>\n",
       "      <td>0</td>\n",
       "      <td>{'bins': [{'lowEdge': 0.0, 'highEdge': 0.05, '...</td>\n",
       "    </tr>\n",
       "    <tr>\n",
       "      <th>1</th>\n",
       "      <td>2020-07-06</td>\n",
       "      <td>2020-07-11</td>\n",
       "      <td>0.0075</td>\n",
       "      <td>0.3789</td>\n",
       "      <td>0.055661</td>\n",
       "      <td>0.060176</td>\n",
       "      <td>810</td>\n",
       "      <td>0</td>\n",
       "      <td>0.0227</td>\n",
       "      <td>0.0444</td>\n",
       "      <td>...</td>\n",
       "      <td>810</td>\n",
       "      <td>0</td>\n",
       "      <td>{'bins': [{'lowEdge': 0, 'highEdge': 1, 'count...</td>\n",
       "      <td>-0.189765</td>\n",
       "      <td>0.858506</td>\n",
       "      <td>0.479659</td>\n",
       "      <td>0.251893</td>\n",
       "      <td>810</td>\n",
       "      <td>428</td>\n",
       "      <td>{'bins': [{'lowEdge': 0.0, 'highEdge': 0.05, '...</td>\n",
       "    </tr>\n",
       "  </tbody>\n",
       "</table>\n",
       "<p>2 rows × 32 columns</p>\n",
       "</div>"
      ],
      "text/plain": [
       "  interval_from interval_to  output_my_bands_only_band_B04_min  \\\n",
       "0    2020-07-01  2020-07-06                             0.0804   \n",
       "1    2020-07-06  2020-07-11                             0.0075   \n",
       "\n",
       "   output_my_bands_only_band_B04_max  output_my_bands_only_band_B04_mean  \\\n",
       "0                             0.2940                            0.114511   \n",
       "1                             0.3789                            0.055661   \n",
       "\n",
       "   output_my_bands_only_band_B04_stDev  \\\n",
       "0                             0.032770   \n",
       "1                             0.060176   \n",
       "\n",
       "   output_my_bands_only_band_B04_sampleCount  \\\n",
       "0                                        810   \n",
       "1                                        810   \n",
       "\n",
       "   output_my_bands_only_band_B04_noDataCount  \\\n",
       "0                                          0   \n",
       "1                                          0   \n",
       "\n",
       "   output_my_bands_only_band_B04_percentiles_33.0  \\\n",
       "0                                          0.0972   \n",
       "1                                          0.0227   \n",
       "\n",
       "   output_my_bands_only_band_B04_percentiles_66.0  ...  \\\n",
       "0                                          0.1117  ...   \n",
       "1                                          0.0444  ...   \n",
       "\n",
       "   output_scl_B0_sampleCount  output_scl_B0_noDataCount  \\\n",
       "0                        810                          0   \n",
       "1                        810                          0   \n",
       "\n",
       "                             output_scl_B0_histogram  \\\n",
       "0  {'bins': [{'lowEdge': 0, 'highEdge': 1, 'count...   \n",
       "1  {'bins': [{'lowEdge': 0, 'highEdge': 1, 'count...   \n",
       "\n",
       "   output_my_indices_B0_min  output_my_indices_B0_max  \\\n",
       "0                 -0.040501                  0.533831   \n",
       "1                 -0.189765                  0.858506   \n",
       "\n",
       "   output_my_indices_B0_mean  output_my_indices_B0_stDev  \\\n",
       "0                   0.145994                    0.156712   \n",
       "1                   0.479659                    0.251893   \n",
       "\n",
       "  output_my_indices_B0_sampleCount  output_my_indices_B0_noDataCount  \\\n",
       "0                              810                                 0   \n",
       "1                              810                               428   \n",
       "\n",
       "                      output_my_indices_B0_histogram  \n",
       "0  {'bins': [{'lowEdge': 0.0, 'highEdge': 0.05, '...  \n",
       "1  {'bins': [{'lowEdge': 0.0, 'highEdge': 0.05, '...  \n",
       "\n",
       "[2 rows x 32 columns]"
      ]
     },
     "execution_count": 11,
     "metadata": {},
     "output_type": "execute_result"
    }
   ],
   "source": [
    "response._dfs[ 0 ]"
   ]
  },
  {
   "cell_type": "code",
   "execution_count": 12,
   "id": "b407f036",
   "metadata": {},
   "outputs": [
    {
     "data": {
      "text/plain": [
       "Index(['interval_from', 'interval_to', 'output_my_bands_only_band_B04_min',\n",
       "       'output_my_bands_only_band_B04_max',\n",
       "       'output_my_bands_only_band_B04_mean',\n",
       "       'output_my_bands_only_band_B04_stDev',\n",
       "       'output_my_bands_only_band_B04_sampleCount',\n",
       "       'output_my_bands_only_band_B04_noDataCount',\n",
       "       'output_my_bands_only_band_B04_percentiles_33.0',\n",
       "       'output_my_bands_only_band_B04_percentiles_66.0',\n",
       "       'output_my_bands_only_band_B04_percentiles_100.0',\n",
       "       'output_my_bands_only_band_B08_min',\n",
       "       'output_my_bands_only_band_B08_max',\n",
       "       'output_my_bands_only_band_B08_mean',\n",
       "       'output_my_bands_only_band_B08_stDev',\n",
       "       'output_my_bands_only_band_B08_sampleCount',\n",
       "       'output_my_bands_only_band_B08_noDataCount',\n",
       "       'output_my_bands_only_band_B08_histogram', 'output_scl_B0_min',\n",
       "       'output_scl_B0_max', 'output_scl_B0_mean', 'output_scl_B0_stDev',\n",
       "       'output_scl_B0_sampleCount', 'output_scl_B0_noDataCount',\n",
       "       'output_scl_B0_histogram', 'output_my_indices_B0_min',\n",
       "       'output_my_indices_B0_max', 'output_my_indices_B0_mean',\n",
       "       'output_my_indices_B0_stDev', 'output_my_indices_B0_sampleCount',\n",
       "       'output_my_indices_B0_noDataCount', 'output_my_indices_B0_histogram'],\n",
       "      dtype='object')"
      ]
     },
     "execution_count": 12,
     "metadata": {},
     "output_type": "execute_result"
    }
   ],
   "source": [
    "response._dfs[ 0 ].columns"
   ]
  },
  {
   "cell_type": "code",
   "execution_count": 16,
   "id": "0abf67cf",
   "metadata": {},
   "outputs": [
    {
     "data": {
      "text/plain": [
       "{'bins': [{'lowEdge': 0.0, 'highEdge': 0.09999999999999999, 'count': 199},\n",
       "  {'lowEdge': 0.09999999999999999,\n",
       "   'highEdge': 0.19999999999999998,\n",
       "   'count': 270},\n",
       "  {'lowEdge': 0.19999999999999998, 'highEdge': 0.3, 'count': 332}],\n",
       " 'overflowCount': 9,\n",
       " 'underflowCount': 0,\n",
       " 'normalised_counts': [25, 34, 41],\n",
       " 'total_counts': 801,\n",
       " 'bin_edges': [0.0, 0.09999999999999999, 0.19999999999999998, 0.3]}"
      ]
     },
     "execution_count": 16,
     "metadata": {},
     "output_type": "execute_result"
    }
   ],
   "source": [
    "response._dfs[ 0 ].iloc[ 0 ][ 'output_my_bands_only_band_B08_histogram' ]"
   ]
  },
  {
   "cell_type": "markdown",
   "id": "c01be352",
   "metadata": {},
   "source": [
    "### _Results extracted from Sentinel-Hub documentation_\n",
    "\n",
    "'only_band_B08': {'stats': {'min': 0.08410000056028366,\n",
    "        'max': 0.3700999915599823,\n",
    "        'mean': 0.16619444458205035,\n",
    "        'stDev': 0.07349787029694223,\n",
    "        'sampleCount': 810,\n",
    "        'noDataCount': 0},\n",
    "       'histogram': {'bins': [{'lowEdge': 0.0,\n",
    "          'highEdge': 0.09999999999999999,\n",
    "          'count': 197},\n",
    "         {'lowEdge': 0.09999999999999999,\n",
    "          'highEdge': 0.19999999999999998,\n",
    "          'count': 275},\n",
    "         {'lowEdge': 0.19999999999999998, 'highEdge': 0.3, 'count': 313}],\n",
    "        'overflowCount': 0,\n",
    "        'underflowCount': 25}}}},"
   ]
  },
  {
   "cell_type": "code",
   "execution_count": 14,
   "id": "64f5eeda",
   "metadata": {},
   "outputs": [
    {
     "data": {
      "text/plain": [
       "{'bins': [{'lowEdge': 0, 'highEdge': 1, 'count': 0},\n",
       "  {'lowEdge': 1, 'highEdge': 2, 'count': 0},\n",
       "  {'lowEdge': 2, 'highEdge': 3, 'count': 0},\n",
       "  {'lowEdge': 3, 'highEdge': 4, 'count': 0},\n",
       "  {'lowEdge': 4, 'highEdge': 5, 'count': 0},\n",
       "  {'lowEdge': 5, 'highEdge': 6, 'count': 0},\n",
       "  {'lowEdge': 6, 'highEdge': 7, 'count': 0},\n",
       "  {'lowEdge': 7, 'highEdge': 8, 'count': 0},\n",
       "  {'lowEdge': 8, 'highEdge': 9, 'count': 99},\n",
       "  {'lowEdge': 9, 'highEdge': 10, 'count': 1},\n",
       "  {'lowEdge': 10, 'highEdge': 11, 'count': 710}],\n",
       " 'overflowCount': 0,\n",
       " 'underflowCount': 0,\n",
       " 'normalised_counts': [0, 0, 0, 0, 0, 0, 0, 0, 12, 0, 88],\n",
       " 'total_counts': 810,\n",
       " 'bin_edges': [0, 1, 2, 3, 4, 5, 6, 7, 8, 9, 10, 11]}"
      ]
     },
     "execution_count": 14,
     "metadata": {},
     "output_type": "execute_result"
    }
   ],
   "source": [
    "response._dfs[ 0 ].iloc[ 0 ][ 'output_scl_B0_histogram' ]"
   ]
  },
  {
   "cell_type": "markdown",
   "id": "50a7e386",
   "metadata": {},
   "source": [
    "### _Results extracted from Sentinel-Hub documentation_\n",
    "\n",
    "'output_scl': {'bands': {'B0': {'stats': {'min': 8.0, 'max': 10.0, 'mean': 9.75432098765432, 'stDev': 0.6555648554361158, 'sampleCount': 810, 'noDataCount': 0}, 'histogram': {'bins': [{'lowEdge': 0, 'highEdge': 1, 'count': 0}, {'lowEdge': 1, 'highEdge': 2, 'count': 0}, {'lowEdge': 2, 'highEdge': 3, 'count': 0}, {'lowEdge': 3, 'highEdge': 4, 'count': 0}, {'lowEdge': 4, 'highEdge': 5, 'count': 0}, {'lowEdge': 5, 'highEdge': 6, 'count': 0}, {'lowEdge': 6, 'highEdge': 7, 'count': 0}, {'lowEdge': 7, 'highEdge': 8, 'count': 0}, {'lowEdge': 8, 'highEdge': 9, 'count': 99}, {'lowEdge': 9, 'highEdge': 10, 'count': 1}, {'lowEdge': 10, 'highEdge': 11, 'count': 710}], 'overflowCount': 0, 'underflowCount': 0}}}}"
   ]
  },
  {
   "cell_type": "code",
   "execution_count": null,
   "id": "2ad900d1",
   "metadata": {},
   "outputs": [],
   "source": []
  }
 ],
 "metadata": {
  "kernelspec": {
   "display_name": "Python 3 (ipykernel)",
   "language": "python",
   "name": "python3"
  },
  "language_info": {
   "codemirror_mode": {
    "name": "ipython",
    "version": 3
   },
   "file_extension": ".py",
   "mimetype": "text/x-python",
   "name": "python",
   "nbconvert_exporter": "python",
   "pygments_lexer": "ipython3",
   "version": "3.9.9"
  }
 },
 "nbformat": 4,
 "nbformat_minor": 5
}
