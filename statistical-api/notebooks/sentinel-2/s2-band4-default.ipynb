{
 "cells": [
  {
   "cell_type": "markdown",
   "id": "b9cd6aba",
   "metadata": {},
   "source": [
    "# Single Band Statistics via Sentinel-Hub Statistical API"
   ]
  },
  {
   "cell_type": "code",
   "execution_count": 1,
   "id": "b5b4bfc5",
   "metadata": {},
   "outputs": [],
   "source": [
    "import os\n",
    "import yaml\n",
    "from munch import munchify"
   ]
  },
  {
   "cell_type": "markdown",
   "id": "c9707775",
   "metadata": {},
   "source": [
    "### _Setup configuration and environment_"
   ]
  },
  {
   "cell_type": "code",
   "execution_count": 2,
   "id": "86782edc",
   "metadata": {},
   "outputs": [],
   "source": [
    "# define repo name and get root working directory\n",
    "repo = 'statistical-api'\n",
    "root_path = os.getcwd()[ 0 : os.getcwd().find( repo ) + len ( repo )]\n",
    "\n",
    "# get path to configuration files\n",
    "cfg_path = os.path.join( root_path, 'cfg' )\n",
    "cfg_path = os.path.join( cfg_path, 'sentinel-2' )"
   ]
  },
  {
   "cell_type": "code",
   "execution_count": 3,
   "id": "2ab01c01",
   "metadata": {},
   "outputs": [
    {
     "data": {
      "text/plain": [
       "'C:\\\\Users\\\\crwil\\\\Documents\\\\GitHub\\\\sentinelhub\\\\statistical-api\\\\cfg\\\\sentinel-2'"
      ]
     },
     "execution_count": 3,
     "metadata": {},
     "output_type": "execute_result"
    }
   ],
   "source": [
    "# get path to configuration files\n",
    "cfg_path = os.path.join( root_path, 'cfg' )\n",
    "cfg_path = os.path.join( cfg_path, 'sentinel-2' )\n",
    "cfg_path"
   ]
  },
  {
   "cell_type": "code",
   "execution_count": 4,
   "id": "0f08918f",
   "metadata": {},
   "outputs": [],
   "source": [
    "# get pathname to configuration file\n",
    "cfg_file = os.path.join( cfg_path, 's2-band4-default.yml' )"
   ]
  },
  {
   "cell_type": "code",
   "execution_count": 5,
   "id": "a7f75cf7",
   "metadata": {},
   "outputs": [
    {
     "name": "stdout",
     "output_type": "stream",
     "text": [
      "request:\n",
      "    evalscript: |       \n",
      "                //VERSION=3\n",
      "                function setup() {\n",
      "                    return {\n",
      "                        input: [{\n",
      "                            bands: [\n",
      "                                \"B04\",\n",
      "                                \"dataMask\"\n",
      "                            ]\n",
      "                        }],\n",
      "                        output: [\n",
      "                        {\n",
      "                            id: \"output_B04\",\n",
      "                            bands: 1,\n",
      "                            sampleType: \"FLOAT32\"\n",
      "                        },\n",
      "                        {\n",
      "                            id: \"dataMask\",\n",
      "                            bands: 1\n",
      "                        } ]\n",
      "                    }\n",
      "                }\n",
      "                function evaluatePixel(samples) {\n",
      "                    return {\n",
      "                        output_B04: [samples.B04],\n",
      "                        dataMask: [samples.dataMask]\n",
      "                    }\n",
      "                }    \n",
      "    inputs:\n",
      "        - collection: SENTINEL2_L2A    \n",
      "          mosaic:\n",
      "            order: leastRecent\n",
      "responses:\n",
      "\n"
     ]
    }
   ],
   "source": [
    "# print contents of configuration file\n",
    "with open( cfg_file ) as f:\n",
    "    print ( f.read() )"
   ]
  },
  {
   "cell_type": "code",
   "execution_count": 6,
   "id": "8cb91398",
   "metadata": {},
   "outputs": [
    {
     "data": {
      "text/plain": [
       "Munch({'request': Munch({'evalscript': '//VERSION=3\\nfunction setup() {\\n    return {\\n        input: [{\\n            bands: [\\n                \"B04\",\\n                \"dataMask\"\\n            ]\\n        }],\\n        output: [\\n        {\\n            id: \"output_B04\",\\n            bands: 1,\\n            sampleType: \"FLOAT32\"\\n        },\\n        {\\n            id: \"dataMask\",\\n            bands: 1\\n        } ]\\n    }\\n}\\nfunction evaluatePixel(samples) {\\n    return {\\n        output_B04: [samples.B04],\\n        dataMask: [samples.dataMask]\\n    }\\n}    \\n', 'inputs': [Munch({'collection': 'SENTINEL2_L2A', 'mosaic': Munch({'order': 'leastRecent'})})]}), 'responses': None})"
      ]
     },
     "execution_count": 6,
     "metadata": {},
     "output_type": "execute_result"
    }
   ],
   "source": [
    "# load cfg file using yaml parser\n",
    "with open( cfg_file, 'r' ) as f:\n",
    "    config = munchify( yaml.safe_load( f ) )\n",
    "config"
   ]
  },
  {
   "cell_type": "markdown",
   "id": "5be0a307",
   "metadata": {},
   "source": [
    "### _Replicate use case results taken from Sentinel-Hub documentation_"
   ]
  },
  {
   "cell_type": "code",
   "execution_count": 7,
   "id": "2b570aa3",
   "metadata": {},
   "outputs": [],
   "source": [
    "from sentinelhub import CRS\n",
    "\n",
    "# define min and max latlons\n",
    "coords = 414315, 4958219, 414859, 4958819\n",
    "crs = CRS( 32633 )\n",
    "\n",
    "resolution = 10"
   ]
  },
  {
   "cell_type": "code",
   "execution_count": 8,
   "id": "e53a6cff",
   "metadata": {},
   "outputs": [],
   "source": [
    "# define aggregation timeframe\n",
    "from datetime import datetime\n",
    "timeframe = { 'start' : datetime.strptime('2020-07-04', '%Y-%m-%d'), \n",
    "              'end' : datetime.strptime('2020-07-05', '%Y-%m-%d') }"
   ]
  },
  {
   "cell_type": "code",
   "execution_count": 9,
   "id": "569dc815",
   "metadata": {},
   "outputs": [],
   "source": [
    "# create instance of shclient class\n",
    "from statisticalapi import Client\n",
    "client = Client( config )"
   ]
  },
  {
   "cell_type": "code",
   "execution_count": 10,
   "id": "0718124a",
   "metadata": {},
   "outputs": [
    {
     "name": "stdout",
     "output_type": "stream",
     "text": [
      "414315.0,4958219.0,414859.0,4958819.0 32633\n"
     ]
    }
   ],
   "source": [
    "# get utm bbox\n",
    "bbox = client.getBoundingBox( coords, src_crs=crs )\n",
    "print ( bbox, bbox.crs.value )"
   ]
  },
  {
   "cell_type": "code",
   "execution_count": 11,
   "id": "96898c42",
   "metadata": {},
   "outputs": [],
   "source": [
    "# submit request\n",
    "response = client.getStatistics( [ timeframe ], resolution=resolution, bbox=bbox )"
   ]
  },
  {
   "cell_type": "code",
   "execution_count": 12,
   "id": "d3e889df",
   "metadata": {},
   "outputs": [
    {
     "data": {
      "text/html": [
       "<div>\n",
       "<style scoped>\n",
       "    .dataframe tbody tr th:only-of-type {\n",
       "        vertical-align: middle;\n",
       "    }\n",
       "\n",
       "    .dataframe tbody tr th {\n",
       "        vertical-align: top;\n",
       "    }\n",
       "\n",
       "    .dataframe thead th {\n",
       "        text-align: right;\n",
       "    }\n",
       "</style>\n",
       "<table border=\"1\" class=\"dataframe\">\n",
       "  <thead>\n",
       "    <tr style=\"text-align: right;\">\n",
       "      <th></th>\n",
       "      <th>interval_from</th>\n",
       "      <th>interval_to</th>\n",
       "      <th>output_B04_B0_min</th>\n",
       "      <th>output_B04_B0_max</th>\n",
       "      <th>output_B04_B0_mean</th>\n",
       "      <th>output_B04_B0_stDev</th>\n",
       "      <th>output_B04_B0_sampleCount</th>\n",
       "      <th>output_B04_B0_noDataCount</th>\n",
       "    </tr>\n",
       "  </thead>\n",
       "  <tbody>\n",
       "    <tr>\n",
       "      <th>0</th>\n",
       "      <td>2020-07-04</td>\n",
       "      <td>2020-07-05</td>\n",
       "      <td>0.0797</td>\n",
       "      <td>0.3096</td>\n",
       "      <td>0.114711</td>\n",
       "      <td>0.034298</td>\n",
       "      <td>3240</td>\n",
       "      <td>0</td>\n",
       "    </tr>\n",
       "  </tbody>\n",
       "</table>\n",
       "</div>"
      ],
      "text/plain": [
       "  interval_from interval_to  output_B04_B0_min  output_B04_B0_max  \\\n",
       "0    2020-07-04  2020-07-05             0.0797             0.3096   \n",
       "\n",
       "   output_B04_B0_mean  output_B04_B0_stDev  output_B04_B0_sampleCount  \\\n",
       "0            0.114711             0.034298                       3240   \n",
       "\n",
       "   output_B04_B0_noDataCount  \n",
       "0                          0  "
      ]
     },
     "execution_count": 12,
     "metadata": {},
     "output_type": "execute_result"
    }
   ],
   "source": [
    "response._dfs[ 0 ]"
   ]
  },
  {
   "cell_type": "markdown",
   "id": "f7c62887",
   "metadata": {},
   "source": [
    "### _Repeat Statistical API request with coarser pixel resolution_"
   ]
  },
  {
   "cell_type": "code",
   "execution_count": 13,
   "id": "2dd72725",
   "metadata": {},
   "outputs": [],
   "source": [
    "# submit request\n",
    "response = client.getStatistics( [ timeframe ], resolution=50, bbox=bbox )"
   ]
  },
  {
   "cell_type": "code",
   "execution_count": 14,
   "id": "6695194d",
   "metadata": {},
   "outputs": [
    {
     "data": {
      "text/html": [
       "<div>\n",
       "<style scoped>\n",
       "    .dataframe tbody tr th:only-of-type {\n",
       "        vertical-align: middle;\n",
       "    }\n",
       "\n",
       "    .dataframe tbody tr th {\n",
       "        vertical-align: top;\n",
       "    }\n",
       "\n",
       "    .dataframe thead th {\n",
       "        text-align: right;\n",
       "    }\n",
       "</style>\n",
       "<table border=\"1\" class=\"dataframe\">\n",
       "  <thead>\n",
       "    <tr style=\"text-align: right;\">\n",
       "      <th></th>\n",
       "      <th>interval_from</th>\n",
       "      <th>interval_to</th>\n",
       "      <th>output_B04_B0_min</th>\n",
       "      <th>output_B04_B0_max</th>\n",
       "      <th>output_B04_B0_mean</th>\n",
       "      <th>output_B04_B0_stDev</th>\n",
       "      <th>output_B04_B0_sampleCount</th>\n",
       "      <th>output_B04_B0_noDataCount</th>\n",
       "    </tr>\n",
       "  </thead>\n",
       "  <tbody>\n",
       "    <tr>\n",
       "      <th>0</th>\n",
       "      <td>2020-07-04</td>\n",
       "      <td>2020-07-05</td>\n",
       "      <td>0.0812</td>\n",
       "      <td>0.2311</td>\n",
       "      <td>0.112804</td>\n",
       "      <td>0.03091</td>\n",
       "      <td>132</td>\n",
       "      <td>0</td>\n",
       "    </tr>\n",
       "  </tbody>\n",
       "</table>\n",
       "</div>"
      ],
      "text/plain": [
       "  interval_from interval_to  output_B04_B0_min  output_B04_B0_max  \\\n",
       "0    2020-07-04  2020-07-05             0.0812             0.2311   \n",
       "\n",
       "   output_B04_B0_mean  output_B04_B0_stDev  output_B04_B0_sampleCount  \\\n",
       "0            0.112804              0.03091                        132   \n",
       "\n",
       "   output_B04_B0_noDataCount  \n",
       "0                          0  "
      ]
     },
     "execution_count": 14,
     "metadata": {},
     "output_type": "execute_result"
    }
   ],
   "source": [
    "response._dfs[ 0 ]"
   ]
  },
  {
   "cell_type": "markdown",
   "id": "aee66e47",
   "metadata": {},
   "source": [
    "### _Repeat Statistical API request for summer of 2020_"
   ]
  },
  {
   "cell_type": "code",
   "execution_count": 15,
   "id": "79b6398a",
   "metadata": {},
   "outputs": [],
   "source": [
    "# define aggregation timeframe\n",
    "timeframe = { 'start' : datetime.strptime('2020-06-01', '%Y-%m-%d'), \n",
    "              'end' : datetime.strptime('2020-08-31', '%Y-%m-%d') }"
   ]
  },
  {
   "cell_type": "code",
   "execution_count": 16,
   "id": "8e7be957",
   "metadata": {},
   "outputs": [],
   "source": [
    "# submit request\n",
    "response = client.getStatistics( [ timeframe ], resolution=10, bbox=bbox, interval=\"P1D\" )"
   ]
  },
  {
   "cell_type": "code",
   "execution_count": 17,
   "id": "171c5b39",
   "metadata": {},
   "outputs": [
    {
     "data": {
      "text/html": [
       "<div>\n",
       "<style scoped>\n",
       "    .dataframe tbody tr th:only-of-type {\n",
       "        vertical-align: middle;\n",
       "    }\n",
       "\n",
       "    .dataframe tbody tr th {\n",
       "        vertical-align: top;\n",
       "    }\n",
       "\n",
       "    .dataframe thead th {\n",
       "        text-align: right;\n",
       "    }\n",
       "</style>\n",
       "<table border=\"1\" class=\"dataframe\">\n",
       "  <thead>\n",
       "    <tr style=\"text-align: right;\">\n",
       "      <th></th>\n",
       "      <th>interval_from</th>\n",
       "      <th>interval_to</th>\n",
       "      <th>output_B04_B0_min</th>\n",
       "      <th>output_B04_B0_max</th>\n",
       "      <th>output_B04_B0_mean</th>\n",
       "      <th>output_B04_B0_stDev</th>\n",
       "      <th>output_B04_B0_sampleCount</th>\n",
       "      <th>output_B04_B0_noDataCount</th>\n",
       "    </tr>\n",
       "  </thead>\n",
       "  <tbody>\n",
       "    <tr>\n",
       "      <th>0</th>\n",
       "      <td>2020-06-04</td>\n",
       "      <td>2020-06-05</td>\n",
       "      <td>0.7892</td>\n",
       "      <td>0.8304</td>\n",
       "      <td>0.804224</td>\n",
       "      <td>0.006707</td>\n",
       "      <td>3240</td>\n",
       "      <td>0</td>\n",
       "    </tr>\n",
       "    <tr>\n",
       "      <th>1</th>\n",
       "      <td>2020-06-09</td>\n",
       "      <td>2020-06-10</td>\n",
       "      <td>0.4916</td>\n",
       "      <td>0.5932</td>\n",
       "      <td>0.534112</td>\n",
       "      <td>0.022862</td>\n",
       "      <td>3240</td>\n",
       "      <td>0</td>\n",
       "    </tr>\n",
       "    <tr>\n",
       "      <th>2</th>\n",
       "      <td>2020-06-14</td>\n",
       "      <td>2020-06-15</td>\n",
       "      <td>0.0163</td>\n",
       "      <td>0.5956</td>\n",
       "      <td>0.062401</td>\n",
       "      <td>0.062665</td>\n",
       "      <td>3240</td>\n",
       "      <td>0</td>\n",
       "    </tr>\n",
       "    <tr>\n",
       "      <th>3</th>\n",
       "      <td>2020-06-19</td>\n",
       "      <td>2020-06-20</td>\n",
       "      <td>0.0087</td>\n",
       "      <td>0.3570</td>\n",
       "      <td>0.046999</td>\n",
       "      <td>0.053215</td>\n",
       "      <td>3240</td>\n",
       "      <td>0</td>\n",
       "    </tr>\n",
       "    <tr>\n",
       "      <th>4</th>\n",
       "      <td>2020-06-24</td>\n",
       "      <td>2020-06-25</td>\n",
       "      <td>0.0260</td>\n",
       "      <td>0.4380</td>\n",
       "      <td>0.068724</td>\n",
       "      <td>0.056520</td>\n",
       "      <td>3240</td>\n",
       "      <td>0</td>\n",
       "    </tr>\n",
       "    <tr>\n",
       "      <th>5</th>\n",
       "      <td>2020-06-29</td>\n",
       "      <td>2020-06-30</td>\n",
       "      <td>0.0091</td>\n",
       "      <td>0.4364</td>\n",
       "      <td>0.063135</td>\n",
       "      <td>0.059460</td>\n",
       "      <td>3240</td>\n",
       "      <td>0</td>\n",
       "    </tr>\n",
       "    <tr>\n",
       "      <th>6</th>\n",
       "      <td>2020-07-04</td>\n",
       "      <td>2020-07-05</td>\n",
       "      <td>0.0797</td>\n",
       "      <td>0.3096</td>\n",
       "      <td>0.114711</td>\n",
       "      <td>0.034298</td>\n",
       "      <td>3240</td>\n",
       "      <td>0</td>\n",
       "    </tr>\n",
       "    <tr>\n",
       "      <th>7</th>\n",
       "      <td>2020-07-09</td>\n",
       "      <td>2020-07-10</td>\n",
       "      <td>0.0068</td>\n",
       "      <td>0.4050</td>\n",
       "      <td>0.055712</td>\n",
       "      <td>0.063567</td>\n",
       "      <td>3240</td>\n",
       "      <td>0</td>\n",
       "    </tr>\n",
       "    <tr>\n",
       "      <th>8</th>\n",
       "      <td>2020-07-14</td>\n",
       "      <td>2020-07-15</td>\n",
       "      <td>0.0174</td>\n",
       "      <td>0.4188</td>\n",
       "      <td>0.062195</td>\n",
       "      <td>0.063177</td>\n",
       "      <td>3240</td>\n",
       "      <td>0</td>\n",
       "    </tr>\n",
       "    <tr>\n",
       "      <th>9</th>\n",
       "      <td>2020-07-19</td>\n",
       "      <td>2020-07-20</td>\n",
       "      <td>0.0039</td>\n",
       "      <td>0.4196</td>\n",
       "      <td>0.053526</td>\n",
       "      <td>0.066718</td>\n",
       "      <td>3240</td>\n",
       "      <td>0</td>\n",
       "    </tr>\n",
       "    <tr>\n",
       "      <th>10</th>\n",
       "      <td>2020-07-24</td>\n",
       "      <td>2020-07-25</td>\n",
       "      <td>0.1392</td>\n",
       "      <td>0.4928</td>\n",
       "      <td>0.314640</td>\n",
       "      <td>0.054701</td>\n",
       "      <td>3240</td>\n",
       "      <td>0</td>\n",
       "    </tr>\n",
       "    <tr>\n",
       "      <th>11</th>\n",
       "      <td>2020-07-29</td>\n",
       "      <td>2020-07-30</td>\n",
       "      <td>0.0190</td>\n",
       "      <td>0.3652</td>\n",
       "      <td>0.060103</td>\n",
       "      <td>0.055285</td>\n",
       "      <td>3240</td>\n",
       "      <td>0</td>\n",
       "    </tr>\n",
       "    <tr>\n",
       "      <th>12</th>\n",
       "      <td>2020-08-03</td>\n",
       "      <td>2020-08-04</td>\n",
       "      <td>0.1454</td>\n",
       "      <td>0.2984</td>\n",
       "      <td>0.183473</td>\n",
       "      <td>0.025266</td>\n",
       "      <td>3240</td>\n",
       "      <td>0</td>\n",
       "    </tr>\n",
       "    <tr>\n",
       "      <th>13</th>\n",
       "      <td>2020-08-08</td>\n",
       "      <td>2020-08-09</td>\n",
       "      <td>0.0084</td>\n",
       "      <td>0.4200</td>\n",
       "      <td>0.053382</td>\n",
       "      <td>0.060359</td>\n",
       "      <td>3240</td>\n",
       "      <td>0</td>\n",
       "    </tr>\n",
       "    <tr>\n",
       "      <th>14</th>\n",
       "      <td>2020-08-13</td>\n",
       "      <td>2020-08-14</td>\n",
       "      <td>0.0176</td>\n",
       "      <td>0.3666</td>\n",
       "      <td>0.059168</td>\n",
       "      <td>0.055200</td>\n",
       "      <td>3240</td>\n",
       "      <td>0</td>\n",
       "    </tr>\n",
       "    <tr>\n",
       "      <th>15</th>\n",
       "      <td>2020-08-18</td>\n",
       "      <td>2020-08-19</td>\n",
       "      <td>1.0472</td>\n",
       "      <td>1.1456</td>\n",
       "      <td>1.094013</td>\n",
       "      <td>0.021389</td>\n",
       "      <td>3240</td>\n",
       "      <td>0</td>\n",
       "    </tr>\n",
       "    <tr>\n",
       "      <th>16</th>\n",
       "      <td>2020-08-23</td>\n",
       "      <td>2020-08-24</td>\n",
       "      <td>0.0115</td>\n",
       "      <td>0.4196</td>\n",
       "      <td>0.054073</td>\n",
       "      <td>0.064089</td>\n",
       "      <td>3240</td>\n",
       "      <td>0</td>\n",
       "    </tr>\n",
       "    <tr>\n",
       "      <th>17</th>\n",
       "      <td>2020-08-28</td>\n",
       "      <td>2020-08-29</td>\n",
       "      <td>0.0117</td>\n",
       "      <td>0.3714</td>\n",
       "      <td>0.062348</td>\n",
       "      <td>0.060405</td>\n",
       "      <td>3240</td>\n",
       "      <td>0</td>\n",
       "    </tr>\n",
       "  </tbody>\n",
       "</table>\n",
       "</div>"
      ],
      "text/plain": [
       "   interval_from interval_to  output_B04_B0_min  output_B04_B0_max  \\\n",
       "0     2020-06-04  2020-06-05             0.7892             0.8304   \n",
       "1     2020-06-09  2020-06-10             0.4916             0.5932   \n",
       "2     2020-06-14  2020-06-15             0.0163             0.5956   \n",
       "3     2020-06-19  2020-06-20             0.0087             0.3570   \n",
       "4     2020-06-24  2020-06-25             0.0260             0.4380   \n",
       "5     2020-06-29  2020-06-30             0.0091             0.4364   \n",
       "6     2020-07-04  2020-07-05             0.0797             0.3096   \n",
       "7     2020-07-09  2020-07-10             0.0068             0.4050   \n",
       "8     2020-07-14  2020-07-15             0.0174             0.4188   \n",
       "9     2020-07-19  2020-07-20             0.0039             0.4196   \n",
       "10    2020-07-24  2020-07-25             0.1392             0.4928   \n",
       "11    2020-07-29  2020-07-30             0.0190             0.3652   \n",
       "12    2020-08-03  2020-08-04             0.1454             0.2984   \n",
       "13    2020-08-08  2020-08-09             0.0084             0.4200   \n",
       "14    2020-08-13  2020-08-14             0.0176             0.3666   \n",
       "15    2020-08-18  2020-08-19             1.0472             1.1456   \n",
       "16    2020-08-23  2020-08-24             0.0115             0.4196   \n",
       "17    2020-08-28  2020-08-29             0.0117             0.3714   \n",
       "\n",
       "    output_B04_B0_mean  output_B04_B0_stDev  output_B04_B0_sampleCount  \\\n",
       "0             0.804224             0.006707                       3240   \n",
       "1             0.534112             0.022862                       3240   \n",
       "2             0.062401             0.062665                       3240   \n",
       "3             0.046999             0.053215                       3240   \n",
       "4             0.068724             0.056520                       3240   \n",
       "5             0.063135             0.059460                       3240   \n",
       "6             0.114711             0.034298                       3240   \n",
       "7             0.055712             0.063567                       3240   \n",
       "8             0.062195             0.063177                       3240   \n",
       "9             0.053526             0.066718                       3240   \n",
       "10            0.314640             0.054701                       3240   \n",
       "11            0.060103             0.055285                       3240   \n",
       "12            0.183473             0.025266                       3240   \n",
       "13            0.053382             0.060359                       3240   \n",
       "14            0.059168             0.055200                       3240   \n",
       "15            1.094013             0.021389                       3240   \n",
       "16            0.054073             0.064089                       3240   \n",
       "17            0.062348             0.060405                       3240   \n",
       "\n",
       "    output_B04_B0_noDataCount  \n",
       "0                           0  \n",
       "1                           0  \n",
       "2                           0  \n",
       "3                           0  \n",
       "4                           0  \n",
       "5                           0  \n",
       "6                           0  \n",
       "7                           0  \n",
       "8                           0  \n",
       "9                           0  \n",
       "10                          0  \n",
       "11                          0  \n",
       "12                          0  \n",
       "13                          0  \n",
       "14                          0  \n",
       "15                          0  \n",
       "16                          0  \n",
       "17                          0  "
      ]
     },
     "execution_count": 17,
     "metadata": {},
     "output_type": "execute_result"
    }
   ],
   "source": [
    "response._dfs[ 0 ]"
   ]
  },
  {
   "cell_type": "code",
   "execution_count": 18,
   "id": "03d664b9",
   "metadata": {},
   "outputs": [
    {
     "data": {
      "text/plain": [
       "<AxesSubplot:xlabel='interval_from'>"
      ]
     },
     "execution_count": 18,
     "metadata": {},
     "output_type": "execute_result"
    },
    {
     "data": {
      "image/png": "[encoded data removed]",
      "text/plain": [
       "<Figure size 432x288 with 1 Axes>"
      ]
     },
     "metadata": {
      "needs_background": "light"
     },
     "output_type": "display_data"
    }
   ],
   "source": [
    "response._dfs[ 0 ].plot( 'interval_from', 'output_B04_B0_mean' )"
   ]
  },
  {
   "cell_type": "code",
   "execution_count": null,
   "id": "b9bdd889",
   "metadata": {},
   "outputs": [],
   "source": []
  }
 ],
 "metadata": {
  "kernelspec": {
   "display_name": "Python 3 (ipykernel)",
   "language": "python",
   "name": "python3"
  },
  "language_info": {
   "codemirror_mode": {
    "name": "ipython",
    "version": 3
   },
   "file_extension": ".py",
   "mimetype": "text/x-python",
   "name": "python",
   "nbconvert_exporter": "python",
   "pygments_lexer": "ipython3",
   "version": "3.9.9"
  }
 },
 "nbformat": 4,
 "nbformat_minor": 5
}
