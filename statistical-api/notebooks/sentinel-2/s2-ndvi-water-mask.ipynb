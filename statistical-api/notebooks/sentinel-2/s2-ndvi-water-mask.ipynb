{
 "cells": [
  {
   "cell_type": "markdown",
   "id": "100b31ab",
   "metadata": {},
   "source": [
    "# Evaluate Monthly Trend of Land Parcel NDVI using Statistical API"
   ]
  },
  {
   "cell_type": "code",
   "execution_count": 1,
   "id": "7c6555ff",
   "metadata": {},
   "outputs": [],
   "source": [
    "import os\n",
    "import yaml\n",
    "from munch import munchify"
   ]
  },
  {
   "cell_type": "markdown",
   "id": "928f3390",
   "metadata": {},
   "source": [
    "### _Setup configuration and environment_"
   ]
  },
  {
   "cell_type": "code",
   "execution_count": 2,
   "id": "854b8940",
   "metadata": {},
   "outputs": [],
   "source": [
    "# define repo name and get root working directory\n",
    "repo = 'statistical-api'\n",
    "root_path = os.getcwd()[ 0 : os.getcwd().find( repo ) + len ( repo )]\n",
    "\n",
    "# get path to configuration files\n",
    "cfg_path = os.path.join( root_path, 'cfg' )\n",
    "cfg_path = os.path.join( cfg_path, 'sentinel-2' )"
   ]
  },
  {
   "cell_type": "code",
   "execution_count": 3,
   "id": "31a14acb",
   "metadata": {},
   "outputs": [
    {
     "data": {
      "text/plain": [
       "'C:\\\\Users\\\\crwil\\\\Documents\\\\GitHub\\\\sentinelhub\\\\statistical-api\\\\cfg\\\\sentinel-2'"
      ]
     },
     "execution_count": 3,
     "metadata": {},
     "output_type": "execute_result"
    }
   ],
   "source": [
    "# get path to configuration files\n",
    "cfg_path = os.path.join( root_path, 'cfg' )\n",
    "cfg_path = os.path.join( cfg_path, 'sentinel-2' )\n",
    "cfg_path"
   ]
  },
  {
   "cell_type": "code",
   "execution_count": 4,
   "id": "5543aa9f",
   "metadata": {},
   "outputs": [],
   "source": [
    "# get pathname to configuration file\n",
    "cfg_file = os.path.join( cfg_path, 's2-ndvi-water-mask.yml' )"
   ]
  },
  {
   "cell_type": "code",
   "execution_count": 5,
   "id": "fb957a9f",
   "metadata": {},
   "outputs": [
    {
     "name": "stdout",
     "output_type": "stream",
     "text": [
      "request:\n",
      "    evalscript: |       \n",
      "\n",
      "                //VERSION=3\n",
      "                function setup() {\n",
      "                    return {\n",
      "                        input: [{\n",
      "                            bands: [\n",
      "                                \"B04\",\n",
      "                                \"B08\",\n",
      "                                \"SCL\",\n",
      "                                \"dataMask\"\n",
      "                            ]\n",
      "                        }],\n",
      "                        output: [\n",
      "                            {\n",
      "                                id: \"data\",\n",
      "                                bands: 1\n",
      "                            },\n",
      "                            {\n",
      "                                id: \"dataMask\",\n",
      "                                bands: 1\n",
      "                            }]\n",
      "                    }\n",
      "                }\n",
      "\n",
      "                function evaluatePixel(samples) {\n",
      "                    let ndvi = (samples.B08 - samples.B04)/(samples.B08 + samples.B04)\n",
      "\n",
      "                    var validNDVIMask = 1\n",
      "                    if (samples.B08 + samples.B04 == 0 ){\n",
      "                        validNDVIMask = 0\n",
      "                    }\n",
      "\n",
      "                    var noWaterMask = 1\n",
      "                    if (samples.SCL == 6 ){\n",
      "                        noWaterMask = 0\n",
      "                    }\n",
      "\n",
      "                    //Exclude nodata pixels, pixels where ndvi is not defined and water pixels from statistics:\n",
      "                    return {\n",
      "                        data: [ndvi],\n",
      "                        dataMask: [samples.dataMask * validNDVIMask * noWaterMask]\n",
      "                    }\n",
      "                }\n",
      "    inputs:\n",
      "        - collection: SENTINEL2_L2A    \n",
      "          mosaic:\n",
      "            order: leastCC\n",
      "responses:\n",
      "\n"
     ]
    }
   ],
   "source": [
    "# print contents of configuration file\n",
    "with open( cfg_file ) as f:\n",
    "    print ( f.read() )"
   ]
  },
  {
   "cell_type": "code",
   "execution_count": 6,
   "id": "cedfa8ac",
   "metadata": {},
   "outputs": [
    {
     "data": {
      "text/plain": [
       "Munch({'request': Munch({'evalscript': '\\n//VERSION=3\\nfunction setup() {\\n    return {\\n        input: [{\\n            bands: [\\n                \"B04\",\\n                \"B08\",\\n                \"SCL\",\\n                \"dataMask\"\\n            ]\\n        }],\\n        output: [\\n            {\\n                id: \"data\",\\n                bands: 1\\n            },\\n            {\\n                id: \"dataMask\",\\n                bands: 1\\n            }]\\n    }\\n}\\n\\nfunction evaluatePixel(samples) {\\n    let ndvi = (samples.B08 - samples.B04)/(samples.B08 + samples.B04)\\n\\n    var validNDVIMask = 1\\n    if (samples.B08 + samples.B04 == 0 ){\\n        validNDVIMask = 0\\n    }\\n\\n    var noWaterMask = 1\\n    if (samples.SCL == 6 ){\\n        noWaterMask = 0\\n    }\\n\\n    //Exclude nodata pixels, pixels where ndvi is not defined and water pixels from statistics:\\n    return {\\n        data: [ndvi],\\n        dataMask: [samples.dataMask * validNDVIMask * noWaterMask]\\n    }\\n}\\n', 'inputs': [Munch({'collection': 'SENTINEL2_L2A', 'mosaic': Munch({'order': 'leastCC'})})]}), 'responses': None})"
      ]
     },
     "execution_count": 6,
     "metadata": {},
     "output_type": "execute_result"
    }
   ],
   "source": [
    "# load cfg file using yaml parser\n",
    "with open( cfg_file, 'r' ) as f:\n",
    "    config = munchify( yaml.safe_load( f ) )\n",
    "config"
   ]
  },
  {
   "cell_type": "markdown",
   "id": "5fcf8145",
   "metadata": {},
   "source": [
    "### _Replicate use case results taken from Sentinel-Hub documentation_"
   ]
  },
  {
   "cell_type": "code",
   "execution_count": 7,
   "id": "5561b689",
   "metadata": {},
   "outputs": [
    {
     "data": {
      "text/html": [
       "<div>\n",
       "<style scoped>\n",
       "    .dataframe tbody tr th:only-of-type {\n",
       "        vertical-align: middle;\n",
       "    }\n",
       "\n",
       "    .dataframe tbody tr th {\n",
       "        vertical-align: top;\n",
       "    }\n",
       "\n",
       "    .dataframe thead th {\n",
       "        text-align: right;\n",
       "    }\n",
       "</style>\n",
       "<table border=\"1\" class=\"dataframe\">\n",
       "  <thead>\n",
       "    <tr style=\"text-align: right;\">\n",
       "      <th></th>\n",
       "      <th>geometry</th>\n",
       "    </tr>\n",
       "  </thead>\n",
       "  <tbody>\n",
       "    <tr>\n",
       "      <th>0</th>\n",
       "      <td>POLYGON ((458085.879 5097236.833, 457813.834 5...</td>\n",
       "    </tr>\n",
       "  </tbody>\n",
       "</table>\n",
       "</div>"
      ],
      "text/plain": [
       "                                            geometry\n",
       "0  POLYGON ((458085.879 5097236.833, 457813.834 5..."
      ]
     },
     "execution_count": 7,
     "metadata": {},
     "output_type": "execute_result"
    }
   ],
   "source": [
    "import pandas as pd\n",
    "import geopandas as gpd\n",
    "from shapely.geometry import Polygon\n",
    "\n",
    "coords = \"[ [ [ 458085.878866, 5097236.833044 ], [ 457813.834156, 5096808.351383 ], [ 457979.897062, 5096313.767184 ],  [ 458146.639373, 5096405.411294 ], [ 458085.878866, 5097236.833044 ] ] ]\"\n",
    "\n",
    "df = pd.DataFrame([[\"Polygon\", coords ]], columns=[\"type\", \"coords\"])\n",
    "gdf = gpd.GeoDataFrame( geometry=gpd.GeoSeries( Polygon(eval(df.coords.iloc[0])[0] ) ) )\n",
    "gdf = gdf.set_crs( 32633 )\n",
    "gdf"
   ]
  },
  {
   "cell_type": "code",
   "execution_count": 8,
   "id": "0fe71b96",
   "metadata": {},
   "outputs": [
    {
     "data": {
      "text/plain": [
       "(14.457122499992728, 46.02326499999474)"
      ]
     },
     "execution_count": 8,
     "metadata": {},
     "output_type": "execute_result"
    }
   ],
   "source": [
    "gdf = gdf.to_crs(4326)\n",
    "bounds = gdf.bounds.values[ 0 ]\n",
    "cx = (bounds[ 2 ] + bounds[ 0 ]) / 2.0\n",
    "cy = (bounds[ 3 ] + bounds[ 1 ]) / 2.0\n",
    "cx, cy"
   ]
  },
  {
   "cell_type": "code",
   "execution_count": 9,
   "id": "83fae864",
   "metadata": {},
   "outputs": [
    {
     "data": {
      "text/html": [
       "<div style=\"width:100%;\"><div style=\"position:relative;width:100%;height:0;padding-bottom:60%;\"><span style=\"color:#565656\">Make this Notebook Trusted to load map: File -> Trust Notebook</span><iframe src=\"about:blank\" style=\"position:absolute;width:100%;height:100%;left:0;top:0;border:none !important;\" data-html=%3C%21DOCTYPE%20html%3E%0A%3Chead%3E%20%20%20%20%0A%20%20%20%20%3Cmeta%20http-equiv%3D%22content-type%22%20content%3D%22text/html%3B%20charset%3DUTF-8%22%20/%3E%0A%20%20%20%20%0A%20%20%20%20%20%20%20%20%3Cscript%3E%0A%20%20%20%20%20%20%20%20%20%20%20%20L_NO_TOUCH%20%3D%20false%3B%0A%20%20%20%20%20%20%20%20%20%20%20%20L_DISABLE_3D%20%3D%20false%3B%0A%20%20%20%20%20%20%20%20%3C/script%3E%0A%20%20%20%20%0A%20%20%20%20%3Cstyle%3Ehtml%2C%20body%20%7Bwidth%3A%20100%25%3Bheight%3A%20100%25%3Bmargin%3A%200%3Bpadding%3A%200%3B%7D%3C/style%3E%0A%20%20%20%20%3Cstyle%3E%23map%20%7Bposition%3Aabsolute%3Btop%3A0%3Bbottom%3A0%3Bright%3A0%3Bleft%3A0%3B%7D%3C/style%3E%0A%20%20%20%20%3Cscript%20src%3D%22https%3A//cdn.jsdelivr.net/npm/leaflet%401.6.0/dist/leaflet.js%22%3E%3C/script%3E%0A%20%20%20%20%3Cscript%20src%3D%22https%3A//code.jquery.com/jquery-1.12.4.min.js%22%3E%3C/script%3E%0A%20%20%20%20%3Cscript%20src%3D%22https%3A//maxcdn.bootstrapcdn.com/bootstrap/3.2.0/js/bootstrap.min.js%22%3E%3C/script%3E%0A%20%20%20%20%3Cscript%20src%3D%22https%3A//cdnjs.cloudflare.com/ajax/libs/Leaflet.awesome-markers/2.0.2/leaflet.awesome-markers.js%22%3E%3C/script%3E%0A%20%20%20%20%3Clink%20rel%3D%22stylesheet%22%20href%3D%22https%3A//cdn.jsdelivr.net/npm/leaflet%401.6.0/dist/leaflet.css%22/%3E%0A%20%20%20%20%3Clink%20rel%3D%22stylesheet%22%20href%3D%22https%3A//maxcdn.bootstrapcdn.com/bootstrap/3.2.0/css/bootstrap.min.css%22/%3E%0A%20%20%20%20%3Clink%20rel%3D%22stylesheet%22%20href%3D%22https%3A//maxcdn.bootstrapcdn.com/bootstrap/3.2.0/css/bootstrap-theme.min.css%22/%3E%0A%20%20%20%20%3Clink%20rel%3D%22stylesheet%22%20href%3D%22https%3A//maxcdn.bootstrapcdn.com/font-awesome/4.6.3/css/font-awesome.min.css%22/%3E%0A%20%20%20%20%3Clink%20rel%3D%22stylesheet%22%20href%3D%22https%3A//cdnjs.cloudflare.com/ajax/libs/Leaflet.awesome-markers/2.0.2/leaflet.awesome-markers.css%22/%3E%0A%20%20%20%20%3Clink%20rel%3D%22stylesheet%22%20href%3D%22https%3A//cdn.jsdelivr.net/gh/python-visualization/folium/folium/templates/leaflet.awesome.rotate.min.css%22/%3E%0A%20%20%20%20%0A%20%20%20%20%20%20%20%20%20%20%20%20%3Cmeta%20name%3D%22viewport%22%20content%3D%22width%3Ddevice-width%2C%0A%20%20%20%20%20%20%20%20%20%20%20%20%20%20%20%20initial-scale%3D1.0%2C%20maximum-scale%3D1.0%2C%20user-scalable%3Dno%22%20/%3E%0A%20%20%20%20%20%20%20%20%20%20%20%20%3Cstyle%3E%0A%20%20%20%20%20%20%20%20%20%20%20%20%20%20%20%20%23map_4f5b8101752149c7be9faba9dd1c9f56%20%7B%0A%20%20%20%20%20%20%20%20%20%20%20%20%20%20%20%20%20%20%20%20position%3A%20relative%3B%0A%20%20%20%20%20%20%20%20%20%20%20%20%20%20%20%20%20%20%20%20width%3A%20100.0%25%3B%0A%20%20%20%20%20%20%20%20%20%20%20%20%20%20%20%20%20%20%20%20height%3A%20100.0%25%3B%0A%20%20%20%20%20%20%20%20%20%20%20%20%20%20%20%20%20%20%20%20left%3A%200.0%25%3B%0A%20%20%20%20%20%20%20%20%20%20%20%20%20%20%20%20%20%20%20%20top%3A%200.0%25%3B%0A%20%20%20%20%20%20%20%20%20%20%20%20%20%20%20%20%7D%0A%20%20%20%20%20%20%20%20%20%20%20%20%3C/style%3E%0A%20%20%20%20%20%20%20%20%0A%3C/head%3E%0A%3Cbody%3E%20%20%20%20%0A%20%20%20%20%0A%20%20%20%20%20%20%20%20%20%20%20%20%3Cdiv%20class%3D%22folium-map%22%20id%3D%22map_4f5b8101752149c7be9faba9dd1c9f56%22%20%3E%3C/div%3E%0A%20%20%20%20%20%20%20%20%0A%3C/body%3E%0A%3Cscript%3E%20%20%20%20%0A%20%20%20%20%0A%20%20%20%20%20%20%20%20%20%20%20%20var%20map_4f5b8101752149c7be9faba9dd1c9f56%20%3D%20L.map%28%0A%20%20%20%20%20%20%20%20%20%20%20%20%20%20%20%20%22map_4f5b8101752149c7be9faba9dd1c9f56%22%2C%0A%20%20%20%20%20%20%20%20%20%20%20%20%20%20%20%20%7B%0A%20%20%20%20%20%20%20%20%20%20%20%20%20%20%20%20%20%20%20%20center%3A%20%5B46.02326499999474%2C%2014.457122499992728%5D%2C%0A%20%20%20%20%20%20%20%20%20%20%20%20%20%20%20%20%20%20%20%20crs%3A%20L.CRS.EPSG3857%2C%0A%20%20%20%20%20%20%20%20%20%20%20%20%20%20%20%20%20%20%20%20zoom%3A%2014%2C%0A%20%20%20%20%20%20%20%20%20%20%20%20%20%20%20%20%20%20%20%20zoomControl%3A%20true%2C%0A%20%20%20%20%20%20%20%20%20%20%20%20%20%20%20%20%20%20%20%20preferCanvas%3A%20false%2C%0A%20%20%20%20%20%20%20%20%20%20%20%20%20%20%20%20%7D%0A%20%20%20%20%20%20%20%20%20%20%20%20%29%3B%0A%0A%20%20%20%20%20%20%20%20%20%20%20%20%0A%0A%20%20%20%20%20%20%20%20%0A%20%20%20%20%0A%20%20%20%20%20%20%20%20%20%20%20%20var%20tile_layer_8b2b99cfe4cf4aa2b67cb1135fb2feef%20%3D%20L.tileLayer%28%0A%20%20%20%20%20%20%20%20%20%20%20%20%20%20%20%20%22https%3A//cartodb-basemaps-%7Bs%7D.global.ssl.fastly.net/light_all/%7Bz%7D/%7Bx%7D/%7By%7D.png%22%2C%0A%20%20%20%20%20%20%20%20%20%20%20%20%20%20%20%20%7B%22attribution%22%3A%20%22%5Cu0026copy%3B%20%5Cu003ca%20href%3D%5C%22http%3A//www.openstreetmap.org/copyright%5C%22%5Cu003eOpenStreetMap%5Cu003c/a%5Cu003e%20contributors%20%5Cu0026copy%3B%20%5Cu003ca%20href%3D%5C%22http%3A//cartodb.com/attributions%5C%22%5Cu003eCartoDB%5Cu003c/a%5Cu003e%2C%20CartoDB%20%5Cu003ca%20href%20%3D%5C%22http%3A//cartodb.com/attributions%5C%22%5Cu003eattributions%5Cu003c/a%5Cu003e%22%2C%20%22detectRetina%22%3A%20false%2C%20%22maxNativeZoom%22%3A%2018%2C%20%22maxZoom%22%3A%2018%2C%20%22minZoom%22%3A%200%2C%20%22noWrap%22%3A%20false%2C%20%22opacity%22%3A%201%2C%20%22subdomains%22%3A%20%22abc%22%2C%20%22tms%22%3A%20false%7D%0A%20%20%20%20%20%20%20%20%20%20%20%20%29.addTo%28map_4f5b8101752149c7be9faba9dd1c9f56%29%3B%0A%20%20%20%20%20%20%20%20%0A%20%20%20%20%0A%20%20%20%20%20%20%20%20function%20geo_json_4bfca398e9274380b76af0461bd8775a_styler%28feature%29%20%7B%0A%20%20%20%20%20%20%20%20%20%20%20%20switch%28feature.id%29%20%7B%0A%20%20%20%20%20%20%20%20%20%20%20%20%20%20%20%20default%3A%0A%20%20%20%20%20%20%20%20%20%20%20%20%20%20%20%20%20%20%20%20return%20%7B%22fillColor%22%3A%20%22orange%22%7D%3B%0A%20%20%20%20%20%20%20%20%20%20%20%20%7D%0A%20%20%20%20%20%20%20%20%7D%0A%0A%20%20%20%20%20%20%20%20function%20geo_json_4bfca398e9274380b76af0461bd8775a_onEachFeature%28feature%2C%20layer%29%20%7B%0A%20%20%20%20%20%20%20%20%20%20%20%20layer.on%28%7B%0A%20%20%20%20%20%20%20%20%20%20%20%20%7D%29%3B%0A%20%20%20%20%20%20%20%20%7D%3B%0A%20%20%20%20%20%20%20%20var%20geo_json_4bfca398e9274380b76af0461bd8775a%20%3D%20L.geoJson%28null%2C%20%7B%0A%20%20%20%20%20%20%20%20%20%20%20%20%20%20%20%20onEachFeature%3A%20geo_json_4bfca398e9274380b76af0461bd8775a_onEachFeature%2C%0A%20%20%20%20%20%20%20%20%20%20%20%20%0A%20%20%20%20%20%20%20%20%20%20%20%20%20%20%20%20style%3A%20geo_json_4bfca398e9274380b76af0461bd8775a_styler%2C%0A%20%20%20%20%20%20%20%20%7D%29%3B%0A%0A%20%20%20%20%20%20%20%20function%20geo_json_4bfca398e9274380b76af0461bd8775a_add%20%28data%29%20%7B%0A%20%20%20%20%20%20%20%20%20%20%20%20geo_json_4bfca398e9274380b76af0461bd8775a%0A%20%20%20%20%20%20%20%20%20%20%20%20%20%20%20%20.addData%28data%29%0A%20%20%20%20%20%20%20%20%20%20%20%20%20%20%20%20.addTo%28map_4f5b8101752149c7be9faba9dd1c9f56%29%3B%0A%20%20%20%20%20%20%20%20%7D%0A%20%20%20%20%20%20%20%20%20%20%20%20geo_json_4bfca398e9274380b76af0461bd8775a_add%28%7B%22bbox%22%3A%20%5B14.454954999994435%2C%2046.019107999995846%2C%2014.459289999991023%2C%2046.02742199999362%5D%2C%20%22features%22%3A%20%5B%7B%22bbox%22%3A%20%5B14.454954999994435%2C%2046.019107999995846%2C%2014.459289999991023%2C%2046.02742199999362%5D%2C%20%22geometry%22%3A%20%7B%22coordinates%22%3A%20%5B%5B%5B14.458431999997595%2C%2046.02742199999362%5D%2C%20%5B14.454954999994435%2C%2046.02354899999199%5D%2C%20%5B14.457143999994363%2C%2046.019107999995846%5D%2C%20%5B14.459289999991023%2C%2046.0199429999938%5D%2C%20%5B14.458431999997595%2C%2046.02742199999362%5D%5D%5D%2C%20%22type%22%3A%20%22Polygon%22%7D%2C%20%22id%22%3A%20%220%22%2C%20%22properties%22%3A%20%7B%7D%2C%20%22type%22%3A%20%22Feature%22%7D%5D%2C%20%22type%22%3A%20%22FeatureCollection%22%7D%29%3B%0A%0A%20%20%20%20%20%20%20%20%0A%3C/script%3E onload=\"this.contentDocument.open();this.contentDocument.write(    decodeURIComponent(this.getAttribute('data-html')));this.contentDocument.close();\" allowfullscreen webkitallowfullscreen mozallowfullscreen></iframe></div></div>"
      ],
      "text/plain": [
       "<folium.folium.Map at 0x293c2e76fa0>"
      ]
     },
     "execution_count": 9,
     "metadata": {},
     "output_type": "execute_result"
    }
   ],
   "source": [
    "import folium\n",
    "m = folium.Map(location=[ cy, cx ], zoom_start=14, tiles='CartoDB positron')\n",
    "\n",
    "for _, r in gdf.iterrows():\n",
    "    # Without simplifying the representation of each borough,\n",
    "    # the map might not be displayed\n",
    "    sim_geo = gpd.GeoSeries(r['geometry']).simplify(tolerance=0.001)\n",
    "    geo_j = sim_geo.to_json()\n",
    "    geo_j = folium.GeoJson(data=geo_j,\n",
    "                           style_function=lambda x: {'fillColor': 'orange'})\n",
    "    geo_j.add_to(m)\n",
    "m"
   ]
  },
  {
   "cell_type": "code",
   "execution_count": 10,
   "id": "d053cd7b",
   "metadata": {},
   "outputs": [],
   "source": [
    "# define aggregation timeframe\n",
    "from datetime import datetime\n",
    "timeframe = { 'start' : datetime.strptime('2020-01-01', '%Y-%m-%d'), \n",
    "              'end' : datetime.strptime('2020-12-31', '%Y-%m-%d') }"
   ]
  },
  {
   "cell_type": "code",
   "execution_count": 11,
   "id": "2ce7ee98",
   "metadata": {},
   "outputs": [],
   "source": [
    "# create instance of shclient class\n",
    "from statisticalapi import Client\n",
    "client = Client( config )"
   ]
  },
  {
   "cell_type": "code",
   "execution_count": 12,
   "id": "b7a7d5e0",
   "metadata": {},
   "outputs": [],
   "source": [
    "# submit request\n",
    "gdf = gdf.to_crs( 32633 )\n",
    "response = { '2020' : client.getStatistics( [ timeframe ], resolution=10, polygons=gdf, interval='P30D' ) }"
   ]
  },
  {
   "cell_type": "code",
   "execution_count": 13,
   "id": "6149548b",
   "metadata": {},
   "outputs": [
    {
     "data": {
      "text/html": [
       "<div>\n",
       "<style scoped>\n",
       "    .dataframe tbody tr th:only-of-type {\n",
       "        vertical-align: middle;\n",
       "    }\n",
       "\n",
       "    .dataframe tbody tr th {\n",
       "        vertical-align: top;\n",
       "    }\n",
       "\n",
       "    .dataframe thead th {\n",
       "        text-align: right;\n",
       "    }\n",
       "</style>\n",
       "<table border=\"1\" class=\"dataframe\">\n",
       "  <thead>\n",
       "    <tr style=\"text-align: right;\">\n",
       "      <th></th>\n",
       "      <th>interval_from</th>\n",
       "      <th>interval_to</th>\n",
       "      <th>data_B0_min</th>\n",
       "      <th>data_B0_max</th>\n",
       "      <th>data_B0_mean</th>\n",
       "      <th>data_B0_stDev</th>\n",
       "      <th>data_B0_sampleCount</th>\n",
       "      <th>data_B0_noDataCount</th>\n",
       "    </tr>\n",
       "  </thead>\n",
       "  <tbody>\n",
       "    <tr>\n",
       "      <th>0</th>\n",
       "      <td>2020-01-01</td>\n",
       "      <td>2020-01-31</td>\n",
       "      <td>0.243067</td>\n",
       "      <td>0.624473</td>\n",
       "      <td>0.412322</td>\n",
       "      <td>0.055875</td>\n",
       "      <td>3036</td>\n",
       "      <td>1192</td>\n",
       "    </tr>\n",
       "    <tr>\n",
       "      <th>1</th>\n",
       "      <td>2020-01-31</td>\n",
       "      <td>2020-03-01</td>\n",
       "      <td>0.245194</td>\n",
       "      <td>0.423321</td>\n",
       "      <td>0.316083</td>\n",
       "      <td>0.028077</td>\n",
       "      <td>3036</td>\n",
       "      <td>1192</td>\n",
       "    </tr>\n",
       "    <tr>\n",
       "      <th>2</th>\n",
       "      <td>2020-03-01</td>\n",
       "      <td>2020-03-31</td>\n",
       "      <td>0.423614</td>\n",
       "      <td>0.802126</td>\n",
       "      <td>0.584483</td>\n",
       "      <td>0.057668</td>\n",
       "      <td>3036</td>\n",
       "      <td>1192</td>\n",
       "    </tr>\n",
       "    <tr>\n",
       "      <th>3</th>\n",
       "      <td>2020-03-31</td>\n",
       "      <td>2020-04-30</td>\n",
       "      <td>0.464754</td>\n",
       "      <td>0.826613</td>\n",
       "      <td>0.661591</td>\n",
       "      <td>0.055393</td>\n",
       "      <td>3036</td>\n",
       "      <td>1192</td>\n",
       "    </tr>\n",
       "    <tr>\n",
       "      <th>4</th>\n",
       "      <td>2020-04-30</td>\n",
       "      <td>2020-05-30</td>\n",
       "      <td>0.176174</td>\n",
       "      <td>0.870899</td>\n",
       "      <td>0.688068</td>\n",
       "      <td>0.188334</td>\n",
       "      <td>3036</td>\n",
       "      <td>1192</td>\n",
       "    </tr>\n",
       "    <tr>\n",
       "      <th>5</th>\n",
       "      <td>2020-05-30</td>\n",
       "      <td>2020-06-29</td>\n",
       "      <td>0.688319</td>\n",
       "      <td>0.877558</td>\n",
       "      <td>0.823095</td>\n",
       "      <td>0.026851</td>\n",
       "      <td>3036</td>\n",
       "      <td>1192</td>\n",
       "    </tr>\n",
       "    <tr>\n",
       "      <th>6</th>\n",
       "      <td>2020-06-29</td>\n",
       "      <td>2020-07-29</td>\n",
       "      <td>0.812419</td>\n",
       "      <td>0.927043</td>\n",
       "      <td>0.897705</td>\n",
       "      <td>0.013219</td>\n",
       "      <td>3036</td>\n",
       "      <td>1192</td>\n",
       "    </tr>\n",
       "    <tr>\n",
       "      <th>7</th>\n",
       "      <td>2020-07-29</td>\n",
       "      <td>2020-08-28</td>\n",
       "      <td>0.750795</td>\n",
       "      <td>0.892506</td>\n",
       "      <td>0.843745</td>\n",
       "      <td>0.017706</td>\n",
       "      <td>3036</td>\n",
       "      <td>1192</td>\n",
       "    </tr>\n",
       "    <tr>\n",
       "      <th>8</th>\n",
       "      <td>2020-08-28</td>\n",
       "      <td>2020-09-27</td>\n",
       "      <td>0.709407</td>\n",
       "      <td>0.882353</td>\n",
       "      <td>0.813853</td>\n",
       "      <td>0.020640</td>\n",
       "      <td>3036</td>\n",
       "      <td>1192</td>\n",
       "    </tr>\n",
       "    <tr>\n",
       "      <th>9</th>\n",
       "      <td>2020-09-27</td>\n",
       "      <td>2020-10-27</td>\n",
       "      <td>0.641610</td>\n",
       "      <td>0.825619</td>\n",
       "      <td>0.736814</td>\n",
       "      <td>0.028841</td>\n",
       "      <td>3036</td>\n",
       "      <td>1192</td>\n",
       "    </tr>\n",
       "    <tr>\n",
       "      <th>10</th>\n",
       "      <td>2020-10-27</td>\n",
       "      <td>2020-11-26</td>\n",
       "      <td>0.513158</td>\n",
       "      <td>0.910841</td>\n",
       "      <td>0.691274</td>\n",
       "      <td>0.062738</td>\n",
       "      <td>3036</td>\n",
       "      <td>1192</td>\n",
       "    </tr>\n",
       "    <tr>\n",
       "      <th>11</th>\n",
       "      <td>2020-11-26</td>\n",
       "      <td>2020-12-26</td>\n",
       "      <td>-0.014464</td>\n",
       "      <td>0.015365</td>\n",
       "      <td>0.001805</td>\n",
       "      <td>0.004322</td>\n",
       "      <td>3036</td>\n",
       "      <td>1192</td>\n",
       "    </tr>\n",
       "  </tbody>\n",
       "</table>\n",
       "</div>"
      ],
      "text/plain": [
       "   interval_from interval_to  data_B0_min  data_B0_max  data_B0_mean  \\\n",
       "0     2020-01-01  2020-01-31     0.243067     0.624473      0.412322   \n",
       "1     2020-01-31  2020-03-01     0.245194     0.423321      0.316083   \n",
       "2     2020-03-01  2020-03-31     0.423614     0.802126      0.584483   \n",
       "3     2020-03-31  2020-04-30     0.464754     0.826613      0.661591   \n",
       "4     2020-04-30  2020-05-30     0.176174     0.870899      0.688068   \n",
       "5     2020-05-30  2020-06-29     0.688319     0.877558      0.823095   \n",
       "6     2020-06-29  2020-07-29     0.812419     0.927043      0.897705   \n",
       "7     2020-07-29  2020-08-28     0.750795     0.892506      0.843745   \n",
       "8     2020-08-28  2020-09-27     0.709407     0.882353      0.813853   \n",
       "9     2020-09-27  2020-10-27     0.641610     0.825619      0.736814   \n",
       "10    2020-10-27  2020-11-26     0.513158     0.910841      0.691274   \n",
       "11    2020-11-26  2020-12-26    -0.014464     0.015365      0.001805   \n",
       "\n",
       "    data_B0_stDev  data_B0_sampleCount  data_B0_noDataCount  \n",
       "0        0.055875                 3036                 1192  \n",
       "1        0.028077                 3036                 1192  \n",
       "2        0.057668                 3036                 1192  \n",
       "3        0.055393                 3036                 1192  \n",
       "4        0.188334                 3036                 1192  \n",
       "5        0.026851                 3036                 1192  \n",
       "6        0.013219                 3036                 1192  \n",
       "7        0.017706                 3036                 1192  \n",
       "8        0.020640                 3036                 1192  \n",
       "9        0.028841                 3036                 1192  \n",
       "10       0.062738                 3036                 1192  \n",
       "11       0.004322                 3036                 1192  "
      ]
     },
     "execution_count": 13,
     "metadata": {},
     "output_type": "execute_result"
    }
   ],
   "source": [
    "response[ '2020' ]._dfs[ 0 ]"
   ]
  },
  {
   "cell_type": "markdown",
   "id": "1e73408e",
   "metadata": {},
   "source": [
    "### _Results extracted from Sentinel-Hub documentation_\n",
    "\n",
    "{'data': [{'interval': {'from': '2020-01-01T00:00:00Z',\n",
    "    'to': '2020-01-31T00:00:00Z'},\n",
    "   'outputs': {'data': {'bands': {'B0': {'stats': {'min': 0.24306687712669373,\n",
    "        'max': 0.6244725584983826,\n",
    "        'mean': 0.4123224201824293,\n",
    "        'stDev': 0.055874589607421886,\n",
    "        'sampleCount': 3036,\n",
    "        'noDataCount': 1192}}}}}},\n",
    "  {'interval': {'from': '2020-01-31T00:00:00Z', 'to': '2020-03-01T00:00:00Z'},\n",
    "   'outputs': {'data': {'bands': {'B0': {'stats': {'min': 0.2451941967010498,\n",
    "        'max': 0.4233206510543823,\n",
    "        'mean': 0.3160828609431641,\n",
    "        'stDev': 0.0280772593636271,\n",
    "        'sampleCount': 3036,\n",
    "        'noDataCount': 1192}}}}}},\n",
    "  {'interval': {'from': '2020-03-01T00:00:00Z', 'to': '2020-03-31T00:00:00Z'},\n",
    "   'outputs': {'data': {'bands': {'B0': {'stats': {'min': 0.4236144721508026,\n",
    "        'max': 0.8021259307861328,\n",
    "        'mean': 0.5844831434836089,\n",
    "        'stDev': 0.05766820795482124,\n",
    "        'sampleCount': 3036,\n",
    "        'noDataCount': 1192}}}}}},\n",
    "  {'interval': {'from': '2020-03-31T00:00:00Z', 'to': '2020-04-30T00:00:00Z'},\n",
    "   'outputs': {'data': {'bands': {'B0': {'stats': {'min': 0.4647541046142578,\n",
    "        'max': 0.8266128897666931,\n",
    "        'mean': 0.6615912824901472,\n",
    "        'stDev': 0.05539347152437238,\n",
    "        'sampleCount': 3036,\n",
    "        'noDataCount': 1192}}}}}},\n",
    "  {'interval': {'from': '2020-04-30T00:00:00Z', 'to': '2020-05-30T00:00:00Z'},\n",
    "   'outputs': {'data': {'bands': {'B0': {'stats': {'min': 0.1761743128299713,\n",
    "        'max': 0.870899498462677,\n",
    "        'mean': 0.6880682412526884,\n",
    "        'stDev': 0.18833356676740057,\n",
    "        'sampleCount': 3036,\n",
    "        'noDataCount': 1192}}}}}},\n",
    "  {'interval': {'from': '2020-05-30T00:00:00Z', 'to': '2020-06-29T00:00:00Z'},\n",
    "   'outputs': {'data': {'bands': {'B0': {'stats': {'min': 0.6883189082145691,\n",
    "        'max': 0.8775584697723389,\n",
    "        'mean': 0.8230951517303176,\n",
    "        'stDev': 0.026851310273968688,\n",
    "        'sampleCount': 3036,\n",
    "        'noDataCount': 1192}}}}}},\n",
    "  {'interval': {'from': '2020-06-29T00:00:00Z', 'to': '2020-07-29T00:00:00Z'},\n",
    "   'outputs': {'data': {'bands': {'B0': {'stats': {'min': 0.8124191164970398,\n",
    "        'max': 0.9270430207252502,\n",
    "        'mean': 0.8977047195274247,\n",
    "        'stDev': 0.01321883825220214,\n",
    "        'sampleCount': 3036,\n",
    "        'noDataCount': 1192}}}}}},\n",
    "  {'interval': {'from': '2020-07-29T00:00:00Z', 'to': '2020-08-28T00:00:00Z'},\n",
    "   'outputs': {'data': {'bands': {'B0': {'stats': {'min': 0.750795304775238,\n",
    "        'max': 0.8925060033798218,\n",
    "        'mean': 0.8437445996058478,\n",
    "        'stDev': 0.017705930134783242,\n",
    "        'sampleCount': 3036,\n",
    "        'noDataCount': 1192}}}}}},\n",
    "  {'interval': {'from': '2020-08-28T00:00:00Z', 'to': '2020-09-27T00:00:00Z'},\n",
    "   'outputs': {'data': {'bands': {'B0': {'stats': {'min': 0.7094070315361023,\n",
    "        'max': 0.8823529481887817,\n",
    "        'mean': 0.8138526516467535,\n",
    "        'stDev': 0.020639924263070358,\n",
    "        'sampleCount': 3036,\n",
    "        'noDataCount': 1192}}}}}},\n",
    "  {'interval': {'from': '2020-09-27T00:00:00Z', 'to': '2020-10-27T00:00:00Z'},\n",
    "   'outputs': {'data': {'bands': {'B0': {'stats': {'min': 0.6416097283363342,\n",
    "        'max': 0.8256189227104187,\n",
    "        'mean': 0.7368144742384923,\n",
    "        'stDev': 0.02884084473079313,\n",
    "        'sampleCount': 3036,\n",
    "        'noDataCount': 1192}}}}}},\n",
    "  {'interval': {'from': '2020-10-27T00:00:00Z', 'to': '2020-11-26T00:00:00Z'},\n",
    "   'outputs': {'data': {'bands': {'B0': {'stats': {'min': 0.5131579041481018,\n",
    "        'max': 0.9108409285545349,\n",
    "        'mean': 0.6912739742345253,\n",
    "        'stDev': 0.06273793790576106,\n",
    "        'sampleCount': 3036,\n",
    "        'noDataCount': 1192}}}}}},\n",
    "  {'interval': {'from': '2020-11-26T00:00:00Z', 'to': '2020-12-26T00:00:00Z'},\n",
    "   'outputs': {'data': {'bands': {'B0': {'stats': {'min': -0.01446416787803173,\n",
    "        'max': 0.015364916995167732,\n",
    "        'mean': 0.0018048733875211391,\n",
    "        'stDev': 0.004322122712106793,\n",
    "        'sampleCount': 3036,\n",
    "        'noDataCount': 1192}}}}}}],\n",
    " 'status': 'OK'}"
   ]
  },
  {
   "cell_type": "code",
   "execution_count": 14,
   "id": "b31182ba",
   "metadata": {},
   "outputs": [
    {
     "data": {
      "text/plain": [
       "<AxesSubplot:xlabel='interval_from'>"
      ]
     },
     "execution_count": 14,
     "metadata": {},
     "output_type": "execute_result"
    },
    {
     "data": {
      "image/png": "[encoded data removed]",
      "text/plain": [
       "<Figure size 720x720 with 1 Axes>"
      ]
     },
     "metadata": {
      "needs_background": "light"
     },
     "output_type": "display_data"
    }
   ],
   "source": [
    "response[ '2020' ]._dfs[ 0 ].plot( figsize=(10,10), x='interval_from', y='data_B0_mean')"
   ]
  },
  {
   "cell_type": "markdown",
   "id": "4788057c",
   "metadata": {},
   "source": [
    "### _Repeat NDVI Statistical Analysis for 2019_"
   ]
  },
  {
   "cell_type": "code",
   "execution_count": 15,
   "id": "0ee0ac3c",
   "metadata": {},
   "outputs": [],
   "source": [
    "# define aggregation timeframe\n",
    "from datetime import datetime\n",
    "timeframe = { 'start' : datetime.strptime('2019-01-01', '%Y-%m-%d'), \n",
    "              'end' : datetime.strptime('2019-12-31', '%Y-%m-%d') }"
   ]
  },
  {
   "cell_type": "code",
   "execution_count": 16,
   "id": "12ecae5c",
   "metadata": {},
   "outputs": [],
   "source": [
    "# submit request\n",
    "response[ '2019' ] = client.getStatistics( [ timeframe ], resolution=10, polygons=gdf, interval='P30D' )"
   ]
  },
  {
   "cell_type": "code",
   "execution_count": 17,
   "id": "56c9e302",
   "metadata": {},
   "outputs": [
    {
     "data": {
      "text/html": [
       "<div>\n",
       "<style scoped>\n",
       "    .dataframe tbody tr th:only-of-type {\n",
       "        vertical-align: middle;\n",
       "    }\n",
       "\n",
       "    .dataframe tbody tr th {\n",
       "        vertical-align: top;\n",
       "    }\n",
       "\n",
       "    .dataframe thead th {\n",
       "        text-align: right;\n",
       "    }\n",
       "</style>\n",
       "<table border=\"1\" class=\"dataframe\">\n",
       "  <thead>\n",
       "    <tr style=\"text-align: right;\">\n",
       "      <th></th>\n",
       "      <th>interval_from</th>\n",
       "      <th>interval_to</th>\n",
       "      <th>data_B0_min</th>\n",
       "      <th>data_B0_max</th>\n",
       "      <th>data_B0_mean</th>\n",
       "      <th>data_B0_stDev</th>\n",
       "      <th>data_B0_sampleCount</th>\n",
       "      <th>data_B0_noDataCount</th>\n",
       "    </tr>\n",
       "  </thead>\n",
       "  <tbody>\n",
       "    <tr>\n",
       "      <th>0</th>\n",
       "      <td>2019-01-01</td>\n",
       "      <td>2019-01-31</td>\n",
       "      <td>0.469809</td>\n",
       "      <td>0.815842</td>\n",
       "      <td>0.618367</td>\n",
       "      <td>0.064358</td>\n",
       "      <td>3036</td>\n",
       "      <td>1192</td>\n",
       "    </tr>\n",
       "    <tr>\n",
       "      <th>1</th>\n",
       "      <td>2019-01-31</td>\n",
       "      <td>2019-03-02</td>\n",
       "      <td>0.389908</td>\n",
       "      <td>0.768480</td>\n",
       "      <td>0.538281</td>\n",
       "      <td>0.060874</td>\n",
       "      <td>3036</td>\n",
       "      <td>1192</td>\n",
       "    </tr>\n",
       "    <tr>\n",
       "      <th>2</th>\n",
       "      <td>2019-03-02</td>\n",
       "      <td>2019-04-01</td>\n",
       "      <td>0.376801</td>\n",
       "      <td>0.809939</td>\n",
       "      <td>0.572976</td>\n",
       "      <td>0.071262</td>\n",
       "      <td>3036</td>\n",
       "      <td>1192</td>\n",
       "    </tr>\n",
       "    <tr>\n",
       "      <th>3</th>\n",
       "      <td>2019-04-01</td>\n",
       "      <td>2019-05-01</td>\n",
       "      <td>0.380990</td>\n",
       "      <td>0.700559</td>\n",
       "      <td>0.560569</td>\n",
       "      <td>0.055074</td>\n",
       "      <td>3036</td>\n",
       "      <td>1192</td>\n",
       "    </tr>\n",
       "    <tr>\n",
       "      <th>4</th>\n",
       "      <td>2019-05-01</td>\n",
       "      <td>2019-05-31</td>\n",
       "      <td>0.694432</td>\n",
       "      <td>0.877473</td>\n",
       "      <td>0.811056</td>\n",
       "      <td>0.023321</td>\n",
       "      <td>3036</td>\n",
       "      <td>1192</td>\n",
       "    </tr>\n",
       "    <tr>\n",
       "      <th>5</th>\n",
       "      <td>2019-05-31</td>\n",
       "      <td>2019-06-30</td>\n",
       "      <td>0.797827</td>\n",
       "      <td>0.901928</td>\n",
       "      <td>0.862354</td>\n",
       "      <td>0.015903</td>\n",
       "      <td>3036</td>\n",
       "      <td>1192</td>\n",
       "    </tr>\n",
       "    <tr>\n",
       "      <th>6</th>\n",
       "      <td>2019-06-30</td>\n",
       "      <td>2019-07-30</td>\n",
       "      <td>0.794118</td>\n",
       "      <td>0.922197</td>\n",
       "      <td>0.890052</td>\n",
       "      <td>0.015023</td>\n",
       "      <td>3036</td>\n",
       "      <td>1192</td>\n",
       "    </tr>\n",
       "    <tr>\n",
       "      <th>7</th>\n",
       "      <td>2019-07-30</td>\n",
       "      <td>2019-08-29</td>\n",
       "      <td>0.706647</td>\n",
       "      <td>0.908904</td>\n",
       "      <td>0.837857</td>\n",
       "      <td>0.023716</td>\n",
       "      <td>3036</td>\n",
       "      <td>1192</td>\n",
       "    </tr>\n",
       "    <tr>\n",
       "      <th>8</th>\n",
       "      <td>2019-08-29</td>\n",
       "      <td>2019-09-28</td>\n",
       "      <td>0.731110</td>\n",
       "      <td>0.921393</td>\n",
       "      <td>0.870986</td>\n",
       "      <td>0.020588</td>\n",
       "      <td>3036</td>\n",
       "      <td>1192</td>\n",
       "    </tr>\n",
       "    <tr>\n",
       "      <th>9</th>\n",
       "      <td>2019-09-28</td>\n",
       "      <td>2019-10-28</td>\n",
       "      <td>0.058035</td>\n",
       "      <td>0.383510</td>\n",
       "      <td>0.109206</td>\n",
       "      <td>0.036633</td>\n",
       "      <td>3036</td>\n",
       "      <td>1192</td>\n",
       "    </tr>\n",
       "    <tr>\n",
       "      <th>10</th>\n",
       "      <td>2019-10-28</td>\n",
       "      <td>2019-11-27</td>\n",
       "      <td>-0.031268</td>\n",
       "      <td>0.006914</td>\n",
       "      <td>-0.014570</td>\n",
       "      <td>0.005347</td>\n",
       "      <td>3036</td>\n",
       "      <td>1192</td>\n",
       "    </tr>\n",
       "    <tr>\n",
       "      <th>11</th>\n",
       "      <td>2019-11-27</td>\n",
       "      <td>2019-12-27</td>\n",
       "      <td>0.317768</td>\n",
       "      <td>0.815771</td>\n",
       "      <td>0.597995</td>\n",
       "      <td>0.067585</td>\n",
       "      <td>3036</td>\n",
       "      <td>1192</td>\n",
       "    </tr>\n",
       "  </tbody>\n",
       "</table>\n",
       "</div>"
      ],
      "text/plain": [
       "   interval_from interval_to  data_B0_min  data_B0_max  data_B0_mean  \\\n",
       "0     2019-01-01  2019-01-31     0.469809     0.815842      0.618367   \n",
       "1     2019-01-31  2019-03-02     0.389908     0.768480      0.538281   \n",
       "2     2019-03-02  2019-04-01     0.376801     0.809939      0.572976   \n",
       "3     2019-04-01  2019-05-01     0.380990     0.700559      0.560569   \n",
       "4     2019-05-01  2019-05-31     0.694432     0.877473      0.811056   \n",
       "5     2019-05-31  2019-06-30     0.797827     0.901928      0.862354   \n",
       "6     2019-06-30  2019-07-30     0.794118     0.922197      0.890052   \n",
       "7     2019-07-30  2019-08-29     0.706647     0.908904      0.837857   \n",
       "8     2019-08-29  2019-09-28     0.731110     0.921393      0.870986   \n",
       "9     2019-09-28  2019-10-28     0.058035     0.383510      0.109206   \n",
       "10    2019-10-28  2019-11-27    -0.031268     0.006914     -0.014570   \n",
       "11    2019-11-27  2019-12-27     0.317768     0.815771      0.597995   \n",
       "\n",
       "    data_B0_stDev  data_B0_sampleCount  data_B0_noDataCount  \n",
       "0        0.064358                 3036                 1192  \n",
       "1        0.060874                 3036                 1192  \n",
       "2        0.071262                 3036                 1192  \n",
       "3        0.055074                 3036                 1192  \n",
       "4        0.023321                 3036                 1192  \n",
       "5        0.015903                 3036                 1192  \n",
       "6        0.015023                 3036                 1192  \n",
       "7        0.023716                 3036                 1192  \n",
       "8        0.020588                 3036                 1192  \n",
       "9        0.036633                 3036                 1192  \n",
       "10       0.005347                 3036                 1192  \n",
       "11       0.067585                 3036                 1192  "
      ]
     },
     "execution_count": 17,
     "metadata": {},
     "output_type": "execute_result"
    }
   ],
   "source": [
    "response[ '2019' ]._dfs[ 0 ]"
   ]
  },
  {
   "cell_type": "code",
   "execution_count": 18,
   "id": "e61d5a69",
   "metadata": {},
   "outputs": [
    {
     "data": {
      "text/plain": [
       "<AxesSubplot:>"
      ]
     },
     "execution_count": 18,
     "metadata": {},
     "output_type": "execute_result"
    },
    {
     "data": {
      "image/png": "[encoded data removed]",
      "text/plain": [
       "<Figure size 720x720 with 1 Axes>"
      ]
     },
     "metadata": {
      "needs_background": "light"
     },
     "output_type": "display_data"
    }
   ],
   "source": [
    "import matplotlib.pyplot as plt\n",
    "\n",
    "fig, ax = plt.subplots( figsize=(10,10) )\n",
    "response[ '2019' ]._dfs[ 0 ].plot( ax=ax, y='data_B0_mean')\n",
    "response[ '2020' ]._dfs[ 0 ].plot( ax=ax, y='data_B0_mean')"
   ]
  },
  {
   "cell_type": "code",
   "execution_count": null,
   "id": "2ad900d1",
   "metadata": {},
   "outputs": [],
   "source": []
  }
 ],
 "metadata": {
  "kernelspec": {
   "display_name": "Python 3 (ipykernel)",
   "language": "python",
   "name": "python3"
  },
  "language_info": {
   "codemirror_mode": {
    "name": "ipython",
    "version": 3
   },
   "file_extension": ".py",
   "mimetype": "text/x-python",
   "name": "python",
   "nbconvert_exporter": "python",
   "pygments_lexer": "ipython3",
   "version": "3.9.9"
  }
 },
 "nbformat": 4,
 "nbformat_minor": 5
}
