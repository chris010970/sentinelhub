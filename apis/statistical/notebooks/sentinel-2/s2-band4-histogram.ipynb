{
 "cells": [
  {
   "cell_type": "markdown",
   "id": "a83dc460",
   "metadata": {},
   "source": [
    "# Single Band Statistics via Sentinel-Hub Statistical API"
   ]
  },
  {
   "cell_type": "code",
   "execution_count": 1,
   "id": "4ee11e41",
   "metadata": {},
   "outputs": [],
   "source": [
    "import os\n",
    "import yaml\n",
    "from munch import munchify"
   ]
  },
  {
   "cell_type": "markdown",
   "id": "c0bf8052",
   "metadata": {},
   "source": [
    "### _Setup configuration and environment_"
   ]
  },
  {
   "cell_type": "code",
   "execution_count": 2,
   "id": "9668e519",
   "metadata": {},
   "outputs": [],
   "source": [
    "# define repo name and get root working directory\n",
    "repo = 'statistical'\n",
    "root_path = os.getcwd()[ 0 : os.getcwd().find( repo ) + len ( repo )]\n",
    "\n",
    "# get path to configuration files\n",
    "cfg_path = os.path.join( root_path, 'cfg' )\n",
    "cfg_path = os.path.join( cfg_path, 'sentinel-2' )"
   ]
  },
  {
   "cell_type": "code",
   "execution_count": 3,
   "id": "9e612f56",
   "metadata": {},
   "outputs": [
    {
     "data": {
      "text/plain": [
       "'C:\\\\Users\\\\crwil\\\\Documents\\\\GitHub\\\\sentinelhub\\\\apis\\\\statistical\\\\cfg\\\\sentinel-2'"
      ]
     },
     "execution_count": 3,
     "metadata": {},
     "output_type": "execute_result"
    }
   ],
   "source": [
    "# get path to configuration files\n",
    "cfg_path = os.path.join( root_path, 'cfg' )\n",
    "cfg_path = os.path.join( cfg_path, 'sentinel-2' )\n",
    "cfg_path"
   ]
  },
  {
   "cell_type": "code",
   "execution_count": 4,
   "id": "6bdd181f",
   "metadata": {},
   "outputs": [],
   "source": [
    "# get pathname to configuration file\n",
    "cfg_file = os.path.join( cfg_path, 's2-band4-histogram.yml' )"
   ]
  },
  {
   "cell_type": "code",
   "execution_count": 5,
   "id": "e2362179",
   "metadata": {},
   "outputs": [
    {
     "name": "stdout",
     "output_type": "stream",
     "text": [
      "request:\n",
      "    evalscript: |       \n",
      "                //VERSION=3\n",
      "                function setup() {\n",
      "                    return {\n",
      "                        input: [{\n",
      "                            bands: [\n",
      "                                \"B04\",\n",
      "                                \"dataMask\"\n",
      "                            ]\n",
      "                        }],\n",
      "                        output: [\n",
      "                        {\n",
      "                            id: \"output_B04\",\n",
      "                            bands: 1,\n",
      "                            sampleType: \"FLOAT32\"\n",
      "                        },\n",
      "                        {\n",
      "                            id: \"dataMask\",\n",
      "                            bands: 1\n",
      "                        } ]\n",
      "                    }\n",
      "                }\n",
      "                function evaluatePixel(samples) {\n",
      "                    return {\n",
      "                        output_B04: [samples.B04],\n",
      "                        dataMask: [samples.dataMask]\n",
      "                    }\n",
      "                }    \n",
      "    inputs:\n",
      "        - collection: SENTINEL2_L2A    \n",
      "          mosaic:\n",
      "            order: leastRecent\n",
      "responses:\n",
      "    default:\n",
      "        histograms:\n",
      "            default:\n",
      "                nBins: 5\n",
      "                lowEdge: 0.0\n",
      "                highEdge: 0.3\n",
      "        statistics:\n",
      "            default:\n",
      "                percentiles:\n",
      "                    k: [ 33, 50, 75, 90 ]\n",
      "\n"
     ]
    }
   ],
   "source": [
    "# print contents of configuration file\n",
    "with open( cfg_file ) as f:\n",
    "    print ( f.read() )"
   ]
  },
  {
   "cell_type": "code",
   "execution_count": 6,
   "id": "e322bf2e",
   "metadata": {},
   "outputs": [
    {
     "data": {
      "text/plain": [
       "Munch({'request': Munch({'evalscript': '//VERSION=3\\nfunction setup() {\\n    return {\\n        input: [{\\n            bands: [\\n                \"B04\",\\n                \"dataMask\"\\n            ]\\n        }],\\n        output: [\\n        {\\n            id: \"output_B04\",\\n            bands: 1,\\n            sampleType: \"FLOAT32\"\\n        },\\n        {\\n            id: \"dataMask\",\\n            bands: 1\\n        } ]\\n    }\\n}\\nfunction evaluatePixel(samples) {\\n    return {\\n        output_B04: [samples.B04],\\n        dataMask: [samples.dataMask]\\n    }\\n}    \\n', 'inputs': [Munch({'collection': 'SENTINEL2_L2A', 'mosaic': Munch({'order': 'leastRecent'})})]}), 'responses': Munch({'default': Munch({'histograms': Munch({'default': Munch({'nBins': 5, 'lowEdge': 0.0, 'highEdge': 0.3})}), 'statistics': Munch({'default': Munch({'percentiles': Munch({'k': [33, 50, 75, 90]})})})})})})"
      ]
     },
     "execution_count": 6,
     "metadata": {},
     "output_type": "execute_result"
    }
   ],
   "source": [
    "# load cfg file using yaml parser\n",
    "with open( cfg_file, 'r' ) as f:\n",
    "    config = munchify( yaml.safe_load( f ) )\n",
    "config"
   ]
  },
  {
   "cell_type": "markdown",
   "id": "4bed863f",
   "metadata": {},
   "source": [
    "### _Replicate use case results taken from Sentinel-Hub documentation_"
   ]
  },
  {
   "cell_type": "code",
   "execution_count": 7,
   "id": "69540c44",
   "metadata": {},
   "outputs": [],
   "source": [
    "from sentinelhub import CRS\n",
    "\n",
    "# define min and max latlons\n",
    "coords = 414315, 4958219, 414859, 4958819\n",
    "crs = CRS( 32633 )\n",
    "\n",
    "resolution = 10"
   ]
  },
  {
   "cell_type": "code",
   "execution_count": 8,
   "id": "6567ae1f",
   "metadata": {},
   "outputs": [],
   "source": [
    "# define aggregation timeframe\n",
    "from datetime import datetime\n",
    "timeframe = { 'start' : datetime.strptime('2020-07-04', '%Y-%m-%d'), \n",
    "              'end' : datetime.strptime('2020-07-05', '%Y-%m-%d') }"
   ]
  },
  {
   "cell_type": "code",
   "execution_count": 9,
   "id": "e97c4494",
   "metadata": {},
   "outputs": [],
   "source": [
    "# create instance of shclient class\n",
    "from statisticalapi import Client\n",
    "client = Client( config )"
   ]
  },
  {
   "cell_type": "code",
   "execution_count": 10,
   "id": "99dc8a71",
   "metadata": {},
   "outputs": [
    {
     "name": "stdout",
     "output_type": "stream",
     "text": [
      "414315.0,4958219.0,414859.0,4958819.0 32633\n"
     ]
    }
   ],
   "source": [
    "# get utm bbox\n",
    "bbox = client.getBoundingBox( coords, src_crs=crs )\n",
    "print ( bbox, bbox.crs.value )"
   ]
  },
  {
   "cell_type": "code",
   "execution_count": 11,
   "id": "62c8a37e",
   "metadata": {},
   "outputs": [],
   "source": [
    "# submit request\n",
    "response = client.getStatistics( [ timeframe ], resolution=resolution, bbox=bbox )"
   ]
  },
  {
   "cell_type": "code",
   "execution_count": 12,
   "id": "8ccdfb5e",
   "metadata": {},
   "outputs": [
    {
     "data": {
      "text/html": [
       "<div>\n",
       "<style scoped>\n",
       "    .dataframe tbody tr th:only-of-type {\n",
       "        vertical-align: middle;\n",
       "    }\n",
       "\n",
       "    .dataframe tbody tr th {\n",
       "        vertical-align: top;\n",
       "    }\n",
       "\n",
       "    .dataframe thead th {\n",
       "        text-align: right;\n",
       "    }\n",
       "</style>\n",
       "<table border=\"1\" class=\"dataframe\">\n",
       "  <thead>\n",
       "    <tr style=\"text-align: right;\">\n",
       "      <th></th>\n",
       "      <th>id</th>\n",
       "      <th>interval_from</th>\n",
       "      <th>interval_to</th>\n",
       "      <th>output_B04_B0_min</th>\n",
       "      <th>output_B04_B0_max</th>\n",
       "      <th>output_B04_B0_mean</th>\n",
       "      <th>output_B04_B0_stDev</th>\n",
       "      <th>output_B04_B0_sampleCount</th>\n",
       "      <th>output_B04_B0_noDataCount</th>\n",
       "      <th>output_B04_B0_percentiles_33.0</th>\n",
       "      <th>output_B04_B0_percentiles_50.0</th>\n",
       "      <th>output_B04_B0_percentiles_75.0</th>\n",
       "      <th>output_B04_B0_percentiles_90.0</th>\n",
       "      <th>output_B04_B0_histogram</th>\n",
       "    </tr>\n",
       "  </thead>\n",
       "  <tbody>\n",
       "    <tr>\n",
       "      <th>0</th>\n",
       "      <td>geom_0</td>\n",
       "      <td>2020-07-04</td>\n",
       "      <td>2020-07-05</td>\n",
       "      <td>0.0797</td>\n",
       "      <td>0.3096</td>\n",
       "      <td>0.114711</td>\n",
       "      <td>0.034298</td>\n",
       "      <td>3240</td>\n",
       "      <td>0</td>\n",
       "      <td>0.0971</td>\n",
       "      <td>0.1036</td>\n",
       "      <td>0.1194</td>\n",
       "      <td>0.1604</td>\n",
       "      <td>{'bins': [{'lowEdge': 0.0, 'highEdge': 0.06, '...</td>\n",
       "    </tr>\n",
       "  </tbody>\n",
       "</table>\n",
       "</div>"
      ],
      "text/plain": [
       "       id interval_from interval_to  output_B04_B0_min  output_B04_B0_max  \\\n",
       "0  geom_0    2020-07-04  2020-07-05             0.0797             0.3096   \n",
       "\n",
       "   output_B04_B0_mean  output_B04_B0_stDev  output_B04_B0_sampleCount  \\\n",
       "0            0.114711             0.034298                       3240   \n",
       "\n",
       "   output_B04_B0_noDataCount  output_B04_B0_percentiles_33.0  \\\n",
       "0                          0                          0.0971   \n",
       "\n",
       "   output_B04_B0_percentiles_50.0  output_B04_B0_percentiles_75.0  \\\n",
       "0                          0.1036                          0.1194   \n",
       "\n",
       "   output_B04_B0_percentiles_90.0  \\\n",
       "0                          0.1604   \n",
       "\n",
       "                             output_B04_B0_histogram  \n",
       "0  {'bins': [{'lowEdge': 0.0, 'highEdge': 0.06, '...  "
      ]
     },
     "execution_count": 12,
     "metadata": {},
     "output_type": "execute_result"
    }
   ],
   "source": [
    "response._dfs[ 0 ]"
   ]
  },
  {
   "cell_type": "markdown",
   "id": "9efba155",
   "metadata": {},
   "source": [
    "{'data': [{'interval': {'from': '2020-07-04T00:00:00Z',\n",
    "    'to': '2020-07-05T00:00:00Z'},\n",
    "   'outputs': {'output_B04': {'bands': {'B0': {'stats': {'min': 0.07970000058412552,\n",
    "        'max': 0.30959999561309814,\n",
    "        'mean': 0.11471141986778864,\n",
    "        'stDev': 0.034298170449733226,\n",
    "        'sampleCount': 3240,\n",
    "        'noDataCount': 0,\n",
    "        'percentiles': {'33.0': 0.09709999710321426,\n",
    "         '50.0': 0.10360000282526016,\n",
    "         '75.0': 0.11940000206232071,\n",
    "         '90.0': 0.16040000319480896}},\n",
    "       'histogram': {'bins': [{'lowEdge': 0.0, 'highEdge': 0.06, 'count': 0},\n",
    "         {'lowEdge': 0.06, 'highEdge': 0.12, 'count': 2458},\n",
    "         {'lowEdge': 0.12, 'highEdge': 0.18, 'count': 558},\n",
    "         {'lowEdge': 0.18, 'highEdge': 0.24, 'count': 177},\n",
    "         {'lowEdge': 0.24, 'highEdge': 0.3, 'count': 44}],\n",
    "        'overflowCount': 0,\n",
    "        'underflowCount': 3}}}}}}],\n",
    " 'status': 'OK'}"
   ]
  },
  {
   "cell_type": "markdown",
   "id": "da9eed45",
   "metadata": {},
   "source": [
    "### _Quick plot of normalised histogram counts_"
   ]
  },
  {
   "cell_type": "code",
   "execution_count": 13,
   "id": "3ee3ad5e",
   "metadata": {},
   "outputs": [
    {
     "data": {
      "text/plain": [
       "<BarContainer object of 5 artists>"
      ]
     },
     "execution_count": 13,
     "metadata": {},
     "output_type": "execute_result"
    },
    {
     "data": {
      "image/png": "[encoded data removed]",
      "text/plain": [
       "<Figure size 432x288 with 1 Axes>"
      ]
     },
     "metadata": {
      "needs_background": "light"
     },
     "output_type": "display_data"
    }
   ],
   "source": [
    "import matplotlib.pyplot as plt\n",
    "import numpy as np\n",
    "\n",
    "hist = response._dfs[ 0 ].iloc[ 0 ][ 'output_B04_B0_histogram' ]\n",
    "plt.bar(x=hist['bin_edges'][:-1], height=hist['normalised_counts'], width=np.diff(hist['bin_edges']), align='edge', fc='skyblue', ec='black')\n"
   ]
  },
  {
   "cell_type": "markdown",
   "id": "43ad98be",
   "metadata": {},
   "source": [
    "### _Repeat Statistical API request for two months with 10 days aggregation period_"
   ]
  },
  {
   "cell_type": "code",
   "execution_count": 14,
   "id": "da88a57a",
   "metadata": {},
   "outputs": [],
   "source": [
    "timeframe = { 'start' : datetime.strptime('2020-06-01', '%Y-%m-%d'), \n",
    "              'end' : datetime.strptime('2020-07-31', '%Y-%m-%d') }"
   ]
  },
  {
   "cell_type": "code",
   "execution_count": 15,
   "id": "4e6c3f31",
   "metadata": {},
   "outputs": [],
   "source": [
    "# submit request\n",
    "response = client.getStatistics( [ timeframe ], resolution=10, bbox=bbox, interval='P10D' )"
   ]
  },
  {
   "cell_type": "code",
   "execution_count": 16,
   "id": "d479dedc",
   "metadata": {},
   "outputs": [
    {
     "data": {
      "text/html": [
       "<div>\n",
       "<style scoped>\n",
       "    .dataframe tbody tr th:only-of-type {\n",
       "        vertical-align: middle;\n",
       "    }\n",
       "\n",
       "    .dataframe tbody tr th {\n",
       "        vertical-align: top;\n",
       "    }\n",
       "\n",
       "    .dataframe thead th {\n",
       "        text-align: right;\n",
       "    }\n",
       "</style>\n",
       "<table border=\"1\" class=\"dataframe\">\n",
       "  <thead>\n",
       "    <tr style=\"text-align: right;\">\n",
       "      <th></th>\n",
       "      <th>id</th>\n",
       "      <th>interval_from</th>\n",
       "      <th>interval_to</th>\n",
       "      <th>output_B04_B0_min</th>\n",
       "      <th>output_B04_B0_max</th>\n",
       "      <th>output_B04_B0_mean</th>\n",
       "      <th>output_B04_B0_stDev</th>\n",
       "      <th>output_B04_B0_sampleCount</th>\n",
       "      <th>output_B04_B0_noDataCount</th>\n",
       "      <th>output_B04_B0_percentiles_33.0</th>\n",
       "      <th>output_B04_B0_percentiles_50.0</th>\n",
       "      <th>output_B04_B0_percentiles_75.0</th>\n",
       "      <th>output_B04_B0_percentiles_90.0</th>\n",
       "      <th>output_B04_B0_histogram</th>\n",
       "    </tr>\n",
       "  </thead>\n",
       "  <tbody>\n",
       "    <tr>\n",
       "      <th>0</th>\n",
       "      <td>geom_0</td>\n",
       "      <td>2020-06-01</td>\n",
       "      <td>2020-06-11</td>\n",
       "      <td>0.7892</td>\n",
       "      <td>0.8304</td>\n",
       "      <td>0.804224</td>\n",
       "      <td>0.006707</td>\n",
       "      <td>3240</td>\n",
       "      <td>0</td>\n",
       "      <td>0.8008</td>\n",
       "      <td>0.8028</td>\n",
       "      <td>0.8076</td>\n",
       "      <td>0.8140</td>\n",
       "      <td>{'bins': [{'lowEdge': 0.0, 'highEdge': 0.06, '...</td>\n",
       "    </tr>\n",
       "    <tr>\n",
       "      <th>1</th>\n",
       "      <td>geom_0</td>\n",
       "      <td>2020-06-11</td>\n",
       "      <td>2020-06-21</td>\n",
       "      <td>0.0163</td>\n",
       "      <td>0.5956</td>\n",
       "      <td>0.062401</td>\n",
       "      <td>0.062665</td>\n",
       "      <td>3240</td>\n",
       "      <td>0</td>\n",
       "      <td>0.0297</td>\n",
       "      <td>0.0398</td>\n",
       "      <td>0.0680</td>\n",
       "      <td>0.1354</td>\n",
       "      <td>{'bins': [{'lowEdge': 0.0, 'highEdge': 0.06, '...</td>\n",
       "    </tr>\n",
       "    <tr>\n",
       "      <th>2</th>\n",
       "      <td>geom_0</td>\n",
       "      <td>2020-06-21</td>\n",
       "      <td>2020-07-01</td>\n",
       "      <td>0.0260</td>\n",
       "      <td>0.4380</td>\n",
       "      <td>0.068724</td>\n",
       "      <td>0.056520</td>\n",
       "      <td>3240</td>\n",
       "      <td>0</td>\n",
       "      <td>0.0423</td>\n",
       "      <td>0.0458</td>\n",
       "      <td>0.0684</td>\n",
       "      <td>0.1410</td>\n",
       "      <td>{'bins': [{'lowEdge': 0.0, 'highEdge': 0.06, '...</td>\n",
       "    </tr>\n",
       "    <tr>\n",
       "      <th>3</th>\n",
       "      <td>geom_0</td>\n",
       "      <td>2020-07-01</td>\n",
       "      <td>2020-07-11</td>\n",
       "      <td>0.0797</td>\n",
       "      <td>0.3096</td>\n",
       "      <td>0.114711</td>\n",
       "      <td>0.034298</td>\n",
       "      <td>3240</td>\n",
       "      <td>0</td>\n",
       "      <td>0.0971</td>\n",
       "      <td>0.1036</td>\n",
       "      <td>0.1194</td>\n",
       "      <td>0.1604</td>\n",
       "      <td>{'bins': [{'lowEdge': 0.0, 'highEdge': 0.06, '...</td>\n",
       "    </tr>\n",
       "    <tr>\n",
       "      <th>4</th>\n",
       "      <td>geom_0</td>\n",
       "      <td>2020-07-11</td>\n",
       "      <td>2020-07-21</td>\n",
       "      <td>0.0174</td>\n",
       "      <td>0.4188</td>\n",
       "      <td>0.062195</td>\n",
       "      <td>0.063177</td>\n",
       "      <td>3240</td>\n",
       "      <td>0</td>\n",
       "      <td>0.0302</td>\n",
       "      <td>0.0343</td>\n",
       "      <td>0.0639</td>\n",
       "      <td>0.1464</td>\n",
       "      <td>{'bins': [{'lowEdge': 0.0, 'highEdge': 0.06, '...</td>\n",
       "    </tr>\n",
       "    <tr>\n",
       "      <th>5</th>\n",
       "      <td>geom_0</td>\n",
       "      <td>2020-07-21</td>\n",
       "      <td>2020-07-31</td>\n",
       "      <td>0.1392</td>\n",
       "      <td>0.4928</td>\n",
       "      <td>0.314640</td>\n",
       "      <td>0.054701</td>\n",
       "      <td>3240</td>\n",
       "      <td>0</td>\n",
       "      <td>0.2880</td>\n",
       "      <td>0.3108</td>\n",
       "      <td>0.3506</td>\n",
       "      <td>0.3842</td>\n",
       "      <td>{'bins': [{'lowEdge': 0.0, 'highEdge': 0.06, '...</td>\n",
       "    </tr>\n",
       "  </tbody>\n",
       "</table>\n",
       "</div>"
      ],
      "text/plain": [
       "       id interval_from interval_to  output_B04_B0_min  output_B04_B0_max  \\\n",
       "0  geom_0    2020-06-01  2020-06-11             0.7892             0.8304   \n",
       "1  geom_0    2020-06-11  2020-06-21             0.0163             0.5956   \n",
       "2  geom_0    2020-06-21  2020-07-01             0.0260             0.4380   \n",
       "3  geom_0    2020-07-01  2020-07-11             0.0797             0.3096   \n",
       "4  geom_0    2020-07-11  2020-07-21             0.0174             0.4188   \n",
       "5  geom_0    2020-07-21  2020-07-31             0.1392             0.4928   \n",
       "\n",
       "   output_B04_B0_mean  output_B04_B0_stDev  output_B04_B0_sampleCount  \\\n",
       "0            0.804224             0.006707                       3240   \n",
       "1            0.062401             0.062665                       3240   \n",
       "2            0.068724             0.056520                       3240   \n",
       "3            0.114711             0.034298                       3240   \n",
       "4            0.062195             0.063177                       3240   \n",
       "5            0.314640             0.054701                       3240   \n",
       "\n",
       "   output_B04_B0_noDataCount  output_B04_B0_percentiles_33.0  \\\n",
       "0                          0                          0.8008   \n",
       "1                          0                          0.0297   \n",
       "2                          0                          0.0423   \n",
       "3                          0                          0.0971   \n",
       "4                          0                          0.0302   \n",
       "5                          0                          0.2880   \n",
       "\n",
       "   output_B04_B0_percentiles_50.0  output_B04_B0_percentiles_75.0  \\\n",
       "0                          0.8028                          0.8076   \n",
       "1                          0.0398                          0.0680   \n",
       "2                          0.0458                          0.0684   \n",
       "3                          0.1036                          0.1194   \n",
       "4                          0.0343                          0.0639   \n",
       "5                          0.3108                          0.3506   \n",
       "\n",
       "   output_B04_B0_percentiles_90.0  \\\n",
       "0                          0.8140   \n",
       "1                          0.1354   \n",
       "2                          0.1410   \n",
       "3                          0.1604   \n",
       "4                          0.1464   \n",
       "5                          0.3842   \n",
       "\n",
       "                             output_B04_B0_histogram  \n",
       "0  {'bins': [{'lowEdge': 0.0, 'highEdge': 0.06, '...  \n",
       "1  {'bins': [{'lowEdge': 0.0, 'highEdge': 0.06, '...  \n",
       "2  {'bins': [{'lowEdge': 0.0, 'highEdge': 0.06, '...  \n",
       "3  {'bins': [{'lowEdge': 0.0, 'highEdge': 0.06, '...  \n",
       "4  {'bins': [{'lowEdge': 0.0, 'highEdge': 0.06, '...  \n",
       "5  {'bins': [{'lowEdge': 0.0, 'highEdge': 0.06, '...  "
      ]
     },
     "execution_count": 16,
     "metadata": {},
     "output_type": "execute_result"
    }
   ],
   "source": [
    "response._dfs[ 0 ]"
   ]
  },
  {
   "cell_type": "markdown",
   "id": "180074d4",
   "metadata": {},
   "source": [
    "{'data': [{'interval': {'from': '2020-06-01T00:00:00Z',\n",
    "    'to': '2020-06-11T00:00:00Z'},\n",
    "   'outputs': {'output_B04': {'bands': {'B0': {'stats': {'min': 0.7892000079154968,\n",
    "        'max': 0.8303999900817871,\n",
    "        'mean': 0.804223583473102,\n",
    "        'stDev': 0.0067066009561434865,\n",
    "        'sampleCount': 3240,\n",
    "        'noDataCount': 0}}}}}},\n",
    "  {'interval': {'from': '2020-06-11T00:00:00Z', 'to': '2020-06-21T00:00:00Z'},\n",
    "   'outputs': {'output_B04': {'bands': {'B0': {'stats': {'min': 0.016300000250339508,\n",
    "        'max': 0.5956000089645386,\n",
    "        'mean': 0.06240126554233315,\n",
    "        'stDev': 0.06266500670629409,\n",
    "        'sampleCount': 3240,\n",
    "        'noDataCount': 0}}}}}},\n",
    "  {'interval': {'from': '2020-06-21T00:00:00Z', 'to': '2020-07-01T00:00:00Z'},\n",
    "   'outputs': {'output_B04': {'bands': {'B0': {'stats': {'min': 0.026000000536441803,\n",
    "        'max': 0.43799999356269836,\n",
    "        'mean': 0.06872379640174772,\n",
    "        'stDev': 0.056520330692016944,\n",
    "        'sampleCount': 3240,\n",
    "        'noDataCount': 0}}}}}},\n",
    "  {'interval': {'from': '2020-07-01T00:00:00Z', 'to': '2020-07-11T00:00:00Z'},\n",
    "   'outputs': {'output_B04': {'bands': {'B0': {'stats': {'min': 0.07970000058412552,\n",
    "        'max': 0.30959999561309814,\n",
    "        'mean': 0.11471141986778864,\n",
    "        'stDev': 0.034298170449733226,\n",
    "        'sampleCount': 3240,\n",
    "        'noDataCount': 0}}}}}},\n",
    "  {'interval': {'from': '2020-07-11T00:00:00Z', 'to': '2020-07-21T00:00:00Z'},\n",
    "   'outputs': {'output_B04': {'bands': {'B0': {'stats': {'min': 0.017400000244379044,\n",
    "        'max': 0.4187999963760376,\n",
    "        'mean': 0.062194598779473156,\n",
    "        'stDev': 0.06317700445712106,\n",
    "        'sampleCount': 3240,\n",
    "        'noDataCount': 0}}}}}},\n",
    "  {'interval': {'from': '2020-07-21T00:00:00Z', 'to': '2020-07-31T00:00:00Z'},\n",
    "   'outputs': {'output_B04': {'bands': {'B0': {'stats': {'min': 0.13920000195503235,\n",
    "        'max': 0.4927999973297119,\n",
    "        'mean': 0.3146395680115182,\n",
    "        'stDev': 0.054700527707146035,\n",
    "        'sampleCount': 3240,\n",
    "        'noDataCount': 0}}}}}}],\n",
    " 'status': 'OK'}"
   ]
  },
  {
   "cell_type": "code",
   "execution_count": null,
   "id": "bb4577be",
   "metadata": {},
   "outputs": [],
   "source": []
  }
 ],
 "metadata": {
  "kernelspec": {
   "display_name": "Python 3 (ipykernel)",
   "language": "python",
   "name": "python3"
  },
  "language_info": {
   "codemirror_mode": {
    "name": "ipython",
    "version": 3
   },
   "file_extension": ".py",
   "mimetype": "text/x-python",
   "name": "python",
   "nbconvert_exporter": "python",
   "pygments_lexer": "ipython3",
   "version": "3.9.9"
  }
 },
 "nbformat": 4,
 "nbformat_minor": 5
}
