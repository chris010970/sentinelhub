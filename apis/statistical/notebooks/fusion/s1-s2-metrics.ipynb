{
 "cells": [
  {
   "cell_type": "markdown",
   "id": "100b31ab",
   "metadata": {},
   "source": [
    "# Combined Sentinel-1 and Sentinel-2 Temporal Statistical Analysis"
   ]
  },
  {
   "cell_type": "code",
   "execution_count": 1,
   "id": "7c6555ff",
   "metadata": {},
   "outputs": [],
   "source": [
    "import os\n",
    "import yaml\n",
    "from munch import munchify"
   ]
  },
  {
   "cell_type": "markdown",
   "id": "928f3390",
   "metadata": {},
   "source": [
    "### _Setup configuration and environment_"
   ]
  },
  {
   "cell_type": "code",
   "execution_count": 2,
   "id": "854b8940",
   "metadata": {},
   "outputs": [],
   "source": [
    "# define repo name and get root working directory\n",
    "repo = 'statistical'\n",
    "root_path = os.getcwd()[ 0 : os.getcwd().find( repo ) + len ( repo )]\n",
    "\n",
    "# get path to configuration files\n",
    "cfg_path = os.path.join( root_path, 'cfg' )\n",
    "cfg_path = os.path.join( cfg_path, 'fusion' )"
   ]
  },
  {
   "cell_type": "code",
   "execution_count": 3,
   "id": "5543aa9f",
   "metadata": {},
   "outputs": [],
   "source": [
    "# get pathname to configuration file\n",
    "cfg_path = 'C:\\\\Users\\\\crwil\\\\Documents\\\\GitHub\\\\gedi\\\\l4a\\\\cfg\\\\sentinelhub'\n",
    "cfg_file = os.path.join( cfg_path, 's1-s2-metrics.yml' )"
   ]
  },
  {
   "cell_type": "code",
   "execution_count": 4,
   "id": "fb957a9f",
   "metadata": {},
   "outputs": [
    {
     "name": "stdout",
     "output_type": "stream",
     "text": [
      "request:\n",
      "    evalscript: |\n",
      "                //VERSION=3\n",
      "                function setup() {\n",
      "                    return {\n",
      "                        input: [{\n",
      "                            datasource: \"s1\",\n",
      "                            bands: [\n",
      "                                \"VV\",\n",
      "                                \"VH\",\n",
      "                                \"shadowMask\",\n",
      "                                \"dataMask\"\n",
      "                            ]\n",
      "                        },\n",
      "                        {\n",
      "                            datasource: \"s2_l2a\",\n",
      "                            bands: [    \"B02\",\n",
      "                                        \"B03\",\n",
      "                                        \"B04\",\n",
      "                                        \"B05\",\n",
      "                                        \"B06\",\n",
      "                                        \"B07\",\n",
      "                                        \"B08\",\n",
      "                                        \"B8A\",\n",
      "                                        \"B11\",\n",
      "                                        \"B12\",\n",
      "                                        \"CLM\",\n",
      "                                        \"viewZenithMean\",\n",
      "                                        \"dataMask\"\n",
      "                            ],\n",
      "                        } ],                        \n",
      "                        output: [\n",
      "                        {\n",
      "                            id: \"stats\",\n",
      "                            bands: [ \"s1_vv\", \"s1_vh\", \"s1_rvi\", \"s2_ndvi\", \"s2_evi\", \"s2_gndvi\", \"s2_ndci\", \"s2_mcari\" ],\n",
      "                            sampleType: \"FLOAT32\"                            \n",
      "                        },\n",
      "                        {\n",
      "                            id: \"dataMask\",\n",
      "                            bands: 1\n",
      "                        }]                        \n",
      "                    }\n",
      "                }\n",
      "                function evaluatePixel(samples) {\n",
      "                \n",
      "                    var s1 = samples.s1[0]\n",
      "                    var s2 = samples.s2_l2a[0]\n",
      "\n",
      "                    // create qa mask\n",
      "                    var qaMask = 1\n",
      "                    if ( s1.shadowMask > 0 ) {\n",
      "                        qaMask = 0\n",
      "                    }\n",
      "\n",
      "                    // degree of polarization\n",
      "                    var dop = ( s1.VV/( s1.VV + s1.VH ) ); \n",
      "                    var m = 1 - dop;  \n",
      "                    var rvi = (Math.sqrt(dop))*((4*(s1.VH))/( s1.VV + s1.VH ) );\n",
      "\n",
      "                    // Normalized Difference Vegetation Index \n",
      "                    var ndvi = index( s2.B08, s2.B04)\n",
      "                                       \n",
      "                    // Enhanced Vegetation Index\n",
      "                    var evi = 2.5 * ( s2.B08 - s2.B04 ) / (( s2.B08 + 6.0 * s2.B04 - 7.5 * s2.B02) + 1.0);\n",
      "                    \n",
      "                    // Green Normalized Difference Vegetation Index\n",
      "                    var gndvi = index( s2.B08, s2.B03) \n",
      "                                        \n",
      "                    // Normalized Difference Chlorophyll Index\n",
      "                    var ndci = index( s2.B05, s2.B04)\n",
      "                    \n",
      "                    // Modified Chlorophyll Absorption in Reflectance Index \n",
      "                    var mcari = (( s2.B05 - s2.B04) - 0.2 * (s2.B05 - s2.B03)) * (s2.B05 / s2.B04);\n",
      "                                        \n",
      "                    return {\n",
      "                        stats: [ s1.VV, s1.VH, rvi, ndvi, evi, gndvi, ndci, mcari, s2.CLM ],\n",
      "                        dataMask: [ s1.dataMask * s2.dataMask * qaMask ]\n",
      "                    }\n",
      "                }\n",
      "                // decibels\n",
      "                function toDb(linear) {\n",
      "                    return  ( linear > 0 ) ? 10 * Math.log( linear ) : -100\n",
      "                }\n",
      "    inputs:\n",
      "        - collection: SENTINEL2_L2A\n",
      "          id: s2_l2a\n",
      "        - collection: SENTINEL1\n",
      "          id: s1\n",
      "          options:\n",
      "            processing:\n",
      "                orthorectify: yes\n",
      "                backCoeff: GAMMA0_TERRAIN\n",
      "responses:\n",
      "\n"
     ]
    }
   ],
   "source": [
    "# print contents of configuration file\n",
    "with open( cfg_file ) as f:\n",
    "    print ( f.read() )"
   ]
  },
  {
   "cell_type": "code",
   "execution_count": 5,
   "id": "cedfa8ac",
   "metadata": {},
   "outputs": [
    {
     "data": {
      "text/plain": [
       "Munch({'request': Munch({'evalscript': '//VERSION=3\\nfunction setup() {\\n    return {\\n        input: [{\\n            datasource: \"s1\",\\n            bands: [\\n                \"VV\",\\n                \"VH\",\\n                \"shadowMask\",\\n                \"dataMask\"\\n            ]\\n        },\\n        {\\n            datasource: \"s2_l2a\",\\n            bands: [    \"B02\",\\n                        \"B03\",\\n                        \"B04\",\\n                        \"B05\",\\n                        \"B06\",\\n                        \"B07\",\\n                        \"B08\",\\n                        \"B8A\",\\n                        \"B11\",\\n                        \"B12\",\\n                        \"CLM\",\\n                        \"viewZenithMean\",\\n                        \"dataMask\"\\n            ],\\n        } ],                        \\n        output: [\\n        {\\n            id: \"stats\",\\n            bands: [ \"s1_vv\", \"s1_vh\", \"s1_rvi\", \"s2_ndvi\", \"s2_evi\", \"s2_gndvi\", \"s2_ndci\", \"s2_mcari\" ],\\n            sampleType: \"FLOAT32\"                            \\n        },\\n        {\\n            id: \"dataMask\",\\n            bands: 1\\n        }]                        \\n    }\\n}\\nfunction evaluatePixel(samples) {\\n\\n    var s1 = samples.s1[0]\\n    var s2 = samples.s2_l2a[0]\\n\\n    // create qa mask\\n    var qaMask = 1\\n    if ( s1.shadowMask > 0 ) {\\n        qaMask = 0\\n    }\\n\\n    // degree of polarization\\n    var dop = ( s1.VV/( s1.VV + s1.VH ) ); \\n    var m = 1 - dop;  \\n    var rvi = (Math.sqrt(dop))*((4*(s1.VH))/( s1.VV + s1.VH ) );\\n\\n    // Normalized Difference Vegetation Index \\n    var ndvi = index( s2.B08, s2.B04)\\n                       \\n    // Enhanced Vegetation Index\\n    var evi = 2.5 * ( s2.B08 - s2.B04 ) / (( s2.B08 + 6.0 * s2.B04 - 7.5 * s2.B02) + 1.0);\\n    \\n    // Green Normalized Difference Vegetation Index\\n    var gndvi = index( s2.B08, s2.B03) \\n                        \\n    // Normalized Difference Chlorophyll Index\\n    var ndci = index( s2.B05, s2.B04)\\n    \\n    // Modified Chlorophyll Absorption in Reflectance Index \\n    var mcari = (( s2.B05 - s2.B04) - 0.2 * (s2.B05 - s2.B03)) * (s2.B05 / s2.B04);\\n                        \\n    return {\\n        stats: [ s1.VV, s1.VH, rvi, ndvi, evi, gndvi, ndci, mcari, s2.CLM ],\\n        dataMask: [ s1.dataMask * s2.dataMask * qaMask ]\\n    }\\n}\\n// decibels\\nfunction toDb(linear) {\\n    return  ( linear > 0 ) ? 10 * Math.log( linear ) : -100\\n}\\n', 'inputs': [Munch({'collection': 'SENTINEL2_L2A', 'id': 's2_l2a'}), Munch({'collection': 'SENTINEL1', 'id': 's1', 'options': Munch({'processing': Munch({'orthorectify': True, 'backCoeff': 'GAMMA0_TERRAIN'})})})]}), 'responses': None})"
      ]
     },
     "execution_count": 5,
     "metadata": {},
     "output_type": "execute_result"
    }
   ],
   "source": [
    "# load cfg file using yaml parser\n",
    "with open( cfg_file, 'r' ) as f:\n",
    "    config = munchify( yaml.safe_load( f ) )\n",
    "config"
   ]
  },
  {
   "cell_type": "markdown",
   "id": "5fcf8145",
   "metadata": {},
   "source": [
    "### _Replicate use case results taken from Sentinel-Hub documentation_"
   ]
  },
  {
   "cell_type": "code",
   "execution_count": 6,
   "id": "d053cd7b",
   "metadata": {},
   "outputs": [],
   "source": [
    "# define aggregation timeframe\n",
    "from datetime import datetime\n",
    "timeframe = { 'start' : datetime.strptime('2020-08-10', '%Y-%m-%d'), \n",
    "              'end' : datetime.strptime('2020-10-30', '%Y-%m-%d') }"
   ]
  },
  {
   "cell_type": "code",
   "execution_count": 7,
   "id": "2ce7ee98",
   "metadata": {},
   "outputs": [],
   "source": [
    "# create instance of shclient class\n",
    "from statisticalapi import Client\n",
    "client = Client( config )"
   ]
  },
  {
   "cell_type": "code",
   "execution_count": 8,
   "id": "65760da3",
   "metadata": {},
   "outputs": [],
   "source": [
    "from sentinelhub import CRS\n",
    "\n",
    "# define min and max latlons\n",
    "# coords = 414315, 4958219, 414859, 4958819\n",
    "# epsg = 32633\n",
    "\n",
    "coords = 794801.3121695719, 9970630.68053934, 794861.3121695719, 9970690.68053934\n",
    "epsg = 32736\n",
    "\n",
    "crs = CRS( epsg )\n",
    "bbox = client.getBoundingBox( coords, src_crs=crs )"
   ]
  },
  {
   "cell_type": "code",
   "execution_count": 9,
   "id": "b7a7d5e0",
   "metadata": {},
   "outputs": [],
   "source": [
    "# submit request\n",
    "response = client.getStatistics( [ timeframe ], resolution=10, bbox=bbox, interval='P1D' )"
   ]
  },
  {
   "cell_type": "code",
   "execution_count": 10,
   "id": "6149548b",
   "metadata": {},
   "outputs": [
    {
     "data": {
      "text/html": [
       "<div>\n",
       "<style scoped>\n",
       "    .dataframe tbody tr th:only-of-type {\n",
       "        vertical-align: middle;\n",
       "    }\n",
       "\n",
       "    .dataframe tbody tr th {\n",
       "        vertical-align: top;\n",
       "    }\n",
       "\n",
       "    .dataframe thead th {\n",
       "        text-align: right;\n",
       "    }\n",
       "</style>\n",
       "<table border=\"1\" class=\"dataframe\">\n",
       "  <thead>\n",
       "    <tr style=\"text-align: right;\">\n",
       "      <th></th>\n",
       "      <th>id</th>\n",
       "      <th>interval_from</th>\n",
       "      <th>interval_to</th>\n",
       "      <th>stats_s1_vv_min</th>\n",
       "      <th>stats_s1_vv_max</th>\n",
       "      <th>stats_s1_vv_mean</th>\n",
       "      <th>stats_s1_vv_stDev</th>\n",
       "      <th>stats_s1_vv_sampleCount</th>\n",
       "      <th>stats_s1_vv_noDataCount</th>\n",
       "      <th>stats_s1_vh_min</th>\n",
       "      <th>...</th>\n",
       "      <th>stats_s2_ndci_mean</th>\n",
       "      <th>stats_s2_ndci_stDev</th>\n",
       "      <th>stats_s2_ndci_sampleCount</th>\n",
       "      <th>stats_s2_ndci_noDataCount</th>\n",
       "      <th>stats_s2_mcari_min</th>\n",
       "      <th>stats_s2_mcari_max</th>\n",
       "      <th>stats_s2_mcari_mean</th>\n",
       "      <th>stats_s2_mcari_stDev</th>\n",
       "      <th>stats_s2_mcari_sampleCount</th>\n",
       "      <th>stats_s2_mcari_noDataCount</th>\n",
       "    </tr>\n",
       "  </thead>\n",
       "  <tbody>\n",
       "    <tr>\n",
       "      <th>0</th>\n",
       "      <td>geom_0</td>\n",
       "      <td>2020-08-19</td>\n",
       "      <td>2020-08-20</td>\n",
       "      <td>0.066859</td>\n",
       "      <td>0.444549</td>\n",
       "      <td>0.195031</td>\n",
       "      <td>0.098463</td>\n",
       "      <td>36</td>\n",
       "      <td>0</td>\n",
       "      <td>0.018428</td>\n",
       "      <td>...</td>\n",
       "      <td>0.467263</td>\n",
       "      <td>0.031999</td>\n",
       "      <td>36</td>\n",
       "      <td>0</td>\n",
       "      <td>0.113677</td>\n",
       "      <td>0.193808</td>\n",
       "      <td>0.152609</td>\n",
       "      <td>0.022221</td>\n",
       "      <td>36</td>\n",
       "      <td>0</td>\n",
       "    </tr>\n",
       "    <tr>\n",
       "      <th>1</th>\n",
       "      <td>geom_0</td>\n",
       "      <td>2020-09-08</td>\n",
       "      <td>2020-09-09</td>\n",
       "      <td>0.057078</td>\n",
       "      <td>0.677958</td>\n",
       "      <td>0.270756</td>\n",
       "      <td>0.150598</td>\n",
       "      <td>36</td>\n",
       "      <td>0</td>\n",
       "      <td>0.018305</td>\n",
       "      <td>...</td>\n",
       "      <td>0.113640</td>\n",
       "      <td>0.019428</td>\n",
       "      <td>36</td>\n",
       "      <td>0</td>\n",
       "      <td>0.031924</td>\n",
       "      <td>0.080434</td>\n",
       "      <td>0.056579</td>\n",
       "      <td>0.009705</td>\n",
       "      <td>36</td>\n",
       "      <td>0</td>\n",
       "    </tr>\n",
       "    <tr>\n",
       "      <th>2</th>\n",
       "      <td>geom_0</td>\n",
       "      <td>2020-10-18</td>\n",
       "      <td>2020-10-19</td>\n",
       "      <td>0.114888</td>\n",
       "      <td>0.877831</td>\n",
       "      <td>0.302225</td>\n",
       "      <td>0.172874</td>\n",
       "      <td>36</td>\n",
       "      <td>0</td>\n",
       "      <td>0.014511</td>\n",
       "      <td>...</td>\n",
       "      <td>0.015650</td>\n",
       "      <td>0.010079</td>\n",
       "      <td>36</td>\n",
       "      <td>0</td>\n",
       "      <td>0.004267</td>\n",
       "      <td>0.097173</td>\n",
       "      <td>0.049087</td>\n",
       "      <td>0.024197</td>\n",
       "      <td>36</td>\n",
       "      <td>0</td>\n",
       "    </tr>\n",
       "  </tbody>\n",
       "</table>\n",
       "<p>3 rows × 51 columns</p>\n",
       "</div>"
      ],
      "text/plain": [
       "       id interval_from interval_to  stats_s1_vv_min  stats_s1_vv_max  \\\n",
       "0  geom_0    2020-08-19  2020-08-20         0.066859         0.444549   \n",
       "1  geom_0    2020-09-08  2020-09-09         0.057078         0.677958   \n",
       "2  geom_0    2020-10-18  2020-10-19         0.114888         0.877831   \n",
       "\n",
       "   stats_s1_vv_mean  stats_s1_vv_stDev  stats_s1_vv_sampleCount  \\\n",
       "0          0.195031           0.098463                       36   \n",
       "1          0.270756           0.150598                       36   \n",
       "2          0.302225           0.172874                       36   \n",
       "\n",
       "   stats_s1_vv_noDataCount  stats_s1_vh_min  ...  stats_s2_ndci_mean  \\\n",
       "0                        0         0.018428  ...            0.467263   \n",
       "1                        0         0.018305  ...            0.113640   \n",
       "2                        0         0.014511  ...            0.015650   \n",
       "\n",
       "   stats_s2_ndci_stDev  stats_s2_ndci_sampleCount  stats_s2_ndci_noDataCount  \\\n",
       "0             0.031999                         36                          0   \n",
       "1             0.019428                         36                          0   \n",
       "2             0.010079                         36                          0   \n",
       "\n",
       "   stats_s2_mcari_min  stats_s2_mcari_max  stats_s2_mcari_mean  \\\n",
       "0            0.113677            0.193808             0.152609   \n",
       "1            0.031924            0.080434             0.056579   \n",
       "2            0.004267            0.097173             0.049087   \n",
       "\n",
       "   stats_s2_mcari_stDev  stats_s2_mcari_sampleCount  \\\n",
       "0              0.022221                          36   \n",
       "1              0.009705                          36   \n",
       "2              0.024197                          36   \n",
       "\n",
       "   stats_s2_mcari_noDataCount  \n",
       "0                           0  \n",
       "1                           0  \n",
       "2                           0  \n",
       "\n",
       "[3 rows x 51 columns]"
      ]
     },
     "execution_count": 10,
     "metadata": {},
     "output_type": "execute_result"
    }
   ],
   "source": [
    "response._dfs[ 0 ]"
   ]
  },
  {
   "cell_type": "code",
   "execution_count": 11,
   "id": "2ad900d1",
   "metadata": {},
   "outputs": [
    {
     "data": {
      "text/plain": [
       "<AxesSubplot:xlabel='interval_from'>"
      ]
     },
     "execution_count": 11,
     "metadata": {},
     "output_type": "execute_result"
    },
    {
     "data": {
      "image/png": "[encoded data removed]",
      "text/plain": [
       "<Figure size 720x720 with 1 Axes>"
      ]
     },
     "metadata": {
      "needs_background": "light"
     },
     "output_type": "display_data"
    }
   ],
   "source": [
    "import matplotlib.pyplot as plt\n",
    "fig, ax = plt.subplots( nrows=1, ncols=1, figsize=(10,10) )\n",
    "response._dfs[ 0 ].plot( ax=ax, x='interval_from', y='stats_s1_vv_mean' )\n",
    "response._dfs[ 0 ].plot( ax=ax, x='interval_from', y='stats_s2_ndvi_mean' )"
   ]
  },
  {
   "cell_type": "code",
   "execution_count": null,
   "id": "89df794a",
   "metadata": {},
   "outputs": [],
   "source": []
  }
 ],
 "metadata": {
  "kernelspec": {
   "display_name": "Python 3 (ipykernel)",
   "language": "python",
   "name": "python3"
  },
  "language_info": {
   "codemirror_mode": {
    "name": "ipython",
    "version": 3
   },
   "file_extension": ".py",
   "mimetype": "text/x-python",
   "name": "python",
   "nbconvert_exporter": "python",
   "pygments_lexer": "ipython3",
   "version": "3.9.9"
  }
 },
 "nbformat": 4,
 "nbformat_minor": 5
}
