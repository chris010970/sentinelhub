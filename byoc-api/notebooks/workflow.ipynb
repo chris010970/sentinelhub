{
 "cells": [
  {
   "cell_type": "markdown",
   "id": "baa392d3",
   "metadata": {},
   "source": [
    "# Basic Workflow to create Sentinel-Hub BYOC collection"
   ]
  },
  {
   "cell_type": "code",
   "execution_count": 1,
   "id": "65880568",
   "metadata": {},
   "outputs": [],
   "source": [
    "import os\n",
    "import glob"
   ]
  },
  {
   "cell_type": "code",
   "execution_count": 2,
   "id": "02653938",
   "metadata": {},
   "outputs": [
    {
     "data": {
      "text/plain": [
       "'C:\\\\Users\\\\crwil\\\\Documents\\\\GitHub\\\\sentinelhub\\\\byoc-api'"
      ]
     },
     "execution_count": 2,
     "metadata": {},
     "output_type": "execute_result"
    }
   ],
   "source": [
    "# define repo name and get root working directory\n",
    "repo = 'byoc-api'\n",
    "root_path = os.getcwd()[ 0 : os.getcwd().find( repo ) + len ( repo )]\n",
    "root_path"
   ]
  },
  {
   "cell_type": "markdown",
   "id": "6ee46a96",
   "metadata": {},
   "source": [
    "### _Use small selection of Landsat 8/9 images to create BYOC collection_"
   ]
  },
  {
   "cell_type": "code",
   "execution_count": 3,
   "id": "a5e9a9b9",
   "metadata": {},
   "outputs": [
    {
     "data": {
      "text/plain": [
       "['C:\\\\Users\\\\crwil\\\\Documents\\\\GitHub\\\\sentinelhub\\\\byoc-api\\\\data\\\\LC08_L2SP_203025_20210907_20210915_02_T1_SR_B1.TIF',\n",
       " 'C:\\\\Users\\\\crwil\\\\Documents\\\\GitHub\\\\sentinelhub\\\\byoc-api\\\\data\\\\LC08_L2SP_203025_20210907_20210915_02_T1_SR_B2.TIF',\n",
       " 'C:\\\\Users\\\\crwil\\\\Documents\\\\GitHub\\\\sentinelhub\\\\byoc-api\\\\data\\\\LC08_L2SP_203025_20211126_20211201_02_T1_SR_B1.TIF',\n",
       " 'C:\\\\Users\\\\crwil\\\\Documents\\\\GitHub\\\\sentinelhub\\\\byoc-api\\\\data\\\\LC08_L2SP_203025_20211126_20211201_02_T1_SR_B2.TIF',\n",
       " 'C:\\\\Users\\\\crwil\\\\Documents\\\\GitHub\\\\sentinelhub\\\\byoc-api\\\\data\\\\LC09_L2SP_203024_20220310_20220312_02_T1_SR_B1.TIF',\n",
       " 'C:\\\\Users\\\\crwil\\\\Documents\\\\GitHub\\\\sentinelhub\\\\byoc-api\\\\data\\\\LC09_L2SP_203024_20220310_20220312_02_T1_SR_B2.TIF']"
      ]
     },
     "execution_count": 3,
     "metadata": {},
     "output_type": "execute_result"
    }
   ],
   "source": [
    "# get directory contents\n",
    "scenes = glob.glob( os.path.join( root_path, 'data/*.TIF') )\n",
    "scenes"
   ]
  },
  {
   "cell_type": "code",
   "execution_count": 4,
   "id": "b1854d20",
   "metadata": {},
   "outputs": [],
   "source": [
    "# LC08_L2SP_203025_20210907_20210915_02_T1_SR_B1.TIF\n",
    "SOURCE = 0\n",
    "LEVEL = 1\n",
    "PATH_ROW = 2\n",
    "ACQUISITION_DATETIME = 3\n",
    "PROCESSING_DATETIME = 4\n",
    "COLLECTION = 5"
   ]
  },
  {
   "cell_type": "markdown",
   "id": "3cc1966f",
   "metadata": {},
   "source": [
    "### _Use GDAL to convert Landsat 8/9 channel images to COG format_"
   ]
  },
  {
   "cell_type": "code",
   "execution_count": 5,
   "id": "8c4c5fd3",
   "metadata": {},
   "outputs": [],
   "source": [
    "from osgeo import gdal\n",
    "from datetime import datetime\n",
    "\n",
    "# process each scene to cog\n",
    "out_path = os.path.join( root_path, 'cogs' )\n",
    "for scene in scenes:\n",
    "    \n",
    "    # split on underscore\n",
    "    tokens = os.path.basename( scene ).split( '_' )\n",
    "    dt = datetime.strptime( tokens[ ACQUISITION_DATETIME ], '%Y%m%d' )\n",
    "    \n",
    "    # construct unique path for scene\n",
    "    path = os.path.join( out_path, tokens[ PATH_ROW ] )\n",
    "    path = os.path.join( path, dt.strftime( '%Y%m%d_000000' ) )\n",
    "    \n",
    "    if not os.path.exists( path ):\n",
    "        os.makedirs( path )\n",
    "\n",
    "    # open newly created tile with gdal\n",
    "    ds = gdal.Open( scene )\n",
    "    if ds is not None:\n",
    "        \n",
    "        # additional info from: https://docs.sentinel-hub.com/api/latest/api/byoc/#constraints-and-settings\n",
    "        # remember to define NO_DATA_VALUE if input data has nodata values: -a_nodata NO_DATA_VALUE\n",
    "        # add a predictor to further reduce the file size: add -co PREDICTOR=YES.\n",
    "        \n",
    "        # setup options\n",
    "        options = '-a_nodata 0 '\n",
    "        options += '-of COG -co COMPRESS=DEFLATE -co BLOCKSIZE=1024 -co RESAMPLING=AVERAGE -co OVERVIEWS=IGNORE_EXISTING '\n",
    "        options += '-co PREDICTOR=YES'\n",
    "                                \n",
    "        # translate png / jpg into geotiff\n",
    "        pathname = os.path.join( path, tokens[ -1 ] )\n",
    "        ds = gdal.Translate( pathname, ds, options=options )\n",
    "        ds = None"
   ]
  },
  {
   "cell_type": "code",
   "execution_count": 6,
   "id": "97864479",
   "metadata": {},
   "outputs": [
    {
     "data": {
      "text/plain": [
       "['C:\\\\Users\\\\crwil\\\\Documents\\\\GitHub\\\\sentinelhub\\\\byoc-api\\\\cogs\\\\203024\\\\20220310_000000\\\\B1.TIF',\n",
       " 'C:\\\\Users\\\\crwil\\\\Documents\\\\GitHub\\\\sentinelhub\\\\byoc-api\\\\cogs\\\\203024\\\\20220310_000000\\\\B2.TIF',\n",
       " 'C:\\\\Users\\\\crwil\\\\Documents\\\\GitHub\\\\sentinelhub\\\\byoc-api\\\\cogs\\\\203025\\\\20210907_000000\\\\B1.TIF',\n",
       " 'C:\\\\Users\\\\crwil\\\\Documents\\\\GitHub\\\\sentinelhub\\\\byoc-api\\\\cogs\\\\203025\\\\20210907_000000\\\\B2.TIF',\n",
       " 'C:\\\\Users\\\\crwil\\\\Documents\\\\GitHub\\\\sentinelhub\\\\byoc-api\\\\cogs\\\\203025\\\\20211126_000000\\\\B1.TIF',\n",
       " 'C:\\\\Users\\\\crwil\\\\Documents\\\\GitHub\\\\sentinelhub\\\\byoc-api\\\\cogs\\\\203025\\\\20211126_000000\\\\B2.TIF']"
      ]
     },
     "execution_count": 6,
     "metadata": {},
     "output_type": "execute_result"
    }
   ],
   "source": [
    "cogs = glob.glob( os.path.join( root_path, 'cogs/**/*.TIF'), recursive=True )\n",
    "cogs"
   ]
  },
  {
   "cell_type": "markdown",
   "id": "bbef18ef",
   "metadata": {},
   "source": [
    "### _Upload newly generated COG images to AWS S3 bucket storage_"
   ]
  },
  {
   "cell_type": "code",
   "execution_count": 7,
   "id": "1b369e4a",
   "metadata": {},
   "outputs": [],
   "source": [
    "import boto3\n",
    "\n",
    "# bucket details\n",
    "s3 = boto3.resource('s3')\n",
    "BUCKET = \"4rd-climate-finance\"\n",
    "\n",
    "for cog in cogs:\n",
    "    \n",
    "    # create remote pathname\n",
    "    prefix = os.path.dirname( cog )[ len( os.path.join( root_path, 'cogs' ) ) + 1 : ]\n",
    "    prefix = os.path.join( 'byoc-collection-123', prefix )\n",
    "    \n",
    "    # get pathname\n",
    "    s3_pathname = os.path.join( prefix, os.path.basename( cog ) )    \n",
    "    s3_pathname = s3_pathname.replace(os.sep, '/' )\n",
    "    \n",
    "    # upload file to s3 bucket\n",
    "    s3.Bucket(BUCKET).upload_file( cog, s3_pathname )"
   ]
  },
  {
   "cell_type": "markdown",
   "id": "d1fa4ca4",
   "metadata": {},
   "source": [
    "### _Generate list of newly uploaded COG images on AWS storage bucket_"
   ]
  },
  {
   "cell_type": "code",
   "execution_count": 8,
   "id": "73430697",
   "metadata": {},
   "outputs": [],
   "source": [
    "import os\n",
    "import boto3\n",
    "from collections import namedtuple\n",
    "from operator import attrgetter\n",
    "\n",
    "\n",
    "S3Obj = namedtuple('S3Obj', ['key', 'mtime', 'size', 'ETag'])\n",
    "\n",
    "\n",
    "def s3list(bucket, path, start=None, end=None, recursive=True, list_dirs=True,\n",
    "           list_objs=True, limit=None):\n",
    "    \"\"\"\n",
    "    Iterator that lists a bucket's objects under path, (optionally) starting with\n",
    "    start and ending before end.\n",
    "\n",
    "    If recursive is False, then list only the \"depth=0\" items (dirs and objects).\n",
    "\n",
    "    If recursive is True, then list recursively all objects (no dirs).\n",
    "\n",
    "    Args:\n",
    "        bucket:\n",
    "            a boto3.resource('s3').Bucket().\n",
    "        path:\n",
    "            a directory in the bucket.\n",
    "        start:\n",
    "            optional: start key, inclusive (may be a relative path under path, or\n",
    "            absolute in the bucket)\n",
    "        end:\n",
    "            optional: stop key, exclusive (may be a relative path under path, or\n",
    "            absolute in the bucket)\n",
    "        recursive:\n",
    "            optional, default True. If True, lists only objects. If False, lists\n",
    "            only depth 0 \"directories\" and objects.\n",
    "        list_dirs:\n",
    "            optional, default True. Has no effect in recursive listing. On\n",
    "            non-recursive listing, if False, then directories are omitted.\n",
    "        list_objs:\n",
    "            optional, default True. If False, then directories are omitted.\n",
    "        limit:\n",
    "            optional. If specified, then lists at most this many items.\n",
    "\n",
    "    Returns:\n",
    "        an iterator of S3Obj.\n",
    "\n",
    "    Examples:\n",
    "        # set up\n",
    "        >>> s3 = boto3.resource('s3')\n",
    "        ... bucket = s3.Bucket('bucket-name')\n",
    "\n",
    "        # iterate through all S3 objects under some dir\n",
    "        >>> for p in s3list(bucket, 'some/dir'):\n",
    "        ...     print(p)\n",
    "\n",
    "        # iterate through up to 20 S3 objects under some dir, starting with foo_0010\n",
    "        >>> for p in s3list(bucket, 'some/dir', limit=20, start='foo_0010'):\n",
    "        ...     print(p)\n",
    "\n",
    "        # non-recursive listing under some dir:\n",
    "        >>> for p in s3list(bucket, 'some/dir', recursive=False):\n",
    "        ...     print(p)\n",
    "\n",
    "        # non-recursive listing under some dir, listing only dirs:\n",
    "        >>> for p in s3list(bucket, 'some/dir', recursive=False, list_objs=False):\n",
    "        ...     print(p)\n",
    "\"\"\"\n",
    "    kwargs = dict()\n",
    "    if start is not None:\n",
    "        if not start.startswith(path):\n",
    "            start = os.path.join(path, start)\n",
    "        # note: need to use a string just smaller than start, because\n",
    "        # the list_object API specifies that start is excluded (the first\n",
    "        # result is *after* start).\n",
    "        kwargs.update(Marker=__prev_str(start))\n",
    "    if end is not None:\n",
    "        if not end.startswith(path):\n",
    "            end = os.path.join(path, end)\n",
    "    if not recursive:\n",
    "        kwargs.update(Delimiter='/')\n",
    "        if not path.endswith('/'):\n",
    "            path += '/'\n",
    "    kwargs.update(Prefix=path)\n",
    "    if limit is not None:\n",
    "        kwargs.update(PaginationConfig={'MaxItems': limit})\n",
    "\n",
    "    paginator = bucket.meta.client.get_paginator('list_objects')\n",
    "    for resp in paginator.paginate(Bucket=bucket.name, **kwargs):\n",
    "        q = []\n",
    "        if 'CommonPrefixes' in resp and list_dirs:\n",
    "            q = [S3Obj(f['Prefix'], None, None, None) for f in resp['CommonPrefixes']]\n",
    "        if 'Contents' in resp and list_objs:\n",
    "            q += [S3Obj(f['Key'], f['LastModified'], f['Size'], f['ETag']) for f in resp['Contents']]\n",
    "        # note: even with sorted lists, it is faster to sort(a+b)\n",
    "        # than heapq.merge(a, b) at least up to 10K elements in each list\n",
    "        q = sorted(q, key=attrgetter('key'))\n",
    "        if limit is not None:\n",
    "            q = q[:limit]\n",
    "            limit -= len(q)\n",
    "        for p in q:\n",
    "            if end is not None and p.key >= end:\n",
    "                return\n",
    "            yield p\n",
    "\n",
    "\n",
    "def __prev_str(s):\n",
    "    if len(s) == 0:\n",
    "        return s\n",
    "    s, c = s[:-1], ord(s[-1])\n",
    "    if c > 0:\n",
    "        s += chr(c - 1)\n",
    "    s += ''.join(['\\u7FFF' for _ in range(10)])\n",
    "    return s"
   ]
  },
  {
   "cell_type": "code",
   "execution_count": 9,
   "id": "87165cec",
   "metadata": {},
   "outputs": [
    {
     "data": {
      "text/plain": [
       "['byoc-collection-123/203024/20220310_000000',\n",
       " 'byoc-collection-123/203024/20220310_000000',\n",
       " 'byoc-collection-123/203025/20210907_000000',\n",
       " 'byoc-collection-123/203025/20210907_000000',\n",
       " 'byoc-collection-123/203025/20211126_000000',\n",
       " 'byoc-collection-123/203025/20211126_000000']"
      ]
     },
     "execution_count": 9,
     "metadata": {},
     "output_type": "execute_result"
    }
   ],
   "source": [
    "s3 = boto3.resource('s3')\n",
    "bucket = s3.Bucket('4rd-climate-finance')\n",
    "\n",
    "# iterate through all S3 objects under some dir\n",
    "paths = []\n",
    "for p in s3list(bucket, 'byoc-collection-123/'):\n",
    "    paths.append( os.path.dirname( str(p.key) ) )\n",
    "paths"
   ]
  },
  {
   "cell_type": "markdown",
   "id": "a0dfc115",
   "metadata": {},
   "source": [
    "### _Initialise Process and BYOC API Configuration_"
   ]
  },
  {
   "cell_type": "code",
   "execution_count": 10,
   "id": "00a2a0e9",
   "metadata": {},
   "outputs": [],
   "source": [
    "from sentinelhub import (\n",
    "    SHConfig, DataCollection, Geometry, BBox, CRS,\n",
    "    SentinelHubRequest, filter_times, bbox_to_dimensions, MimeType,\n",
    "    SentinelHubBYOC, ByocCollection, ByocTile, ByocCollectionAdditionalData,\n",
    "    DownloadFailedException\n",
    ")\n",
    "\n",
    "# Initialize SentinelHubBYOC class\n",
    "config = SHConfig()\n",
    "byoc = SentinelHubBYOC(config=config)"
   ]
  },
  {
   "cell_type": "code",
   "execution_count": 11,
   "id": "b5ce64f7",
   "metadata": {},
   "outputs": [
    {
     "data": {
      "text/plain": [
       "[{'id': '2c709ccd-12bd-42c1-8308-ff8345e4a0d0',\n",
       "  'userId': '1f046949-4e02-4859-a4c1-807fc312dc7a',\n",
       "  'name': 'another_new_collection',\n",
       "  's3Bucket': '4rd-climate-finance',\n",
       "  'additionalData': {'bands': {'LC09_L2SP_203023_20220310_20220312_02_T1_SR_B1': {'bitDepth': 16,\n",
       "     'source': 'LC09_L2SP_203023_20220310_20220312_02_T1_SR_B1',\n",
       "     'bandIndex': 1,\n",
       "     'sampleFormat': 'UINT'},\n",
       "    'LC09_L2SP_203023_20220310_20220312_02_T1_SR_B2': {'bitDepth': 16,\n",
       "     'source': 'LC09_L2SP_203023_20220310_20220312_02_T1_SR_B2',\n",
       "     'bandIndex': 1,\n",
       "     'sampleFormat': 'UINT'}},\n",
       "   'maxMetersPerPixel': 2400.0,\n",
       "   'extent': {'type': 'Polygon',\n",
       "    'coordinates': [[[-3.789221674, 51.994693002],\n",
       "      [-3.789221674, 54.177840954],\n",
       "      [-0.164235984, 54.177840954],\n",
       "      [-0.164235984, 51.994693002],\n",
       "      [-3.789221674, 51.994693002]]]},\n",
       "   'hasSensingTimes': 'NO'},\n",
       "  'noData': 0,\n",
       "  'created': '2022-03-17T20:26:55.456140Z',\n",
       "  'requiresMetadataUpdate': False},\n",
       " {'id': '3d2a9be6-6c5b-4e7a-87d7-e6ea30e72f78',\n",
       "  'userId': '1f046949-4e02-4859-a4c1-807fc312dc7a',\n",
       "  'name': 'byoc-collection-123',\n",
       "  's3Bucket': '4rd-climate-finance',\n",
       "  'additionalData': {'bands': {'B1': {'bitDepth': 16,\n",
       "     'source': 'B1',\n",
       "     'bandIndex': 1,\n",
       "     'sampleFormat': 'UINT'},\n",
       "    'B2': {'bitDepth': 16,\n",
       "     'source': 'B2',\n",
       "     'bandIndex': 1,\n",
       "     'sampleFormat': 'UINT'}},\n",
       "   'maxMetersPerPixel': 1200.0,\n",
       "   'extent': {'type': 'Polygon',\n",
       "    'coordinates': [[[-4.954224922, 49.180359191],\n",
       "      [-4.954224922, 52.764843732],\n",
       "      [-0.887166211, 52.764843732],\n",
       "      [-0.887166211, 49.180359191],\n",
       "      [-4.954224922, 49.180359191]]]},\n",
       "   'fromSensingTime': '2021-09-07T00:00:00Z',\n",
       "   'toSensingTime': '2022-03-10T00:00:00Z',\n",
       "   'hasSensingTimes': 'YES'},\n",
       "  'noData': 0,\n",
       "  'created': '2022-03-18T13:32:02.367698Z',\n",
       "  'requiresMetadataUpdate': False},\n",
       " {'id': '94ff6c84-2b9a-4268-a543-a03f75b40dc3',\n",
       "  'userId': '1f046949-4e02-4859-a4c1-807fc312dc7a',\n",
       "  'name': 'test',\n",
       "  's3Bucket': '4rd-climate-finance',\n",
       "  'additionalData': {'bands': {'LC09_L2SP_203023_20220310_20220312_02_T1_SR_B1': {'bitDepth': 16,\n",
       "     'source': 'LC09_L2SP_203023_20220310_20220312_02_T1_SR_B1',\n",
       "     'bandIndex': 1,\n",
       "     'sampleFormat': 'UINT'},\n",
       "    'LC09_L2SP_203023_20220310_20220312_02_T1_SR_B2': {'bitDepth': 16,\n",
       "     'source': 'LC09_L2SP_203023_20220310_20220312_02_T1_SR_B2',\n",
       "     'bandIndex': 1,\n",
       "     'sampleFormat': 'UINT'}},\n",
       "   'maxMetersPerPixel': 2400.0,\n",
       "   'extent': {'type': 'Polygon',\n",
       "    'coordinates': [[[-3.789221674, 51.994693002],\n",
       "      [-3.789221674, 54.177840954],\n",
       "      [-0.164235984, 54.177840954],\n",
       "      [-0.164235984, 51.994693002],\n",
       "      [-3.789221674, 51.994693002]]]},\n",
       "   'hasSensingTimes': 'NO'},\n",
       "  'noData': 0,\n",
       "  'created': '2022-03-17T12:22:29.216833Z',\n",
       "  'requiresMetadataUpdate': False}]"
      ]
     },
     "execution_count": 11,
     "metadata": {},
     "output_type": "execute_result"
    }
   ],
   "source": [
    "# get list of byoc collections\n",
    "collections_iterator = byoc.iter_collections()\n",
    "my_collections = list(collections_iterator)\n",
    "my_collections"
   ]
  },
  {
   "cell_type": "code",
   "execution_count": 13,
   "id": "52661039",
   "metadata": {},
   "outputs": [
    {
     "data": {
      "text/plain": [
       "{'id': '3d2a9be6-6c5b-4e7a-87d7-e6ea30e72f78',\n",
       " 'userId': '1f046949-4e02-4859-a4c1-807fc312dc7a',\n",
       " 'name': 'byoc-collection-123',\n",
       " 's3Bucket': '4rd-climate-finance',\n",
       " 'additionalData': {'bands': {'B1': {'bitDepth': 16,\n",
       "    'source': 'B1',\n",
       "    'bandIndex': 1,\n",
       "    'sampleFormat': 'UINT'},\n",
       "   'B2': {'bitDepth': 16,\n",
       "    'source': 'B2',\n",
       "    'bandIndex': 1,\n",
       "    'sampleFormat': 'UINT'}},\n",
       "  'maxMetersPerPixel': 1200.0,\n",
       "  'extent': {'type': 'Polygon',\n",
       "   'coordinates': [[[-4.954224922, 49.180359191],\n",
       "     [-4.954224922, 52.764843732],\n",
       "     [-0.887166211, 52.764843732],\n",
       "     [-0.887166211, 49.180359191],\n",
       "     [-4.954224922, 49.180359191]]]},\n",
       "  'fromSensingTime': '2021-09-07T00:00:00Z',\n",
       "  'toSensingTime': '2022-03-10T00:00:00Z',\n",
       "  'hasSensingTimes': 'YES'},\n",
       " 'noData': 0,\n",
       " 'created': '2022-03-18T13:32:02.367698Z',\n",
       " 'requiresMetadataUpdate': False}"
      ]
     },
     "execution_count": 13,
     "metadata": {},
     "output_type": "execute_result"
    }
   ],
   "source": [
    "# create new collection\n",
    "# new_collection = ByocCollection(name='byoc-collection-123', s3_bucket='4rd-climate-finance')\n",
    "# created_collection = byoc.create_collection(new_collection)\n",
    "for collection in my_collections:\n",
    "    if collection['name'] == 'byoc-collection-123':\n",
    "        created_collection = collection\n",
    "        break\n",
    "created_collection        "
   ]
  },
  {
   "cell_type": "code",
   "execution_count": 14,
   "id": "6a0fe666",
   "metadata": {},
   "outputs": [
    {
     "data": {
      "text/html": [
       "<div>\n",
       "<style scoped>\n",
       "    .dataframe tbody tr th:only-of-type {\n",
       "        vertical-align: middle;\n",
       "    }\n",
       "\n",
       "    .dataframe tbody tr th {\n",
       "        vertical-align: top;\n",
       "    }\n",
       "\n",
       "    .dataframe thead th {\n",
       "        text-align: right;\n",
       "    }\n",
       "</style>\n",
       "<table border=\"1\" class=\"dataframe\">\n",
       "  <thead>\n",
       "    <tr style=\"text-align: right;\">\n",
       "      <th></th>\n",
       "      <th>id</th>\n",
       "      <th>name</th>\n",
       "      <th>created</th>\n",
       "    </tr>\n",
       "  </thead>\n",
       "  <tbody>\n",
       "    <tr>\n",
       "      <th>0</th>\n",
       "      <td>2c709ccd-12bd-42c1-8308-ff8345e4a0d0</td>\n",
       "      <td>another_new_collection</td>\n",
       "      <td>2022-03-17T20:26:55.456140Z</td>\n",
       "    </tr>\n",
       "    <tr>\n",
       "      <th>1</th>\n",
       "      <td>3d2a9be6-6c5b-4e7a-87d7-e6ea30e72f78</td>\n",
       "      <td>byoc-collection-123</td>\n",
       "      <td>2022-03-18T13:32:02.367698Z</td>\n",
       "    </tr>\n",
       "    <tr>\n",
       "      <th>2</th>\n",
       "      <td>94ff6c84-2b9a-4268-a543-a03f75b40dc3</td>\n",
       "      <td>test</td>\n",
       "      <td>2022-03-17T12:22:29.216833Z</td>\n",
       "    </tr>\n",
       "  </tbody>\n",
       "</table>\n",
       "</div>"
      ],
      "text/plain": [
       "                                     id                    name  \\\n",
       "0  2c709ccd-12bd-42c1-8308-ff8345e4a0d0  another_new_collection   \n",
       "1  3d2a9be6-6c5b-4e7a-87d7-e6ea30e72f78     byoc-collection-123   \n",
       "2  94ff6c84-2b9a-4268-a543-a03f75b40dc3                    test   \n",
       "\n",
       "                       created  \n",
       "0  2022-03-17T20:26:55.456140Z  \n",
       "1  2022-03-18T13:32:02.367698Z  \n",
       "2  2022-03-17T12:22:29.216833Z  "
      ]
     },
     "execution_count": 14,
     "metadata": {},
     "output_type": "execute_result"
    }
   ],
   "source": [
    "import pandas as pd\n",
    "\n",
    "# show newly created collection\n",
    "my_collections_df = pd.DataFrame(data=list(byoc.iter_collections()))\n",
    "my_collections_df[['id','name','created']].head()"
   ]
  },
  {
   "cell_type": "code",
   "execution_count": 15,
   "id": "d545c637",
   "metadata": {},
   "outputs": [
    {
     "data": {
      "text/plain": [
       "[ByocTile(path='byoc-collection-123/203025/20211126_000000/(BAND).TIF', other_data={}, status=None, tile_id=None, tile_geometry=None, cover_geometry=None, created=None, sensing_time=datetime.datetime(2021, 11, 26, 0, 0), additional_data=None),\n",
       " ByocTile(path='byoc-collection-123/203024/20220310_000000/(BAND).TIF', other_data={}, status=None, tile_id=None, tile_geometry=None, cover_geometry=None, created=None, sensing_time=datetime.datetime(2022, 3, 10, 0, 0), additional_data=None),\n",
       " ByocTile(path='byoc-collection-123/203025/20210907_000000/(BAND).TIF', other_data={}, status=None, tile_id=None, tile_geometry=None, cover_geometry=None, created=None, sensing_time=datetime.datetime(2021, 9, 7, 0, 0), additional_data=None)]"
      ]
     },
     "execution_count": 15,
     "metadata": {},
     "output_type": "execute_result"
    }
   ],
   "source": [
    "tiles = []\n",
    "for path in set( paths ):\n",
    "    tokens = path.split( '/' )\n",
    "    \n",
    "    dt = datetime.strptime( tokens[ -1 ], '%Y%m%d_%H%M%S' )\n",
    "    tiles.append( ByocTile(\n",
    "                    path=f'{path}/(BAND).TIF',\n",
    "                    sensing_time=dt ) )\n",
    "tiles"
   ]
  },
  {
   "cell_type": "code",
   "execution_count": 16,
   "id": "5b66a8f3",
   "metadata": {},
   "outputs": [
    {
     "ename": "DownloadFailedException",
     "evalue": "Failed to download from:\nhttps://services.sentinel-hub.com/api/v1/byoc/collections/3d2a9be6-6c5b-4e7a-87d7-e6ea30e72f78/tiles\nwith HTTPError:\n409 Client Error: Conflict for url: https://services.sentinel-hub.com/api/v1/byoc/collections/3d2a9be6-6c5b-4e7a-87d7-e6ea30e72f78/tiles\nServer response: \"{\"error\":{\"status\":409,\"reason\":\"Conflict\",\"message\":\"Conflict\",\"code\":\"COMMON_UNIQUE_KEY_VIOLATION\"}}\"",
     "output_type": "error",
     "traceback": [
      "\u001b[1;31m---------------------------------------------------------------------------\u001b[0m",
      "\u001b[1;31mHTTPError\u001b[0m                                 Traceback (most recent call last)",
      "\u001b[1;32m~\\AppData\\Roaming\\Python\\Python39\\site-packages\\sentinelhub\\download\\handlers.py\u001b[0m in \u001b[0;36mnew_download_func\u001b[1;34m(self, request)\u001b[0m\n\u001b[0;32m     21\u001b[0m         \u001b[1;32mtry\u001b[0m\u001b[1;33m:\u001b[0m\u001b[1;33m\u001b[0m\u001b[1;33m\u001b[0m\u001b[0m\n\u001b[1;32m---> 22\u001b[1;33m             \u001b[1;32mreturn\u001b[0m \u001b[0mdownload_func\u001b[0m\u001b[1;33m(\u001b[0m\u001b[0mself\u001b[0m\u001b[1;33m,\u001b[0m \u001b[0mrequest\u001b[0m\u001b[1;33m)\u001b[0m\u001b[1;33m\u001b[0m\u001b[1;33m\u001b[0m\u001b[0m\n\u001b[0m\u001b[0;32m     23\u001b[0m         \u001b[1;32mexcept\u001b[0m \u001b[0mrequests\u001b[0m\u001b[1;33m.\u001b[0m\u001b[0mHTTPError\u001b[0m \u001b[1;32mas\u001b[0m \u001b[0mexception\u001b[0m\u001b[1;33m:\u001b[0m\u001b[1;33m\u001b[0m\u001b[1;33m\u001b[0m\u001b[0m\n",
      "\u001b[1;32m~\\AppData\\Roaming\\Python\\Python39\\site-packages\\sentinelhub\\download\\sentinelhub_client.py\u001b[0m in \u001b[0;36m_execute_download\u001b[1;34m(self, request)\u001b[0m\n\u001b[0;32m     73\u001b[0m \u001b[1;33m\u001b[0m\u001b[0m\n\u001b[1;32m---> 74\u001b[1;33m                 \u001b[0mresponse\u001b[0m\u001b[1;33m.\u001b[0m\u001b[0mraise_for_status\u001b[0m\u001b[1;33m(\u001b[0m\u001b[1;33m)\u001b[0m\u001b[1;33m\u001b[0m\u001b[1;33m\u001b[0m\u001b[0m\n\u001b[0m\u001b[0;32m     75\u001b[0m \u001b[1;33m\u001b[0m\u001b[0m\n",
      "\u001b[1;32m~\\AppData\\Roaming\\Python\\Python39\\site-packages\\requests\\models.py\u001b[0m in \u001b[0;36mraise_for_status\u001b[1;34m(self)\u001b[0m\n\u001b[0;32m    959\u001b[0m         \u001b[1;32mif\u001b[0m \u001b[0mhttp_error_msg\u001b[0m\u001b[1;33m:\u001b[0m\u001b[1;33m\u001b[0m\u001b[1;33m\u001b[0m\u001b[0m\n\u001b[1;32m--> 960\u001b[1;33m             \u001b[1;32mraise\u001b[0m \u001b[0mHTTPError\u001b[0m\u001b[1;33m(\u001b[0m\u001b[0mhttp_error_msg\u001b[0m\u001b[1;33m,\u001b[0m \u001b[0mresponse\u001b[0m\u001b[1;33m=\u001b[0m\u001b[0mself\u001b[0m\u001b[1;33m)\u001b[0m\u001b[1;33m\u001b[0m\u001b[1;33m\u001b[0m\u001b[0m\n\u001b[0m\u001b[0;32m    961\u001b[0m \u001b[1;33m\u001b[0m\u001b[0m\n",
      "\u001b[1;31mHTTPError\u001b[0m: 409 Client Error: Conflict for url: https://services.sentinel-hub.com/api/v1/byoc/collections/3d2a9be6-6c5b-4e7a-87d7-e6ea30e72f78/tiles",
      "\nThe above exception was the direct cause of the following exception:\n",
      "\u001b[1;31mDownloadFailedException\u001b[0m                   Traceback (most recent call last)",
      "\u001b[1;32m~\\AppData\\Local\\Temp/ipykernel_31500/3839715217.py\u001b[0m in \u001b[0;36m<module>\u001b[1;34m\u001b[0m\n\u001b[0;32m      1\u001b[0m \u001b[1;32mfor\u001b[0m \u001b[0mtile\u001b[0m \u001b[1;32min\u001b[0m \u001b[0mtiles\u001b[0m\u001b[1;33m:\u001b[0m\u001b[1;33m\u001b[0m\u001b[1;33m\u001b[0m\u001b[0m\n\u001b[1;32m----> 2\u001b[1;33m     \u001b[0mbyoc\u001b[0m\u001b[1;33m.\u001b[0m\u001b[0mcreate_tile\u001b[0m\u001b[1;33m(\u001b[0m\u001b[0mcreated_collection\u001b[0m\u001b[1;33m,\u001b[0m \u001b[0mtile\u001b[0m \u001b[1;33m)\u001b[0m\u001b[1;33m\u001b[0m\u001b[1;33m\u001b[0m\u001b[0m\n\u001b[0m\u001b[0;32m      3\u001b[0m \u001b[1;33m\u001b[0m\u001b[0m\n\u001b[0;32m      4\u001b[0m \u001b[0mlist\u001b[0m\u001b[1;33m(\u001b[0m\u001b[0mbyoc\u001b[0m\u001b[1;33m.\u001b[0m\u001b[0miter_tiles\u001b[0m\u001b[1;33m(\u001b[0m\u001b[0mcreated_collection\u001b[0m\u001b[1;33m)\u001b[0m\u001b[1;33m)\u001b[0m\u001b[1;33m\u001b[0m\u001b[1;33m\u001b[0m\u001b[0m\n",
      "\u001b[1;32m~\\AppData\\Roaming\\Python\\Python39\\site-packages\\sentinelhub\\sentinelhub_byoc.py\u001b[0m in \u001b[0;36mcreate_tile\u001b[1;34m(self, collection, tile)\u001b[0m\n\u001b[0;32m    189\u001b[0m         \u001b[0m_tile\u001b[0m \u001b[1;33m=\u001b[0m \u001b[0mself\u001b[0m\u001b[1;33m.\u001b[0m\u001b[0m_to_dict\u001b[0m\u001b[1;33m(\u001b[0m\u001b[0mtile\u001b[0m\u001b[1;33m)\u001b[0m\u001b[1;33m\u001b[0m\u001b[1;33m\u001b[0m\u001b[0m\n\u001b[0;32m    190\u001b[0m         \u001b[0murl\u001b[0m \u001b[1;33m=\u001b[0m \u001b[1;34mf'{self.service_url}/collections/{self._parse_id(collection)}/tiles'\u001b[0m\u001b[1;33m\u001b[0m\u001b[1;33m\u001b[0m\u001b[0m\n\u001b[1;32m--> 191\u001b[1;33m         \u001b[1;32mreturn\u001b[0m \u001b[0mself\u001b[0m\u001b[1;33m.\u001b[0m\u001b[0mclient\u001b[0m\u001b[1;33m.\u001b[0m\u001b[0mget_json\u001b[0m\u001b[1;33m(\u001b[0m\u001b[0murl\u001b[0m\u001b[1;33m=\u001b[0m\u001b[0murl\u001b[0m\u001b[1;33m,\u001b[0m \u001b[0mpost_values\u001b[0m\u001b[1;33m=\u001b[0m\u001b[0m_tile\u001b[0m\u001b[1;33m,\u001b[0m \u001b[0muse_session\u001b[0m\u001b[1;33m=\u001b[0m\u001b[1;32mTrue\u001b[0m\u001b[1;33m)\u001b[0m\u001b[1;33m[\u001b[0m\u001b[1;34m'data'\u001b[0m\u001b[1;33m]\u001b[0m\u001b[1;33m\u001b[0m\u001b[1;33m\u001b[0m\u001b[0m\n\u001b[0m\u001b[0;32m    192\u001b[0m \u001b[1;33m\u001b[0m\u001b[0m\n\u001b[0;32m    193\u001b[0m     \u001b[1;32mdef\u001b[0m \u001b[0mupdate_tile\u001b[0m\u001b[1;33m(\u001b[0m\u001b[0mself\u001b[0m\u001b[1;33m,\u001b[0m \u001b[0mcollection\u001b[0m\u001b[1;33m,\u001b[0m \u001b[0mtile\u001b[0m\u001b[1;33m)\u001b[0m\u001b[1;33m:\u001b[0m\u001b[1;33m\u001b[0m\u001b[1;33m\u001b[0m\u001b[0m\n",
      "\u001b[1;32m~\\AppData\\Roaming\\Python\\Python39\\site-packages\\sentinelhub\\download\\client.py\u001b[0m in \u001b[0;36mget_json\u001b[1;34m(self, url, post_values, headers, request_type, **kwargs)\u001b[0m\n\u001b[0;32m    210\u001b[0m                                   data_type=MimeType.JSON, **kwargs)\n\u001b[0;32m    211\u001b[0m \u001b[1;33m\u001b[0m\u001b[0m\n\u001b[1;32m--> 212\u001b[1;33m         \u001b[1;32mreturn\u001b[0m \u001b[0mself\u001b[0m\u001b[1;33m.\u001b[0m\u001b[0m_single_download\u001b[0m\u001b[1;33m(\u001b[0m\u001b[0mrequest\u001b[0m\u001b[1;33m,\u001b[0m \u001b[0mdecode_data\u001b[0m\u001b[1;33m=\u001b[0m\u001b[1;32mTrue\u001b[0m\u001b[1;33m)\u001b[0m\u001b[1;33m\u001b[0m\u001b[1;33m\u001b[0m\u001b[0m\n\u001b[0m\u001b[0;32m    213\u001b[0m \u001b[1;33m\u001b[0m\u001b[0m\n\u001b[0;32m    214\u001b[0m     \u001b[1;32mdef\u001b[0m \u001b[0mget_xml\u001b[0m\u001b[1;33m(\u001b[0m\u001b[0mself\u001b[0m\u001b[1;33m,\u001b[0m \u001b[0murl\u001b[0m\u001b[1;33m,\u001b[0m \u001b[1;33m**\u001b[0m\u001b[0mkwargs\u001b[0m\u001b[1;33m)\u001b[0m\u001b[1;33m:\u001b[0m\u001b[1;33m\u001b[0m\u001b[1;33m\u001b[0m\u001b[0m\n",
      "\u001b[1;32m~\\AppData\\Roaming\\Python\\Python39\\site-packages\\sentinelhub\\download\\client.py\u001b[0m in \u001b[0;36m_single_download\u001b[1;34m(self, request, decode_data)\u001b[0m\n\u001b[0;32m    118\u001b[0m             \u001b[1;32mreturn\u001b[0m \u001b[1;32mNone\u001b[0m\u001b[1;33m\u001b[0m\u001b[1;33m\u001b[0m\u001b[0m\n\u001b[0;32m    119\u001b[0m \u001b[1;33m\u001b[0m\u001b[0m\n\u001b[1;32m--> 120\u001b[1;33m         \u001b[0mresponse_content\u001b[0m \u001b[1;33m=\u001b[0m \u001b[0mself\u001b[0m\u001b[1;33m.\u001b[0m\u001b[0m_execute_download\u001b[0m\u001b[1;33m(\u001b[0m\u001b[0mrequest\u001b[0m\u001b[1;33m)\u001b[0m\u001b[1;33m\u001b[0m\u001b[1;33m\u001b[0m\u001b[0m\n\u001b[0m\u001b[0;32m    121\u001b[0m \u001b[1;33m\u001b[0m\u001b[0m\n\u001b[0;32m    122\u001b[0m         \u001b[1;32mif\u001b[0m \u001b[0mrequest_path\u001b[0m \u001b[1;32mand\u001b[0m \u001b[0mrequest\u001b[0m\u001b[1;33m.\u001b[0m\u001b[0msave_response\u001b[0m \u001b[1;32mand\u001b[0m \u001b[1;33m(\u001b[0m\u001b[0mself\u001b[0m\u001b[1;33m.\u001b[0m\u001b[0mredownload\u001b[0m \u001b[1;32mor\u001b[0m \u001b[1;32mnot\u001b[0m \u001b[0mos\u001b[0m\u001b[1;33m.\u001b[0m\u001b[0mpath\u001b[0m\u001b[1;33m.\u001b[0m\u001b[0mexists\u001b[0m\u001b[1;33m(\u001b[0m\u001b[0mrequest_path\u001b[0m\u001b[1;33m)\u001b[0m\u001b[1;33m)\u001b[0m\u001b[1;33m:\u001b[0m\u001b[1;33m\u001b[0m\u001b[1;33m\u001b[0m\u001b[0m\n",
      "\u001b[1;32m~\\AppData\\Roaming\\Python\\Python39\\site-packages\\sentinelhub\\download\\handlers.py\u001b[0m in \u001b[0;36mnew_download_func\u001b[1;34m(self, request)\u001b[0m\n\u001b[0;32m     42\u001b[0m         \u001b[1;32mfor\u001b[0m \u001b[0mattempt_num\u001b[0m \u001b[1;32min\u001b[0m \u001b[0mrange\u001b[0m\u001b[1;33m(\u001b[0m\u001b[0mdownload_attempts\u001b[0m\u001b[1;33m)\u001b[0m\u001b[1;33m:\u001b[0m\u001b[1;33m\u001b[0m\u001b[1;33m\u001b[0m\u001b[0m\n\u001b[0;32m     43\u001b[0m             \u001b[1;32mtry\u001b[0m\u001b[1;33m:\u001b[0m\u001b[1;33m\u001b[0m\u001b[1;33m\u001b[0m\u001b[0m\n\u001b[1;32m---> 44\u001b[1;33m                 \u001b[1;32mreturn\u001b[0m \u001b[0mdownload_func\u001b[0m\u001b[1;33m(\u001b[0m\u001b[0mself\u001b[0m\u001b[1;33m,\u001b[0m \u001b[0mrequest\u001b[0m\u001b[1;33m)\u001b[0m\u001b[1;33m\u001b[0m\u001b[1;33m\u001b[0m\u001b[0m\n\u001b[0m\u001b[0;32m     45\u001b[0m             \u001b[1;32mexcept\u001b[0m \u001b[0mrequests\u001b[0m\u001b[1;33m.\u001b[0m\u001b[0mRequestException\u001b[0m \u001b[1;32mas\u001b[0m \u001b[0mexception\u001b[0m\u001b[1;33m:\u001b[0m\u001b[1;33m\u001b[0m\u001b[1;33m\u001b[0m\u001b[0m\n\u001b[0;32m     46\u001b[0m \u001b[1;33m\u001b[0m\u001b[0m\n",
      "\u001b[1;32m~\\AppData\\Roaming\\Python\\Python39\\site-packages\\sentinelhub\\download\\handlers.py\u001b[0m in \u001b[0;36mnew_download_func\u001b[1;34m(self, request)\u001b[0m\n\u001b[0;32m     25\u001b[0m                     exception.response.status_code != requests.status_codes.codes.TOO_MANY_REQUESTS):\n\u001b[0;32m     26\u001b[0m \u001b[1;33m\u001b[0m\u001b[0m\n\u001b[1;32m---> 27\u001b[1;33m                 \u001b[1;32mraise\u001b[0m \u001b[0mDownloadFailedException\u001b[0m\u001b[1;33m(\u001b[0m\u001b[0m_create_download_failed_message\u001b[0m\u001b[1;33m(\u001b[0m\u001b[0mexception\u001b[0m\u001b[1;33m,\u001b[0m \u001b[0mrequest\u001b[0m\u001b[1;33m.\u001b[0m\u001b[0murl\u001b[0m\u001b[1;33m)\u001b[0m\u001b[1;33m)\u001b[0m \u001b[1;32mfrom\u001b[0m \u001b[0mexception\u001b[0m\u001b[1;33m\u001b[0m\u001b[1;33m\u001b[0m\u001b[0m\n\u001b[0m\u001b[0;32m     28\u001b[0m             \u001b[1;32mraise\u001b[0m \u001b[0mexception\u001b[0m \u001b[1;32mfrom\u001b[0m \u001b[0mexception\u001b[0m\u001b[1;33m\u001b[0m\u001b[1;33m\u001b[0m\u001b[0m\n\u001b[0;32m     29\u001b[0m \u001b[1;33m\u001b[0m\u001b[0m\n",
      "\u001b[1;31mDownloadFailedException\u001b[0m: Failed to download from:\nhttps://services.sentinel-hub.com/api/v1/byoc/collections/3d2a9be6-6c5b-4e7a-87d7-e6ea30e72f78/tiles\nwith HTTPError:\n409 Client Error: Conflict for url: https://services.sentinel-hub.com/api/v1/byoc/collections/3d2a9be6-6c5b-4e7a-87d7-e6ea30e72f78/tiles\nServer response: \"{\"error\":{\"status\":409,\"reason\":\"Conflict\",\"message\":\"Conflict\",\"code\":\"COMMON_UNIQUE_KEY_VIOLATION\"}}\""
     ]
    }
   ],
   "source": [
    "for tile in tiles:\n",
    "    byoc.create_tile(created_collection, tile )\n",
    "\n",
    "list(byoc.iter_tiles(created_collection))"
   ]
  },
  {
   "cell_type": "code",
   "execution_count": null,
   "id": "c515f34e",
   "metadata": {},
   "outputs": [],
   "source": [
    "list(byoc.iter_tiles(created_collection))"
   ]
  },
  {
   "cell_type": "code",
   "execution_count": null,
   "id": "f9455e1b",
   "metadata": {},
   "outputs": [],
   "source": [
    "data_collection = DataCollection.define_byoc( '3d2a9be6-6c5b-4e7a-87d7-e6ea30e72f78' )\n",
    "data_collection"
   ]
  },
  {
   "cell_type": "code",
   "execution_count": null,
   "id": "9499be8d",
   "metadata": {},
   "outputs": [],
   "source": [
    "from sentinelhub import SentinelHubCatalog\n",
    "catalog = SentinelHubCatalog(config=config)\n",
    "catalog.get_info()"
   ]
  },
  {
   "cell_type": "code",
   "execution_count": null,
   "id": "f9cb8ba8",
   "metadata": {},
   "outputs": [],
   "source": [
    "collections = catalog.get_collections()\n",
    "collections"
   ]
  },
  {
   "cell_type": "code",
   "execution_count": null,
   "id": "3c81c175",
   "metadata": {},
   "outputs": [],
   "source": [
    "def getTimeInterval( timeframe ):\n",
    "\n",
    "    \"\"\"\n",
    "    return time interval tuple\n",
    "    \"\"\"\n",
    "\n",
    "    # get time interval tuple        \n",
    "    tz_format = '%Y-%m-%dT%H:%M:%S%z'\n",
    "    return timeframe[ 'start' ].strftime( tz_format ), timeframe[ 'end' ].strftime( tz_format )"
   ]
  },
  {
   "cell_type": "code",
   "execution_count": null,
   "id": "cb26a716",
   "metadata": {},
   "outputs": [],
   "source": [
    "from sentinelhub import bbox_to_dimensions\n",
    "\n",
    "bbox = BBox([530575, 5595700, 547118, 5606883], crs=CRS(32630))\n",
    "aoi = bbox_to_dimensions( bbox, resolution=30)"
   ]
  },
  {
   "cell_type": "code",
   "execution_count": null,
   "id": "4c8d168d",
   "metadata": {},
   "outputs": [],
   "source": [
    "from datetime import datetime, timedelta\n",
    "\n",
    "timeframe = { 'start' : datetime( 2021, 9, 1, 0, 0, 0 ), \n",
    "                'end' : datetime( 2021, 10, 31, 23, 59, 59 ) }\n",
    "\n",
    "_delta = timedelta(hours=1)\n",
    "\n",
    "# execute search\n",
    "iterator = catalog.search (\n",
    "            data_collection,\n",
    "            bbox=bbox,\n",
    "            time=getTimeInterval( timeframe ),\n",
    "            query=None,\n",
    "            fields=None )\n",
    "\n",
    "# filter timestamps into +- 1 hour groupings\n",
    "timestamps = iterator.get_timestamps()\n",
    "#timestamps = filter_times( timestamps, _delta )\n",
    "timestamps\n"
   ]
  },
  {
   "cell_type": "code",
   "execution_count": null,
   "id": "ea6af487",
   "metadata": {},
   "outputs": [],
   "source": [
    "evalscript = \"\"\"\n",
    "//VERSION=3\n",
    "function setup() {\n",
    "  return {\n",
    "    input: [\"B1\" ],\n",
    "    output: {\n",
    "                bands: 1,\n",
    "                sampleType: \"UINT16\"\n",
    "    }\n",
    "  };\n",
    "}\n",
    "\n",
    "function evaluatePixel(sample) {\n",
    "  return [ sample.B1 ];\n",
    "}\n",
    "\"\"\"\n",
    "\n",
    "request = SentinelHubRequest(\n",
    "    evalscript=evalscript,\n",
    "    input_data=[\n",
    "        SentinelHubRequest.input_data(\n",
    "            data_collection=data_collection,\n",
    "            time_interval=getTimeInterval( timeframe )\n",
    "        )\n",
    "    ],\n",
    "    responses=[\n",
    "        SentinelHubRequest.output_response('default', MimeType.TIFF )\n",
    "    ],\n",
    "    bbox=bbox,\n",
    "    size=aoi,\n",
    "    config=config\n",
    ")"
   ]
  },
  {
   "cell_type": "code",
   "execution_count": null,
   "id": "1cc5e5ca",
   "metadata": {},
   "outputs": [],
   "source": [
    "data = request.get_data()[0]"
   ]
  },
  {
   "cell_type": "code",
   "execution_count": null,
   "id": "378a574e",
   "metadata": {},
   "outputs": [],
   "source": [
    "data"
   ]
  },
  {
   "cell_type": "code",
   "execution_count": null,
   "id": "b00f93fe",
   "metadata": {},
   "outputs": [],
   "source": [
    "import matplotlib.pyplot as plt\n",
    "plt.imshow( data )"
   ]
  },
  {
   "cell_type": "code",
   "execution_count": null,
   "id": "d3ed99ef",
   "metadata": {},
   "outputs": [],
   "source": []
  }
 ],
 "metadata": {
  "kernelspec": {
   "display_name": "Python 3 (ipykernel)",
   "language": "python",
   "name": "python3"
  },
  "language_info": {
   "codemirror_mode": {
    "name": "ipython",
    "version": 3
   },
   "file_extension": ".py",
   "mimetype": "text/x-python",
   "name": "python",
   "nbconvert_exporter": "python",
   "pygments_lexer": "ipython3",
   "version": "3.9.9"
  }
 },
 "nbformat": 4,
 "nbformat_minor": 5
}
