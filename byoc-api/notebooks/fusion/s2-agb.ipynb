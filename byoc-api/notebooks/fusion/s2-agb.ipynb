{
 "cells": [
  {
   "cell_type": "markdown",
   "id": "093d52a3",
   "metadata": {},
   "source": [
    "# Extraction of Collocated ESA CCI Biomass and Sentinel-2 NDVI"
   ]
  },
  {
   "cell_type": "code",
   "execution_count": 1,
   "id": "9a7fdf19",
   "metadata": {},
   "outputs": [
    {
     "data": {
      "text/plain": [
       "'C:\\\\Users\\\\crwil\\\\Documents\\\\GitHub\\\\sentinelhub\\\\byoc-api'"
      ]
     },
     "execution_count": 1,
     "metadata": {},
     "output_type": "execute_result"
    }
   ],
   "source": [
    "import os\n",
    "\n",
    "# define repo name and get root working directory\n",
    "repo = 'byoc-api'\n",
    "root_path = os.getcwd()[ 0 : os.getcwd().find( repo ) + len ( repo )]\n",
    "root_path"
   ]
  },
  {
   "cell_type": "code",
   "execution_count": 2,
   "id": "cd6a2050",
   "metadata": {},
   "outputs": [
    {
     "name": "stdout",
     "output_type": "stream",
     "text": [
      "request:\n",
      "    evalscript: |\n",
      "                //VERSION=3\n",
      "                function setup() {\n",
      "                    return {\n",
      "                        input: [{\n",
      "                            datasource: \"byoc\",\n",
      "                            bands: [ \"agb\", \"agb_sd\" ]\n",
      "                        },\n",
      "                        {\n",
      "                            datasource: \"s2_l2a\",\n",
      "                            bands: [ \"B04\", \"B08\", \"SCL\" ],\n",
      "                        } ],\n",
      "                        output: [\n",
      "                            {id: \"AGB\", bands: 1, sampleType: SampleType.UINT16},\n",
      "                            {id: \"AGB_SD\", bands: 1, sampleType: SampleType.UINT16},\n",
      "                            {id: \"NDVI\", bands: 1, sampleType: SampleType.FLOAT32} \n",
      "                        ]\n",
      "                    }\n",
      "                }\n",
      "                function evaluatePixel(samples) {                                  \n",
      "                    \n",
      "                    var byoc = samples.byoc[0]\n",
      "                    var s2 = samples.s2_l2a[0]\n",
      "                \n",
      "                    var ndvi = -99\n",
      "                    if ([4, 5].includes(s2.SCL)) {\n",
      "                        ndvi = index( s2.B08, s2.B04 )\n",
      "                    }\n",
      "                    \n",
      "                    return {\n",
      "                        AGB: [ byoc.agb ],\n",
      "                        AGB_SD: [ byoc.agb_sd ],\n",
      "                        NDVI: [ ndvi ]\n",
      "                    }\n",
      "                }\n",
      "    inputs:\n",
      "        - collection: SENTINEL2_L2A\n",
      "          id: s2_l2a\n",
      "          options:\n",
      "            processing:\n",
      "                upsampling: BICUBIC \n",
      "                downsampling: BILINEAR\n",
      "          catalog:    \n",
      "            query: |\n",
      "                {\n",
      "                    \"eo:cloud_cover\": {\n",
      "                        \"lt\": 5\n",
      "                    }\n",
      "                }\n",
      "            fields: |\n",
      "                {\n",
      "                    \"include\": [\n",
      "                        \"id\",\n",
      "                        \"properties.datetime\",\n",
      "                        \"properties.eo:cloud_cover\"\n",
      "                    ],\n",
      "                    \"exclude\": []\n",
      "                }   \n",
      "        - collection: byoc-e837d74e-62de-4a99-ba32-cfae72977321\n",
      "          id: byoc\n",
      "          lag: 10000, 10000\n",
      "responses:\n",
      "    AGB: TIFF\n",
      "    AGB_SD: TIFF\n",
      "    NDVI: TIFF\n",
      "\n"
     ]
    }
   ],
   "source": [
    "# get pathname to configuration file\n",
    "cfg_file = os.path.join( os.path.join( root_path, 'cfg' ), 'fusion/s2-agb.yml' )\n",
    "with open( cfg_file ) as f:\n",
    "    print ( f.read() )"
   ]
  },
  {
   "cell_type": "code",
   "execution_count": 3,
   "id": "29442763",
   "metadata": {},
   "outputs": [],
   "source": [
    "import yaml\n",
    "from munch import munchify\n",
    "\n",
    "# load cfg file using yaml parser\n",
    "with open( cfg_file, 'r' ) as f:\n",
    "    config = munchify( yaml.safe_load( f ) )"
   ]
  },
  {
   "cell_type": "markdown",
   "id": "2fe3749d",
   "metadata": {},
   "source": [
    "### _Arbitrary location of a land parcel somewhere in southwest Kenya_"
   ]
  },
  {
   "cell_type": "code",
   "execution_count": 4,
   "id": "5bf23f4a",
   "metadata": {},
   "outputs": [],
   "source": [
    "# setup aoi limits and resolution\n",
    "coords = 35, -0.9, 36, 0.0\n",
    "resolution = 100"
   ]
  },
  {
   "cell_type": "code",
   "execution_count": 5,
   "id": "b10744ef",
   "metadata": {},
   "outputs": [],
   "source": [
    "# create instance of shclient class\n",
    "from processapi import Client\n",
    "client = Client( config )"
   ]
  },
  {
   "cell_type": "code",
   "execution_count": 6,
   "id": "c53560ca",
   "metadata": {},
   "outputs": [
    {
     "name": "stdout",
     "output_type": "stream",
     "text": [
      "722568.1399615373,9900461.841652302,833978.5569194595,10000000.0 32736\n"
     ]
    }
   ],
   "source": [
    "# get utm bbox\n",
    "bbox = client.getBoundingBox( coords )\n",
    "print ( bbox, bbox.crs.value )"
   ]
  },
  {
   "cell_type": "code",
   "execution_count": 7,
   "id": "13b05d57",
   "metadata": {},
   "outputs": [
    {
     "data": {
      "text/plain": [
       "(1114, 995)"
      ]
     },
     "execution_count": 7,
     "metadata": {},
     "output_type": "execute_result"
    }
   ],
   "source": [
    "# get aoi image dimensions\n",
    "client.getBoxDimensions( bbox, resolution )"
   ]
  },
  {
   "cell_type": "markdown",
   "id": "4c39ba9c",
   "metadata": {},
   "source": [
    "### _Define and extract biomass + S2 time-series for autumn 2018_"
   ]
  },
  {
   "cell_type": "code",
   "execution_count": 8,
   "id": "399242cb",
   "metadata": {},
   "outputs": [
    {
     "data": {
      "text/plain": [
       "{'start': datetime.datetime(2018, 9, 1, 0, 0),\n",
       " 'end': datetime.datetime(2018, 11, 7, 23, 59, 59)}"
      ]
     },
     "execution_count": 8,
     "metadata": {},
     "output_type": "execute_result"
    }
   ],
   "source": [
    "# pick a few dates\n",
    "from datetime import datetime\n",
    "timeframe = { 'start' : datetime( 2018, 9, 1, 0, 0, 0 ), \n",
    "                'end' : datetime( 2018, 11, 7, 23, 59, 59 ) }\n",
    "timeframe"
   ]
  },
  {
   "cell_type": "code",
   "execution_count": null,
   "id": "5381328c",
   "metadata": {},
   "outputs": [],
   "source": [
    "# get time series\n",
    "response = client.getTimeSeries ( bbox, timeframe, resolution )\n",
    "response._df"
   ]
  },
  {
   "cell_type": "code",
   "execution_count": null,
   "id": "5a87962e",
   "metadata": {
    "scrolled": false
   },
   "outputs": [],
   "source": [
    "import matplotlib.pyplot as plt\n",
    "\n",
    "_, axes = plt.subplots( nrows=len(response._df), ncols=2, figsize=(20,120) )\n",
    "\n",
    "for idx, row in response._df.iterrows():\n",
    "    axes[ idx ][ 0 ].imshow( row[ 'AGB.tif'] )\n",
    "    axes[ idx ][ 1 ].imshow( row[ 'NDVI.tif'], vmin=-1.0 )"
   ]
  },
  {
   "cell_type": "code",
   "execution_count": null,
   "id": "5703c0bd",
   "metadata": {},
   "outputs": [],
   "source": []
  }
 ],
 "metadata": {
  "kernelspec": {
   "display_name": "Python 3 (ipykernel)",
   "language": "python",
   "name": "python3"
  },
  "language_info": {
   "codemirror_mode": {
    "name": "ipython",
    "version": 3
   },
   "file_extension": ".py",
   "mimetype": "text/x-python",
   "name": "python",
   "nbconvert_exporter": "python",
   "pygments_lexer": "ipython3",
   "version": "3.9.9"
  }
 },
 "nbformat": 4,
 "nbformat_minor": 5
}
