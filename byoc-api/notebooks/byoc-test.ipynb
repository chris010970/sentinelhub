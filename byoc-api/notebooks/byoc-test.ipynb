{
 "cells": [
  {
   "cell_type": "markdown",
   "id": "7b1c2ce8",
   "metadata": {},
   "source": [
    "# Helloworld Extraction of BYOC imagery via Process API Client"
   ]
  },
  {
   "cell_type": "code",
   "execution_count": 1,
   "id": "704969f6",
   "metadata": {},
   "outputs": [
    {
     "data": {
      "text/plain": [
       "'C:\\\\Users\\\\crwil\\\\Documents\\\\GitHub\\\\sentinelhub\\\\byoc-api'"
      ]
     },
     "execution_count": 1,
     "metadata": {},
     "output_type": "execute_result"
    }
   ],
   "source": [
    "import os\n",
    "\n",
    "# define repo name and get root working directory\n",
    "repo = 'byoc-api'\n",
    "root_path = os.getcwd()[ 0 : os.getcwd().find( repo ) + len ( repo )]\n",
    "root_path"
   ]
  },
  {
   "cell_type": "markdown",
   "id": "978deea8",
   "metadata": {},
   "source": [
    "### _Setup imports and configuration_"
   ]
  },
  {
   "cell_type": "code",
   "execution_count": 2,
   "id": "c3589076",
   "metadata": {},
   "outputs": [],
   "source": [
    "from sentinelhub import (\n",
    "    SHConfig, DataCollection, Geometry, BBox, CRS,\n",
    "    SentinelHubRequest, filter_times, bbox_to_dimensions, MimeType,\n",
    "    SentinelHubBYOC, ByocCollection, ByocTile, ByocCollectionAdditionalData,\n",
    "    DownloadFailedException\n",
    ")\n",
    "\n",
    "# Initialize SentinelHubBYOC class\n",
    "config = SHConfig()\n",
    "byoc = SentinelHubBYOC(config=config)"
   ]
  },
  {
   "cell_type": "code",
   "execution_count": 3,
   "id": "0e063a87",
   "metadata": {},
   "outputs": [
    {
     "data": {
      "text/plain": [
       "[{'id': '2c709ccd-12bd-42c1-8308-ff8345e4a0d0',\n",
       "  'userId': '1f046949-4e02-4859-a4c1-807fc312dc7a',\n",
       "  'name': 'another_new_collection',\n",
       "  's3Bucket': '4rd-climate-finance',\n",
       "  'additionalData': {'bands': {'LC09_L2SP_203023_20220310_20220312_02_T1_SR_B1': {'bitDepth': 16,\n",
       "     'source': 'LC09_L2SP_203023_20220310_20220312_02_T1_SR_B1',\n",
       "     'bandIndex': 1,\n",
       "     'sampleFormat': 'UINT'},\n",
       "    'LC09_L2SP_203023_20220310_20220312_02_T1_SR_B2': {'bitDepth': 16,\n",
       "     'source': 'LC09_L2SP_203023_20220310_20220312_02_T1_SR_B2',\n",
       "     'bandIndex': 1,\n",
       "     'sampleFormat': 'UINT'}},\n",
       "   'maxMetersPerPixel': 2400.0,\n",
       "   'extent': {'type': 'Polygon',\n",
       "    'coordinates': [[[-3.789221674, 51.994693002],\n",
       "      [-3.789221674, 54.177840954],\n",
       "      [-0.164235984, 54.177840954],\n",
       "      [-0.164235984, 51.994693002],\n",
       "      [-3.789221674, 51.994693002]]]},\n",
       "   'hasSensingTimes': 'NO'},\n",
       "  'noData': 0,\n",
       "  'created': '2022-03-17T20:26:55.456140Z',\n",
       "  'requiresMetadataUpdate': False},\n",
       " {'id': '3d2a9be6-6c5b-4e7a-87d7-e6ea30e72f78',\n",
       "  'userId': '1f046949-4e02-4859-a4c1-807fc312dc7a',\n",
       "  'name': 'byoc-collection-123',\n",
       "  's3Bucket': '4rd-climate-finance',\n",
       "  'additionalData': {'bands': {'B1': {'bitDepth': 16,\n",
       "     'source': 'B1',\n",
       "     'bandIndex': 1,\n",
       "     'sampleFormat': 'UINT'},\n",
       "    'B2': {'bitDepth': 16,\n",
       "     'source': 'B2',\n",
       "     'bandIndex': 1,\n",
       "     'sampleFormat': 'UINT'}},\n",
       "   'maxMetersPerPixel': 1200.0,\n",
       "   'extent': {'type': 'Polygon',\n",
       "    'coordinates': [[[-4.954224922, 49.180359191],\n",
       "      [-4.954224922, 52.764843732],\n",
       "      [-0.887166211, 52.764843732],\n",
       "      [-0.887166211, 49.180359191],\n",
       "      [-4.954224922, 49.180359191]]]},\n",
       "   'fromSensingTime': '2021-09-07T00:00:00Z',\n",
       "   'toSensingTime': '2022-03-10T00:00:00Z',\n",
       "   'hasSensingTimes': 'YES'},\n",
       "  'noData': 0,\n",
       "  'created': '2022-03-18T13:32:02.367698Z',\n",
       "  'requiresMetadataUpdate': False},\n",
       " {'id': '94ff6c84-2b9a-4268-a543-a03f75b40dc3',\n",
       "  'userId': '1f046949-4e02-4859-a4c1-807fc312dc7a',\n",
       "  'name': 'test',\n",
       "  's3Bucket': '4rd-climate-finance',\n",
       "  'additionalData': {'bands': {'LC09_L2SP_203023_20220310_20220312_02_T1_SR_B1': {'bitDepth': 16,\n",
       "     'source': 'LC09_L2SP_203023_20220310_20220312_02_T1_SR_B1',\n",
       "     'bandIndex': 1,\n",
       "     'sampleFormat': 'UINT'},\n",
       "    'LC09_L2SP_203023_20220310_20220312_02_T1_SR_B2': {'bitDepth': 16,\n",
       "     'source': 'LC09_L2SP_203023_20220310_20220312_02_T1_SR_B2',\n",
       "     'bandIndex': 1,\n",
       "     'sampleFormat': 'UINT'}},\n",
       "   'maxMetersPerPixel': 2400.0,\n",
       "   'extent': {'type': 'Polygon',\n",
       "    'coordinates': [[[-3.789221674, 51.994693002],\n",
       "      [-3.789221674, 54.177840954],\n",
       "      [-0.164235984, 54.177840954],\n",
       "      [-0.164235984, 51.994693002],\n",
       "      [-3.789221674, 51.994693002]]]},\n",
       "   'hasSensingTimes': 'NO'},\n",
       "  'noData': 0,\n",
       "  'created': '2022-03-17T12:22:29.216833Z',\n",
       "  'requiresMetadataUpdate': False}]"
      ]
     },
     "execution_count": 3,
     "metadata": {},
     "output_type": "execute_result"
    }
   ],
   "source": [
    "collections_iterator = byoc.iter_collections()\n",
    "my_collections = list(collections_iterator)\n",
    "my_collections"
   ]
  },
  {
   "cell_type": "code",
   "execution_count": 4,
   "id": "f5d8fe53",
   "metadata": {},
   "outputs": [
    {
     "name": "stdout",
     "output_type": "stream",
     "text": [
      "request:\n",
      "    evalscript: |\n",
      "                //VERSION=3\n",
      "                function setup() {\n",
      "                    return {\n",
      "                      input: [ \"B1\", \"B2\" ],\n",
      "                      output: {\n",
      "                          bands: 2,\n",
      "                          sampleType: \"UINT16\"\n",
      "                      }\n",
      "                    };                  \n",
      "                }\n",
      "                function evaluatePixel(sample) {\n",
      "                    return [ sample.B1, sample.B2 ];\n",
      "                }\n",
      "    inputs:\n",
      "        - collection: byoc-3d2a9be6-6c5b-4e7a-87d7-e6ea30e72f78\n",
      "responses:\n",
      "    default: TIFF\n",
      "\n"
     ]
    }
   ],
   "source": [
    "# get pathname to configuration file\n",
    "cfg_file = os.path.join( os.path.join( root_path, 'cfg' ), 'simple-timeseries.yml' )\n",
    "with open( cfg_file ) as f:\n",
    "    print ( f.read() )"
   ]
  },
  {
   "cell_type": "code",
   "execution_count": 5,
   "id": "1f087a21",
   "metadata": {},
   "outputs": [],
   "source": [
    "import yaml\n",
    "from munch import munchify\n",
    "\n",
    "# load cfg file using yaml parser\n",
    "with open( cfg_file, 'r' ) as f:\n",
    "    config = munchify( yaml.safe_load( f ) )"
   ]
  },
  {
   "cell_type": "markdown",
   "id": "81fb5dc0",
   "metadata": {},
   "source": [
    "### _Define Area of Interest collocated with Isle of Portland_"
   ]
  },
  {
   "cell_type": "code",
   "execution_count": 6,
   "id": "d63dc944",
   "metadata": {},
   "outputs": [],
   "source": [
    "# setup aoi limits and resolution\n",
    "coords = 530575, 5595700, 547118, 5606883\n",
    "resolution = 30"
   ]
  },
  {
   "cell_type": "code",
   "execution_count": 7,
   "id": "fabc94b3",
   "metadata": {},
   "outputs": [],
   "source": [
    "# create instance of shclient class\n",
    "from processapi import Client\n",
    "client = Client( config )"
   ]
  },
  {
   "cell_type": "code",
   "execution_count": 8,
   "id": "ef27a910",
   "metadata": {},
   "outputs": [
    {
     "name": "stdout",
     "output_type": "stream",
     "text": [
      "530575.0,5595700.0,547118.0,5606883.0 32630\n"
     ]
    }
   ],
   "source": [
    "# get utm bbox\n",
    "bbox = client.getBoundingBox( coords, src_crs=CRS(32630) )\n",
    "print ( bbox, bbox.crs.value )"
   ]
  },
  {
   "cell_type": "code",
   "execution_count": 9,
   "id": "8b749ed8",
   "metadata": {},
   "outputs": [
    {
     "data": {
      "text/plain": [
       "(551, 373)"
      ]
     },
     "execution_count": 9,
     "metadata": {},
     "output_type": "execute_result"
    }
   ],
   "source": [
    "# get aoi image dimensions\n",
    "client.getBoxDimensions( bbox, resolution )"
   ]
  },
  {
   "cell_type": "code",
   "execution_count": 10,
   "id": "ef53919a",
   "metadata": {},
   "outputs": [
    {
     "data": {
      "text/plain": [
       "{'start': datetime.datetime(2021, 9, 1, 0, 0),\n",
       " 'end': datetime.datetime(2021, 11, 7, 23, 59, 59)}"
      ]
     },
     "execution_count": 10,
     "metadata": {},
     "output_type": "execute_result"
    }
   ],
   "source": [
    "# pick a few dates\n",
    "from datetime import datetime\n",
    "timeframe = { 'start' : datetime( 2021, 9, 1, 0, 0, 0 ), \n",
    "                'end' : datetime( 2021, 11, 7, 23, 59, 59 ) }\n",
    "timeframe"
   ]
  },
  {
   "cell_type": "markdown",
   "id": "fba9445a",
   "metadata": {},
   "source": [
    "### _Validate BYOC collection timestamps and imagery accessible via Process API Client_"
   ]
  },
  {
   "cell_type": "code",
   "execution_count": 11,
   "id": "fa49d236",
   "metadata": {},
   "outputs": [
    {
     "data": {
      "text/plain": [
       "[datetime.datetime(2021, 9, 7, 0, 0, tzinfo=tzutc())]"
      ]
     },
     "execution_count": 11,
     "metadata": {},
     "output_type": "execute_result"
    }
   ],
   "source": [
    "# get S1 acquisitions between start / end dates satisfying filter conditions\n",
    "client.getDatasetTimeStamps( config.request.inputs[ 0 ], bbox, timeframe )"
   ]
  },
  {
   "cell_type": "code",
   "execution_count": 12,
   "id": "fe4ce22b",
   "metadata": {},
   "outputs": [
    {
     "data": {
      "text/html": [
       "<div>\n",
       "<style scoped>\n",
       "    .dataframe tbody tr th:only-of-type {\n",
       "        vertical-align: middle;\n",
       "    }\n",
       "\n",
       "    .dataframe tbody tr th {\n",
       "        vertical-align: top;\n",
       "    }\n",
       "\n",
       "    .dataframe thead th {\n",
       "        text-align: right;\n",
       "    }\n",
       "</style>\n",
       "<table border=\"1\" class=\"dataframe\">\n",
       "  <thead>\n",
       "    <tr style=\"text-align: right;\">\n",
       "      <th></th>\n",
       "      <th>default</th>\n",
       "      <th>time</th>\n",
       "    </tr>\n",
       "  </thead>\n",
       "  <tbody>\n",
       "    <tr>\n",
       "      <th>0</th>\n",
       "      <td>[[[7320, 7540], [7303, 7530], [7308, 7551], [7...</td>\n",
       "      <td>2021-09-07 00:00:00+00:00</td>\n",
       "    </tr>\n",
       "  </tbody>\n",
       "</table>\n",
       "</div>"
      ],
      "text/plain": [
       "                                             default                      time\n",
       "0  [[[7320, 7540], [7303, 7530], [7308, 7551], [7... 2021-09-07 00:00:00+00:00"
      ]
     },
     "execution_count": 12,
     "metadata": {},
     "output_type": "execute_result"
    }
   ],
   "source": [
    "# get time series\n",
    "response = client.getTimeSeries ( bbox, timeframe, resolution )\n",
    "response._df"
   ]
  },
  {
   "cell_type": "code",
   "execution_count": null,
   "id": "eaeaee9a",
   "metadata": {},
   "outputs": [],
   "source": []
  }
 ],
 "metadata": {
  "kernelspec": {
   "display_name": "Python 3 (ipykernel)",
   "language": "python",
   "name": "python3"
  },
  "language_info": {
   "codemirror_mode": {
    "name": "ipython",
    "version": 3
   },
   "file_extension": ".py",
   "mimetype": "text/x-python",
   "name": "python",
   "nbconvert_exporter": "python",
   "pygments_lexer": "ipython3",
   "version": "3.9.9"
  }
 },
 "nbformat": 4,
 "nbformat_minor": 5
}
