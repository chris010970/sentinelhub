{
 "cells": [
  {
   "cell_type": "code",
   "execution_count": 1,
   "id": "c7c85227",
   "metadata": {},
   "outputs": [],
   "source": [
    "from sentinelhub import SHConfig, BBox, CRS, DataCollection\n",
    "config = SHConfig()"
   ]
  },
  {
   "cell_type": "code",
   "execution_count": 2,
   "id": "66650591",
   "metadata": {},
   "outputs": [
    {
     "data": {
      "text/plain": [
       "{'stac_version': '0.9.0',\n",
       " 'stac_extensions': [],\n",
       " 'id': 'sentinel-hub',\n",
       " 'title': 'Sentinel Hub STAC catalog',\n",
       " 'description': 'STAC v0.9.0 implementation by Sentinel Hub',\n",
       " 'links': [{'href': 'https://services.sentinel-hub.com/api/v1/catalog/',\n",
       "   'rel': 'self'},\n",
       "  {'href': 'https://services.sentinel-hub.com/api/v1/catalog/conformance',\n",
       "   'rel': 'conformance'},\n",
       "  {'href': 'https://services.sentinel-hub.com/api/v1/catalog/search',\n",
       "   'rel': 'search'},\n",
       "  {'href': 'https://services.sentinel-hub.com/api/v1/catalog/collections',\n",
       "   'rel': 'data'},\n",
       "  {'href': 'https://services.sentinel-hub.com/api/v1/catalog/collections/sentinel-2-l1c',\n",
       "   'rel': 'child'},\n",
       "  {'href': 'https://services.sentinel-hub.com/api/v1/catalog/collections/sentinel-1-grd',\n",
       "   'rel': 'child'},\n",
       "  {'href': 'https://services.sentinel-hub.com/api/v1/catalog/collections/sentinel-2-l2a',\n",
       "   'rel': 'child'}]}"
      ]
     },
     "execution_count": 2,
     "metadata": {},
     "output_type": "execute_result"
    }
   ],
   "source": [
    "from sentinelhub import SentinelHubCatalog\n",
    "\n",
    "catalog = SentinelHubCatalog(config=config)\n",
    "catalog.get_info()"
   ]
  },
  {
   "cell_type": "code",
   "execution_count": 3,
   "id": "efa99af4",
   "metadata": {},
   "outputs": [
    {
     "data": {
      "text/plain": [
       "[{'stac_version': '0.9.0',\n",
       "  'id': 'sentinel-2-l1c',\n",
       "  'title': 'Sentinel 2 L1C',\n",
       "  'description': 'Sentinel 2 imagery processed to level 1C',\n",
       "  'links': [{'href': 'https://services.sentinel-hub.com/api/v1/catalog/collections/sentinel-2-l1c',\n",
       "    'rel': 'self'},\n",
       "   {'href': 'https://services.sentinel-hub.com/api/v1/catalog/collections/sentinel-2-l1c/items',\n",
       "    'rel': 'items'}],\n",
       "  'license': 'proprietary',\n",
       "  'providers': [{'name': 'ESA',\n",
       "    'roles': ['producer'],\n",
       "    'url': 'https://esa.int/'},\n",
       "   {'name': 'AWS', 'roles': ['host'], 'url': 'https://aws.amazon.com/'},\n",
       "   {'name': 'Sinergise',\n",
       "    'roles': ['processor'],\n",
       "    'url': 'https://www.sinergise.com/'}],\n",
       "  'extent': {'spatial': {'bbox': [[-180.0, -56.0, 180.0, 83.0]]},\n",
       "   'temporal': {'interval': [['2015-11-01T00:00:00Z', None]]}}},\n",
       " {'stac_version': '0.9.0',\n",
       "  'id': 'sentinel-1-grd',\n",
       "  'title': 'Sentinel 1 GRD',\n",
       "  'description': 'Sentinel 1 Ground Range Detected Imagery',\n",
       "  'links': [{'href': 'https://services.sentinel-hub.com/api/v1/catalog/collections/sentinel-1-grd',\n",
       "    'rel': 'self'},\n",
       "   {'href': 'https://services.sentinel-hub.com/api/v1/catalog/collections/sentinel-1-grd/items',\n",
       "    'rel': 'items'}],\n",
       "  'license': 'proprietary',\n",
       "  'providers': [{'name': 'ESA',\n",
       "    'roles': ['producer'],\n",
       "    'url': 'https://esa.int/'},\n",
       "   {'name': 'AWS', 'roles': ['host'], 'url': 'https://aws.amazon.com/'},\n",
       "   {'name': 'Sinergise',\n",
       "    'roles': ['processor'],\n",
       "    'url': 'https://www.sinergise.com/'}],\n",
       "  'extent': {'spatial': {'bbox': [[-180.0, -85.0, 180.0, 85.0]]},\n",
       "   'temporal': {'interval': [['2017-01-01T00:00:00Z', None]]}}},\n",
       " {'stac_version': '0.9.0',\n",
       "  'id': 'sentinel-2-l2a',\n",
       "  'title': 'Sentinel 2 L2A',\n",
       "  'description': 'Sentinel 2 imagery processed to level 2A',\n",
       "  'links': [{'href': 'https://services.sentinel-hub.com/api/v1/catalog/collections/sentinel-2-l2a',\n",
       "    'rel': 'self'},\n",
       "   {'href': 'https://services.sentinel-hub.com/api/v1/catalog/collections/sentinel-2-l2a/items',\n",
       "    'rel': 'items'}],\n",
       "  'license': 'proprietary',\n",
       "  'providers': [{'name': 'ESA',\n",
       "    'roles': ['producer'],\n",
       "    'url': 'https://esa.int/'},\n",
       "   {'name': 'AWS', 'roles': ['host'], 'url': 'https://aws.amazon.com/'},\n",
       "   {'name': 'Sinergise',\n",
       "    'roles': ['processor'],\n",
       "    'url': 'https://www.sinergise.com/'}],\n",
       "  'extent': {'spatial': {'bbox': [[-180.0, -56.0, 180.0, 83.0]]},\n",
       "   'temporal': {'interval': [['2016-11-01T00:00:00Z', None]]}}}]"
      ]
     },
     "execution_count": 3,
     "metadata": {},
     "output_type": "execute_result"
    }
   ],
   "source": [
    "collections = catalog.get_collections()\n",
    "collections = [collection for collection in collections if not collection['id'].startswith(('byoc', 'batch'))]\n",
    "collections"
   ]
  },
  {
   "cell_type": "code",
   "execution_count": 4,
   "id": "a5f53cbd",
   "metadata": {},
   "outputs": [
    {
     "data": {
      "text/plain": [
       "{'stac_version': '0.9.0',\n",
       " 'stac_extensions': [],\n",
       " 'id': 'sentinel-hub',\n",
       " 'title': 'Sentinel Hub STAC catalog',\n",
       " 'description': 'STAC v0.9.0 implementation by Sentinel Hub',\n",
       " 'links': [{'href': 'https://services-uswest2.sentinel-hub.com/api/v1/catalog/',\n",
       "   'rel': 'self'},\n",
       "  {'href': 'https://services-uswest2.sentinel-hub.com/api/v1/catalog/conformance',\n",
       "   'rel': 'conformance'},\n",
       "  {'href': 'https://services-uswest2.sentinel-hub.com/api/v1/catalog/search',\n",
       "   'rel': 'search'},\n",
       "  {'href': 'https://services-uswest2.sentinel-hub.com/api/v1/catalog/collections',\n",
       "   'rel': 'data'},\n",
       "  {'href': 'https://services-uswest2.sentinel-hub.com/api/v1/catalog/collections/landsat-mss-l1',\n",
       "   'rel': 'child'},\n",
       "  {'href': 'https://services-uswest2.sentinel-hub.com/api/v1/catalog/collections/landsat-ot-l1',\n",
       "   'rel': 'child'},\n",
       "  {'href': 'https://services-uswest2.sentinel-hub.com/api/v1/catalog/collections/landsat-8-l1c',\n",
       "   'rel': 'child'},\n",
       "  {'href': 'https://services-uswest2.sentinel-hub.com/api/v1/catalog/collections/landsat-ot-l2',\n",
       "   'rel': 'child'},\n",
       "  {'href': 'https://services-uswest2.sentinel-hub.com/api/v1/catalog/collections/landsat-tm-l2',\n",
       "   'rel': 'child'},\n",
       "  {'href': 'https://services-uswest2.sentinel-hub.com/api/v1/catalog/collections/landsat-tm-l1',\n",
       "   'rel': 'child'},\n",
       "  {'href': 'https://services-uswest2.sentinel-hub.com/api/v1/catalog/collections/landsat-etm-l1',\n",
       "   'rel': 'child'},\n",
       "  {'href': 'https://services-uswest2.sentinel-hub.com/api/v1/catalog/collections/landsat-etm-l2',\n",
       "   'rel': 'child'},\n",
       "  {'href': 'https://services-uswest2.sentinel-hub.com/api/v1/catalog/collections/modis',\n",
       "   'rel': 'child'}]}"
      ]
     },
     "execution_count": 4,
     "metadata": {},
     "output_type": "execute_result"
    }
   ],
   "source": [
    "uswest_config = SHConfig()\n",
    "uswest_config.sh_base_url = 'https://services-uswest2.sentinel-hub.com'\n",
    "uswest_catalog = SentinelHubCatalog(config=uswest_config)\n",
    "uswest_catalog.get_info()"
   ]
  },
  {
   "cell_type": "code",
   "execution_count": 5,
   "id": "67814ea0",
   "metadata": {},
   "outputs": [
    {
     "data": {
      "text/plain": [
       "{'stac_version': '0.9.0',\n",
       " 'stac_extensions': [],\n",
       " 'id': 'sentinel-hub',\n",
       " 'title': 'Sentinel Hub STAC catalog',\n",
       " 'description': 'STAC v0.9.0 implementation by Sentinel Hub',\n",
       " 'links': [{'href': 'https://creodias.sentinel-hub.com/api/v1/catalog/',\n",
       "   'rel': 'self'},\n",
       "  {'href': 'https://creodias.sentinel-hub.com/api/v1/catalog/conformance',\n",
       "   'rel': 'conformance'},\n",
       "  {'href': 'https://creodias.sentinel-hub.com/api/v1/catalog/search',\n",
       "   'rel': 'search'},\n",
       "  {'href': 'https://creodias.sentinel-hub.com/api/v1/catalog/collections',\n",
       "   'rel': 'data'},\n",
       "  {'href': 'https://creodias.sentinel-hub.com/api/v1/catalog/collections/sentinel-2-l1c',\n",
       "   'rel': 'child'},\n",
       "  {'href': 'https://creodias.sentinel-hub.com/api/v1/catalog/collections/sentinel-3-olci',\n",
       "   'rel': 'child'},\n",
       "  {'href': 'https://creodias.sentinel-hub.com/api/v1/catalog/collections/sentinel-3-slstr',\n",
       "   'rel': 'child'},\n",
       "  {'href': 'https://creodias.sentinel-hub.com/api/v1/catalog/collections/sentinel-2-l2a',\n",
       "   'rel': 'child'},\n",
       "  {'href': 'https://creodias.sentinel-hub.com/api/v1/catalog/collections/sentinel-5p-l2',\n",
       "   'rel': 'child'}]}"
      ]
     },
     "execution_count": 5,
     "metadata": {},
     "output_type": "execute_result"
    }
   ],
   "source": [
    "creodias_config = SHConfig()\n",
    "creodias_config.sh_base_url = DataCollection.SENTINEL5P.service_url\n",
    "creodias_catalog = SentinelHubCatalog(config=creodias_config)\n",
    "creodias_catalog.get_info()"
   ]
  },
  {
   "cell_type": "code",
   "execution_count": 6,
   "id": "2dde397c",
   "metadata": {},
   "outputs": [
    {
     "data": {
      "text/plain": [
       "{'stac_version': '0.9.0',\n",
       " 'stac_extensions': [],\n",
       " 'id': 'sentinel-hub',\n",
       " 'title': 'Sentinel Hub STAC catalog',\n",
       " 'description': 'STAC v0.9.0 implementation by Sentinel Hub',\n",
       " 'links': [{'href': 'https://creodias.sentinel-hub.com/api/v1/catalog/',\n",
       "   'rel': 'self'},\n",
       "  {'href': 'https://creodias.sentinel-hub.com/api/v1/catalog/conformance',\n",
       "   'rel': 'conformance'},\n",
       "  {'href': 'https://creodias.sentinel-hub.com/api/v1/catalog/search',\n",
       "   'rel': 'search'},\n",
       "  {'href': 'https://creodias.sentinel-hub.com/api/v1/catalog/collections',\n",
       "   'rel': 'data'},\n",
       "  {'href': 'https://creodias.sentinel-hub.com/api/v1/catalog/collections/sentinel-2-l1c',\n",
       "   'rel': 'child'},\n",
       "  {'href': 'https://creodias.sentinel-hub.com/api/v1/catalog/collections/sentinel-3-olci',\n",
       "   'rel': 'child'},\n",
       "  {'href': 'https://creodias.sentinel-hub.com/api/v1/catalog/collections/sentinel-3-slstr',\n",
       "   'rel': 'child'},\n",
       "  {'href': 'https://creodias.sentinel-hub.com/api/v1/catalog/collections/sentinel-2-l2a',\n",
       "   'rel': 'child'},\n",
       "  {'href': 'https://creodias.sentinel-hub.com/api/v1/catalog/collections/sentinel-5p-l2',\n",
       "   'rel': 'child'}]}"
      ]
     },
     "execution_count": 6,
     "metadata": {},
     "output_type": "execute_result"
    }
   ],
   "source": [
    "creodias_config = SHConfig()\n",
    "creodias_config.sh_base_url = 'https://creodias.sentinel-hub.com'\n",
    "creodias_catalog = SentinelHubCatalog(config=creodias_config)\n",
    "creodias_catalog.get_info()"
   ]
  },
  {
   "cell_type": "code",
   "execution_count": null,
   "id": "610e10fe",
   "metadata": {},
   "outputs": [],
   "source": []
  }
 ],
 "metadata": {
  "kernelspec": {
   "display_name": "Python 3 (ipykernel)",
   "language": "python",
   "name": "python3"
  },
  "language_info": {
   "codemirror_mode": {
    "name": "ipython",
    "version": 3
   },
   "file_extension": ".py",
   "mimetype": "text/x-python",
   "name": "python",
   "nbconvert_exporter": "python",
   "pygments_lexer": "ipython3",
   "version": "3.9.9"
  }
 },
 "nbformat": 4,
 "nbformat_minor": 5
}
